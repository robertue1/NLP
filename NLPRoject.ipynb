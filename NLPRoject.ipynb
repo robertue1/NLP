{
 "cells": [
  {
   "cell_type": "code",
   "execution_count": 795,
   "id": "d8fd2e4a",
   "metadata": {},
   "outputs": [],
   "source": [
    "#Indepedend notebook from the Tweets acquisition.\n"
   ]
  },
  {
   "cell_type": "code",
   "execution_count": 1037,
   "id": "a05cb95f",
   "metadata": {},
   "outputs": [],
   "source": [
    "import pandas as pd\n",
    "import numpy as np\n",
    "import re\n",
    "import string\n",
    "from collections import Counter\n",
    "import seaborn as sns\n",
    "import matplotlib.pyplot as plt\n",
    "from textblob import TextBlob\n",
    "\n",
    "\n",
    "\n",
    "#Modeling\n",
    "from sklearn.feature_extraction.text import TfidfVectorizer, CountVectorizer, ENGLISH_STOP_WORDS\n",
    "from sklearn.decomposition import NMF, TruncatedSVD, LatentDirichletAllocation\n",
    "import gensim\n",
    "from nltk.stem import WordNetLemmatizer\n",
    "\n",
    "from corextopic import corextopic as ct\n",
    "from corextopic import vis_topic as vt\n",
    "\n",
    "\n",
    "\n",
    "\n",
    "\n",
    "import warnings\n",
    "warnings.filterwarnings('ignore')\n",
    "pd.set_option('display.float_format', lambda x: '%.5f' % x)"
   ]
  },
  {
   "cell_type": "code",
   "execution_count": 69,
   "id": "afa6c63b",
   "metadata": {},
   "outputs": [],
   "source": [
    "df = pd.read_csv('rawtweets.csv')"
   ]
  },
  {
   "cell_type": "code",
   "execution_count": 70,
   "id": "07c10851",
   "metadata": {
    "scrolled": true
   },
   "outputs": [
    {
     "name": "stdout",
     "output_type": "stream",
     "text": [
      "<class 'pandas.core.frame.DataFrame'>\n",
      "RangeIndex: 3872 entries, 0 to 3871\n",
      "Data columns (total 29 columns):\n",
      " #   Column            Non-Null Count  Dtype  \n",
      "---  ------            --------------  -----  \n",
      " 0   Unnamed: 0        3872 non-null   int64  \n",
      " 1   _type             3872 non-null   object \n",
      " 2   url               3872 non-null   object \n",
      " 3   date              3872 non-null   object \n",
      " 4   content           3872 non-null   object \n",
      " 5   renderedContent   3872 non-null   object \n",
      " 6   id                3872 non-null   int64  \n",
      " 7   user              3872 non-null   object \n",
      " 8   replyCount        3872 non-null   int64  \n",
      " 9   retweetCount      3872 non-null   int64  \n",
      " 10  likeCount         3872 non-null   int64  \n",
      " 11  quoteCount        3872 non-null   int64  \n",
      " 12  conversationId    3872 non-null   int64  \n",
      " 13  lang              3872 non-null   object \n",
      " 14  source            3872 non-null   object \n",
      " 15  sourceUrl         3872 non-null   object \n",
      " 16  sourceLabel       3872 non-null   object \n",
      " 17  outlinks          2519 non-null   object \n",
      " 18  tcooutlinks       2519 non-null   object \n",
      " 19  media             1042 non-null   object \n",
      " 20  retweetedTweet    0 non-null      float64\n",
      " 21  quotedTweet       137 non-null    object \n",
      " 22  inReplyToTweetId  523 non-null    float64\n",
      " 23  inReplyToUser     523 non-null    object \n",
      " 24  mentionedUsers    2641 non-null   object \n",
      " 25  coordinates       255 non-null    object \n",
      " 26  place             255 non-null    object \n",
      " 27  hashtags          3163 non-null   object \n",
      " 28  cashtags          0 non-null      float64\n",
      "dtypes: float64(3), int64(7), object(19)\n",
      "memory usage: 877.4+ KB\n"
     ]
    }
   ],
   "source": [
    "df.info()"
   ]
  },
  {
   "cell_type": "code",
   "execution_count": 179,
   "id": "51715e28",
   "metadata": {
    "scrolled": true
   },
   "outputs": [
    {
     "data": {
      "text/html": [
       "<div>\n",
       "<style scoped>\n",
       "    .dataframe tbody tr th:only-of-type {\n",
       "        vertical-align: middle;\n",
       "    }\n",
       "\n",
       "    .dataframe tbody tr th {\n",
       "        vertical-align: top;\n",
       "    }\n",
       "\n",
       "    .dataframe thead th {\n",
       "        text-align: right;\n",
       "    }\n",
       "</style>\n",
       "<table border=\"1\" class=\"dataframe\">\n",
       "  <thead>\n",
       "    <tr style=\"text-align: right;\">\n",
       "      <th></th>\n",
       "      <th>Unnamed: 0</th>\n",
       "      <th>_type</th>\n",
       "      <th>url</th>\n",
       "      <th>date</th>\n",
       "      <th>content</th>\n",
       "      <th>renderedContent</th>\n",
       "      <th>id</th>\n",
       "      <th>user</th>\n",
       "      <th>replyCount</th>\n",
       "      <th>retweetCount</th>\n",
       "      <th>...</th>\n",
       "      <th>retweetedTweet</th>\n",
       "      <th>quotedTweet</th>\n",
       "      <th>inReplyToTweetId</th>\n",
       "      <th>inReplyToUser</th>\n",
       "      <th>mentionedUsers</th>\n",
       "      <th>coordinates</th>\n",
       "      <th>place</th>\n",
       "      <th>hashtags</th>\n",
       "      <th>cashtags</th>\n",
       "      <th>clean</th>\n",
       "    </tr>\n",
       "  </thead>\n",
       "  <tbody>\n",
       "    <tr>\n",
       "      <th>1015</th>\n",
       "      <td>1015</td>\n",
       "      <td>snscrape.modules.twitter.Tweet</td>\n",
       "      <td>https://twitter.com/marissasaretsky/status/855...</td>\n",
       "      <td>2017-04-21 23:31:39+00:00</td>\n",
       "      <td>Thank you @Patagonia #wornwear for fixing my z...</td>\n",
       "      <td>Thank you @Patagonia #wornwear for fixing my z...</td>\n",
       "      <td>855564721545560065</td>\n",
       "      <td>{'_type': 'snscrape.modules.twitter.User', 'us...</td>\n",
       "      <td>0</td>\n",
       "      <td>0</td>\n",
       "      <td>...</td>\n",
       "      <td>NaN</td>\n",
       "      <td>NaN</td>\n",
       "      <td>NaN</td>\n",
       "      <td>NaN</td>\n",
       "      <td>[{'_type': 'snscrape.modules.twitter.User', 'u...</td>\n",
       "      <td>NaN</td>\n",
       "      <td>NaN</td>\n",
       "      <td>['wornwear', 'patagoniacasecomp']</td>\n",
       "      <td>NaN</td>\n",
       "      <td>thank you for fixing my zippers and ripped sea...</td>\n",
       "    </tr>\n",
       "    <tr>\n",
       "      <th>501</th>\n",
       "      <td>501</td>\n",
       "      <td>snscrape.modules.twitter.Tweet</td>\n",
       "      <td>https://twitter.com/leecentralcoast/status/119...</td>\n",
       "      <td>2019-11-25 17:24:24+00:00</td>\n",
       "      <td>Worn Wear was launched online in 2017 and has ...</td>\n",
       "      <td>Worn Wear was launched online in 2017 and has ...</td>\n",
       "      <td>1199015995224055809</td>\n",
       "      <td>{'_type': 'snscrape.modules.twitter.User', 'us...</td>\n",
       "      <td>0</td>\n",
       "      <td>0</td>\n",
       "      <td>...</td>\n",
       "      <td>NaN</td>\n",
       "      <td>NaN</td>\n",
       "      <td>NaN</td>\n",
       "      <td>NaN</td>\n",
       "      <td>NaN</td>\n",
       "      <td>NaN</td>\n",
       "      <td>NaN</td>\n",
       "      <td>['patagonia', 'cre', 'retail', 'wornwear']</td>\n",
       "      <td>NaN</td>\n",
       "      <td>worn wear was launched online in 2017 and has ...</td>\n",
       "    </tr>\n",
       "    <tr>\n",
       "      <th>856</th>\n",
       "      <td>856</td>\n",
       "      <td>snscrape.modules.twitter.Tweet</td>\n",
       "      <td>https://twitter.com/fshn_evolution/status/9235...</td>\n",
       "      <td>2017-10-26 13:27:24+00:00</td>\n",
       "      <td>Patagonia's #WornWear Website Encourages a New...</td>\n",
       "      <td>Patagonia's #WornWear Website Encourages a New...</td>\n",
       "      <td>923541574667120640</td>\n",
       "      <td>{'_type': 'snscrape.modules.twitter.User', 'us...</td>\n",
       "      <td>0</td>\n",
       "      <td>0</td>\n",
       "      <td>...</td>\n",
       "      <td>NaN</td>\n",
       "      <td>NaN</td>\n",
       "      <td>NaN</td>\n",
       "      <td>NaN</td>\n",
       "      <td>NaN</td>\n",
       "      <td>NaN</td>\n",
       "      <td>NaN</td>\n",
       "      <td>['WornWear', 'SustainableFashion']</td>\n",
       "      <td>NaN</td>\n",
       "      <td>patagonia's website encourages a new level of</td>\n",
       "    </tr>\n",
       "    <tr>\n",
       "      <th>1645</th>\n",
       "      <td>1645</td>\n",
       "      <td>snscrape.modules.twitter.Tweet</td>\n",
       "      <td>https://twitter.com/Canoeinc/status/7228359916...</td>\n",
       "      <td>2016-04-20 17:15:04+00:00</td>\n",
       "      <td>What’s the easiest way to reduce our impact on...</td>\n",
       "      <td>What’s the easiest way to reduce our impact on...</td>\n",
       "      <td>722835991602442240</td>\n",
       "      <td>{'_type': 'snscrape.modules.twitter.User', 'us...</td>\n",
       "      <td>0</td>\n",
       "      <td>0</td>\n",
       "      <td>...</td>\n",
       "      <td>NaN</td>\n",
       "      <td>NaN</td>\n",
       "      <td>NaN</td>\n",
       "      <td>NaN</td>\n",
       "      <td>[{'_type': 'snscrape.modules.twitter.User', 'u...</td>\n",
       "      <td>NaN</td>\n",
       "      <td>NaN</td>\n",
       "      <td>['WornWear']</td>\n",
       "      <td>NaN</td>\n",
       "      <td>what’s the easiest way to reduce our impact on...</td>\n",
       "    </tr>\n",
       "    <tr>\n",
       "      <th>3654</th>\n",
       "      <td>1154</td>\n",
       "      <td>snscrape.modules.twitter.Tweet</td>\n",
       "      <td>https://twitter.com/IMMtyler/status/4053727688...</td>\n",
       "      <td>2013-11-26 16:29:34+00:00</td>\n",
       "      <td>black friday antidote @patagonia #wornwear htt...</td>\n",
       "      <td>black friday antidote @patagonia #wornwear wor...</td>\n",
       "      <td>405372768834707456</td>\n",
       "      <td>{'_type': 'snscrape.modules.twitter.User', 'us...</td>\n",
       "      <td>0</td>\n",
       "      <td>0</td>\n",
       "      <td>...</td>\n",
       "      <td>NaN</td>\n",
       "      <td>NaN</td>\n",
       "      <td>NaN</td>\n",
       "      <td>NaN</td>\n",
       "      <td>[{'_type': 'snscrape.modules.twitter.User', 'u...</td>\n",
       "      <td>NaN</td>\n",
       "      <td>NaN</td>\n",
       "      <td>['wornwear']</td>\n",
       "      <td>NaN</td>\n",
       "      <td>black friday antidote</td>\n",
       "    </tr>\n",
       "    <tr>\n",
       "      <th>1147</th>\n",
       "      <td>1147</td>\n",
       "      <td>snscrape.modules.twitter.Tweet</td>\n",
       "      <td>https://twitter.com/OHIOzerowaste/status/84241...</td>\n",
       "      <td>2017-03-16 16:44:48+00:00</td>\n",
       "      <td>We can't wait to see the challenge course by @...</td>\n",
       "      <td>We can't wait to see the challenge course by @...</td>\n",
       "      <td>842416368603529217</td>\n",
       "      <td>{'_type': 'snscrape.modules.twitter.User', 'us...</td>\n",
       "      <td>0</td>\n",
       "      <td>2</td>\n",
       "      <td>...</td>\n",
       "      <td>NaN</td>\n",
       "      <td>NaN</td>\n",
       "      <td>NaN</td>\n",
       "      <td>NaN</td>\n",
       "      <td>NaN</td>\n",
       "      <td>NaN</td>\n",
       "      <td>NaN</td>\n",
       "      <td>['recycle', 'wornwear', 'zerowaste']</td>\n",
       "      <td>NaN</td>\n",
       "      <td>we can't wait to see the challenge course by</td>\n",
       "    </tr>\n",
       "    <tr>\n",
       "      <th>2710</th>\n",
       "      <td>210</td>\n",
       "      <td>snscrape.modules.twitter.Tweet</td>\n",
       "      <td>https://twitter.com/MDickson76/status/57368365...</td>\n",
       "      <td>2015-03-06 03:16:57+00:00</td>\n",
       "      <td>Charged right up!  Just got my old critical ma...</td>\n",
       "      <td>Charged right up!  Just got my old critical ma...</td>\n",
       "      <td>573683659477221376</td>\n",
       "      <td>{'_type': 'snscrape.modules.twitter.User', 'us...</td>\n",
       "      <td>0</td>\n",
       "      <td>0</td>\n",
       "      <td>...</td>\n",
       "      <td>NaN</td>\n",
       "      <td>NaN</td>\n",
       "      <td>NaN</td>\n",
       "      <td>NaN</td>\n",
       "      <td>[{'_type': 'snscrape.modules.twitter.User', 'u...</td>\n",
       "      <td>NaN</td>\n",
       "      <td>NaN</td>\n",
       "      <td>['repair', 'memories', 'betterthannew', 'wornw...</td>\n",
       "      <td>NaN</td>\n",
       "      <td>charged right up! just got my old critical mas...</td>\n",
       "    </tr>\n",
       "    <tr>\n",
       "      <th>3837</th>\n",
       "      <td>1337</td>\n",
       "      <td>snscrape.modules.twitter.Tweet</td>\n",
       "      <td>https://twitter.com/PatagoniaTornto/status/316...</td>\n",
       "      <td>2013-03-25 21:59:33+00:00</td>\n",
       "      <td>#WornWear is seeking submissions! Consider sha...</td>\n",
       "      <td>#WornWear is seeking submissions! Consider sha...</td>\n",
       "      <td>316308396850679808</td>\n",
       "      <td>{'_type': 'snscrape.modules.twitter.User', 'us...</td>\n",
       "      <td>0</td>\n",
       "      <td>0</td>\n",
       "      <td>...</td>\n",
       "      <td>NaN</td>\n",
       "      <td>NaN</td>\n",
       "      <td>NaN</td>\n",
       "      <td>NaN</td>\n",
       "      <td>NaN</td>\n",
       "      <td>NaN</td>\n",
       "      <td>NaN</td>\n",
       "      <td>['WornWear']</td>\n",
       "      <td>NaN</td>\n",
       "      <td>is seeking submissions! consider sharing your ...</td>\n",
       "    </tr>\n",
       "    <tr>\n",
       "      <th>3223</th>\n",
       "      <td>723</td>\n",
       "      <td>snscrape.modules.twitter.Tweet</td>\n",
       "      <td>https://twitter.com/ahpo5/status/4075602697545...</td>\n",
       "      <td>2013-12-02 17:21:55+00:00</td>\n",
       "      <td>Video: wornwear: Worn Wear – a Film About the ...</td>\n",
       "      <td>Video: wornwear: Worn Wear – a Film About the ...</td>\n",
       "      <td>407560269754535936</td>\n",
       "      <td>{'_type': 'snscrape.modules.twitter.User', 'us...</td>\n",
       "      <td>0</td>\n",
       "      <td>0</td>\n",
       "      <td>...</td>\n",
       "      <td>NaN</td>\n",
       "      <td>NaN</td>\n",
       "      <td>NaN</td>\n",
       "      <td>NaN</td>\n",
       "      <td>NaN</td>\n",
       "      <td>NaN</td>\n",
       "      <td>NaN</td>\n",
       "      <td>NaN</td>\n",
       "      <td>NaN</td>\n",
       "      <td>video: wornwear: worn wear – a film about the ...</td>\n",
       "    </tr>\n",
       "    <tr>\n",
       "      <th>3540</th>\n",
       "      <td>1040</td>\n",
       "      <td>snscrape.modules.twitter.Tweet</td>\n",
       "      <td>https://twitter.com/BillyNrthWoods/status/4057...</td>\n",
       "      <td>2013-11-27 16:28:32+00:00</td>\n",
       "      <td>Seriously, watch it! Rt “@swrve: Caps off to @...</td>\n",
       "      <td>Seriously, watch it! Rt “@swrve: Caps off to @...</td>\n",
       "      <td>405734897090043906</td>\n",
       "      <td>{'_type': 'snscrape.modules.twitter.User', 'us...</td>\n",
       "      <td>0</td>\n",
       "      <td>0</td>\n",
       "      <td>...</td>\n",
       "      <td>NaN</td>\n",
       "      <td>NaN</td>\n",
       "      <td>405730313046745088.00000</td>\n",
       "      <td>{'_type': 'snscrape.modules.twitter.User', 'us...</td>\n",
       "      <td>[{'_type': 'snscrape.modules.twitter.User', 'u...</td>\n",
       "      <td>NaN</td>\n",
       "      <td>NaN</td>\n",
       "      <td>['WornWear']</td>\n",
       "      <td>NaN</td>\n",
       "      <td>seriously, watch it! rt “ caps off to for thei...</td>\n",
       "    </tr>\n",
       "  </tbody>\n",
       "</table>\n",
       "<p>10 rows × 30 columns</p>\n",
       "</div>"
      ],
      "text/plain": [
       "      Unnamed: 0                           _type  \\\n",
       "1015        1015  snscrape.modules.twitter.Tweet   \n",
       "501          501  snscrape.modules.twitter.Tweet   \n",
       "856          856  snscrape.modules.twitter.Tweet   \n",
       "1645        1645  snscrape.modules.twitter.Tweet   \n",
       "3654        1154  snscrape.modules.twitter.Tweet   \n",
       "1147        1147  snscrape.modules.twitter.Tweet   \n",
       "2710         210  snscrape.modules.twitter.Tweet   \n",
       "3837        1337  snscrape.modules.twitter.Tweet   \n",
       "3223         723  snscrape.modules.twitter.Tweet   \n",
       "3540        1040  snscrape.modules.twitter.Tweet   \n",
       "\n",
       "                                                    url  \\\n",
       "1015  https://twitter.com/marissasaretsky/status/855...   \n",
       "501   https://twitter.com/leecentralcoast/status/119...   \n",
       "856   https://twitter.com/fshn_evolution/status/9235...   \n",
       "1645  https://twitter.com/Canoeinc/status/7228359916...   \n",
       "3654  https://twitter.com/IMMtyler/status/4053727688...   \n",
       "1147  https://twitter.com/OHIOzerowaste/status/84241...   \n",
       "2710  https://twitter.com/MDickson76/status/57368365...   \n",
       "3837  https://twitter.com/PatagoniaTornto/status/316...   \n",
       "3223  https://twitter.com/ahpo5/status/4075602697545...   \n",
       "3540  https://twitter.com/BillyNrthWoods/status/4057...   \n",
       "\n",
       "                           date  \\\n",
       "1015  2017-04-21 23:31:39+00:00   \n",
       "501   2019-11-25 17:24:24+00:00   \n",
       "856   2017-10-26 13:27:24+00:00   \n",
       "1645  2016-04-20 17:15:04+00:00   \n",
       "3654  2013-11-26 16:29:34+00:00   \n",
       "1147  2017-03-16 16:44:48+00:00   \n",
       "2710  2015-03-06 03:16:57+00:00   \n",
       "3837  2013-03-25 21:59:33+00:00   \n",
       "3223  2013-12-02 17:21:55+00:00   \n",
       "3540  2013-11-27 16:28:32+00:00   \n",
       "\n",
       "                                                content  \\\n",
       "1015  Thank you @Patagonia #wornwear for fixing my z...   \n",
       "501   Worn Wear was launched online in 2017 and has ...   \n",
       "856   Patagonia's #WornWear Website Encourages a New...   \n",
       "1645  What’s the easiest way to reduce our impact on...   \n",
       "3654  black friday antidote @patagonia #wornwear htt...   \n",
       "1147  We can't wait to see the challenge course by @...   \n",
       "2710  Charged right up!  Just got my old critical ma...   \n",
       "3837  #WornWear is seeking submissions! Consider sha...   \n",
       "3223  Video: wornwear: Worn Wear – a Film About the ...   \n",
       "3540  Seriously, watch it! Rt “@swrve: Caps off to @...   \n",
       "\n",
       "                                        renderedContent                   id  \\\n",
       "1015  Thank you @Patagonia #wornwear for fixing my z...   855564721545560065   \n",
       "501   Worn Wear was launched online in 2017 and has ...  1199015995224055809   \n",
       "856   Patagonia's #WornWear Website Encourages a New...   923541574667120640   \n",
       "1645  What’s the easiest way to reduce our impact on...   722835991602442240   \n",
       "3654  black friday antidote @patagonia #wornwear wor...   405372768834707456   \n",
       "1147  We can't wait to see the challenge course by @...   842416368603529217   \n",
       "2710  Charged right up!  Just got my old critical ma...   573683659477221376   \n",
       "3837  #WornWear is seeking submissions! Consider sha...   316308396850679808   \n",
       "3223  Video: wornwear: Worn Wear – a Film About the ...   407560269754535936   \n",
       "3540  Seriously, watch it! Rt “@swrve: Caps off to @...   405734897090043906   \n",
       "\n",
       "                                                   user  replyCount  \\\n",
       "1015  {'_type': 'snscrape.modules.twitter.User', 'us...           0   \n",
       "501   {'_type': 'snscrape.modules.twitter.User', 'us...           0   \n",
       "856   {'_type': 'snscrape.modules.twitter.User', 'us...           0   \n",
       "1645  {'_type': 'snscrape.modules.twitter.User', 'us...           0   \n",
       "3654  {'_type': 'snscrape.modules.twitter.User', 'us...           0   \n",
       "1147  {'_type': 'snscrape.modules.twitter.User', 'us...           0   \n",
       "2710  {'_type': 'snscrape.modules.twitter.User', 'us...           0   \n",
       "3837  {'_type': 'snscrape.modules.twitter.User', 'us...           0   \n",
       "3223  {'_type': 'snscrape.modules.twitter.User', 'us...           0   \n",
       "3540  {'_type': 'snscrape.modules.twitter.User', 'us...           0   \n",
       "\n",
       "      retweetCount  ...  retweetedTweet  quotedTweet         inReplyToTweetId  \\\n",
       "1015             0  ...             NaN          NaN                      NaN   \n",
       "501              0  ...             NaN          NaN                      NaN   \n",
       "856              0  ...             NaN          NaN                      NaN   \n",
       "1645             0  ...             NaN          NaN                      NaN   \n",
       "3654             0  ...             NaN          NaN                      NaN   \n",
       "1147             2  ...             NaN          NaN                      NaN   \n",
       "2710             0  ...             NaN          NaN                      NaN   \n",
       "3837             0  ...             NaN          NaN                      NaN   \n",
       "3223             0  ...             NaN          NaN                      NaN   \n",
       "3540             0  ...             NaN          NaN 405730313046745088.00000   \n",
       "\n",
       "                                          inReplyToUser  \\\n",
       "1015                                                NaN   \n",
       "501                                                 NaN   \n",
       "856                                                 NaN   \n",
       "1645                                                NaN   \n",
       "3654                                                NaN   \n",
       "1147                                                NaN   \n",
       "2710                                                NaN   \n",
       "3837                                                NaN   \n",
       "3223                                                NaN   \n",
       "3540  {'_type': 'snscrape.modules.twitter.User', 'us...   \n",
       "\n",
       "                                         mentionedUsers coordinates place  \\\n",
       "1015  [{'_type': 'snscrape.modules.twitter.User', 'u...         NaN   NaN   \n",
       "501                                                 NaN         NaN   NaN   \n",
       "856                                                 NaN         NaN   NaN   \n",
       "1645  [{'_type': 'snscrape.modules.twitter.User', 'u...         NaN   NaN   \n",
       "3654  [{'_type': 'snscrape.modules.twitter.User', 'u...         NaN   NaN   \n",
       "1147                                                NaN         NaN   NaN   \n",
       "2710  [{'_type': 'snscrape.modules.twitter.User', 'u...         NaN   NaN   \n",
       "3837                                                NaN         NaN   NaN   \n",
       "3223                                                NaN         NaN   NaN   \n",
       "3540  [{'_type': 'snscrape.modules.twitter.User', 'u...         NaN   NaN   \n",
       "\n",
       "                                               hashtags cashtags  \\\n",
       "1015                  ['wornwear', 'patagoniacasecomp']      NaN   \n",
       "501          ['patagonia', 'cre', 'retail', 'wornwear']      NaN   \n",
       "856                  ['WornWear', 'SustainableFashion']      NaN   \n",
       "1645                                       ['WornWear']      NaN   \n",
       "3654                                       ['wornwear']      NaN   \n",
       "1147               ['recycle', 'wornwear', 'zerowaste']      NaN   \n",
       "2710  ['repair', 'memories', 'betterthannew', 'wornw...      NaN   \n",
       "3837                                       ['WornWear']      NaN   \n",
       "3223                                                NaN      NaN   \n",
       "3540                                       ['WornWear']      NaN   \n",
       "\n",
       "                                                  clean  \n",
       "1015  thank you for fixing my zippers and ripped sea...  \n",
       "501   worn wear was launched online in 2017 and has ...  \n",
       "856      patagonia's website encourages a new level of   \n",
       "1645  what’s the easiest way to reduce our impact on...  \n",
       "3654                             black friday antidote   \n",
       "1147      we can't wait to see the challenge course by   \n",
       "2710  charged right up! just got my old critical mas...  \n",
       "3837  is seeking submissions! consider sharing your ...  \n",
       "3223  video: wornwear: worn wear – a film about the ...  \n",
       "3540  seriously, watch it! rt “ caps off to for thei...  \n",
       "\n",
       "[10 rows x 30 columns]"
      ]
     },
     "execution_count": 179,
     "metadata": {},
     "output_type": "execute_result"
    }
   ],
   "source": [
    "df.sample(5)"
   ]
  },
  {
   "cell_type": "code",
   "execution_count": 72,
   "id": "b48d1d5b",
   "metadata": {},
   "outputs": [],
   "source": [
    "#Checking for duplicates. "
   ]
  },
  {
   "cell_type": "code",
   "execution_count": 172,
   "id": "553d9948",
   "metadata": {},
   "outputs": [
    {
     "data": {
      "text/plain": [
       "74"
      ]
     },
     "execution_count": 172,
     "metadata": {},
     "output_type": "execute_result"
    }
   ],
   "source": [
    "df.renderedContent.duplicated().sum()"
   ]
  },
  {
   "cell_type": "code",
   "execution_count": 173,
   "id": "f46bd69a",
   "metadata": {},
   "outputs": [],
   "source": [
    "df.drop_duplicates(subset =\"renderedContent\",\n",
    "                     keep = 'last', inplace = True)"
   ]
  },
  {
   "cell_type": "code",
   "execution_count": 174,
   "id": "9fea0890",
   "metadata": {
    "scrolled": true
   },
   "outputs": [
    {
     "data": {
      "text/plain": [
       "0"
      ]
     },
     "execution_count": 174,
     "metadata": {},
     "output_type": "execute_result"
    }
   ],
   "source": [
    "df.renderedContent.duplicated().sum()"
   ]
  },
  {
   "cell_type": "code",
   "execution_count": 175,
   "id": "0c1a4dc7",
   "metadata": {
    "scrolled": true
   },
   "outputs": [
    {
     "data": {
      "text/plain": [
       "Unnamed: 0          2474\n",
       "_type                  1\n",
       "url                 3792\n",
       "date                3784\n",
       "content             3792\n",
       "renderedContent     3792\n",
       "id                  3792\n",
       "user                2168\n",
       "replyCount            13\n",
       "retweetCount          49\n",
       "likeCount            105\n",
       "quoteCount            10\n",
       "conversationId      3403\n",
       "lang                  10\n",
       "source                87\n",
       "sourceUrl             81\n",
       "sourceLabel           87\n",
       "outlinks            1910\n",
       "tcooutlinks         2318\n",
       "media                985\n",
       "retweetedTweet         0\n",
       "quotedTweet          120\n",
       "inReplyToTweetId     345\n",
       "inReplyToUser        222\n",
       "mentionedUsers       837\n",
       "coordinates          195\n",
       "place                132\n",
       "hashtags            1142\n",
       "cashtags               0\n",
       "clean               3627\n",
       "dtype: int64"
      ]
     },
     "execution_count": 175,
     "metadata": {},
     "output_type": "execute_result"
    }
   ],
   "source": [
    "df.nunique()"
   ]
  },
  {
   "cell_type": "code",
   "execution_count": 176,
   "id": "d72c69a1",
   "metadata": {},
   "outputs": [],
   "source": [
    "#It looks like we have 2168 unique users in our 3792 tweets. #Location data is not significant enough,\n",
    "#so it won't be taken into consideraton for analysis. "
   ]
  },
  {
   "cell_type": "code",
   "execution_count": 161,
   "id": "4dbef5ae",
   "metadata": {},
   "outputs": [
    {
     "data": {
      "text/plain": [
       "0.0"
      ]
     },
     "execution_count": 161,
     "metadata": {},
     "output_type": "execute_result"
    }
   ],
   "source": [
    "# How many retweets do I have?\n",
    "df.retweetedTweet.sum()"
   ]
  },
  {
   "cell_type": "code",
   "execution_count": 162,
   "id": "7a7beff1",
   "metadata": {
    "scrolled": true
   },
   "outputs": [
    {
     "data": {
      "text/plain": [
       "array([nan])"
      ]
     },
     "execution_count": 162,
     "metadata": {},
     "output_type": "execute_result"
    }
   ],
   "source": [
    "df.retweetedTweet.unique()"
   ]
  },
  {
   "cell_type": "code",
   "execution_count": 180,
   "id": "43dcf641",
   "metadata": {},
   "outputs": [
    {
     "data": {
      "text/plain": [
       "Index(['Unnamed: 0', '_type', 'url', 'date', 'content', 'renderedContent',\n",
       "       'id', 'user', 'replyCount', 'retweetCount', 'likeCount', 'quoteCount',\n",
       "       'conversationId', 'lang', 'source', 'sourceUrl', 'sourceLabel',\n",
       "       'outlinks', 'tcooutlinks', 'media', 'retweetedTweet', 'quotedTweet',\n",
       "       'inReplyToTweetId', 'inReplyToUser', 'mentionedUsers', 'coordinates',\n",
       "       'place', 'hashtags', 'cashtags', 'clean'],\n",
       "      dtype='object')"
      ]
     },
     "execution_count": 180,
     "metadata": {},
     "output_type": "execute_result"
    }
   ],
   "source": [
    "df.columns"
   ]
  },
  {
   "cell_type": "raw",
   "id": "aa1ae233",
   "metadata": {},
   "source": [
    "# Doing some initial cleaning on the df. "
   ]
  },
  {
   "cell_type": "code",
   "execution_count": 76,
   "id": "6ea99dcb",
   "metadata": {},
   "outputs": [],
   "source": [
    "#A function to get rid of some undesired characters.\n",
    "def processTweet(tweet):\n",
    "    # Remove HTML special entities (e.g. &amp;)\n",
    "    tweet = re.sub(r'\\&\\w*;', '', tweet)\n",
    "    #Convert @username to AT_USER\n",
    "    tweet = re.sub('@[^\\s]+','',tweet)\n",
    "    # Remove tickers\n",
    "    tweet = re.sub(r'\\$\\w*', '', tweet)\n",
    "    # To lowercase\n",
    "    tweet = tweet.lower()\n",
    "    # Remove hyperlinks\n",
    "    tweet = re.sub(r'https?:\\/\\/.*\\/\\w*', '', tweet)\n",
    "    # Remove hashtags\n",
    "    tweet = re.sub(r'#\\w*', '', tweet)\n",
    "    # Remove whitespace (including new line characters)\n",
    "    tweet = re.sub(r'\\s\\s+', ' ', tweet)\n",
    "    # Remove single space remaining at the front of the tweet.\n",
    "    tweet = tweet.lstrip(' ') \n",
    "    # Remove characters beyond Basic Multilingual Plane (BMP) of Unicode:\n",
    "    tweet = ''.join(c for c in tweet if c <= '\\uFFFF') \n",
    "    return tweet"
   ]
  },
  {
   "cell_type": "code",
   "execution_count": 77,
   "id": "44e787db",
   "metadata": {},
   "outputs": [],
   "source": [
    "df['clean'] = df.content.apply(processTweet)"
   ]
  },
  {
   "cell_type": "code",
   "execution_count": 78,
   "id": "25a5e23d",
   "metadata": {},
   "outputs": [],
   "source": [
    "#Comparing the before and after of our initial data cleaning. "
   ]
  },
  {
   "cell_type": "code",
   "execution_count": 79,
   "id": "56378285",
   "metadata": {},
   "outputs": [],
   "source": [
    "#Function to count the most popular words in a pandas column\n",
    "def wcounter(pdseries):\n",
    "    all_words = []\n",
    "    for line in list(pdseries):\n",
    "        words = line.split()\n",
    "        for word in words:\n",
    "            all_words.append(word.lower())\n",
    "    print (Counter(all_words).most_common(20))"
   ]
  },
  {
   "cell_type": "code",
   "execution_count": 80,
   "id": "f8e4d66f",
   "metadata": {},
   "outputs": [
    {
     "name": "stdout",
     "output_type": "stream",
     "text": [
      "[('#wornwear', 2802), ('the', 1938), ('@patagonia', 1796), ('to', 1326), ('a', 1022), ('and', 1007), ('for', 821), ('of', 758), ('on', 723), ('i', 640), ('in', 640), ('you', 610), ('is', 561), ('it', 495), ('at', 474), ('with', 446), ('this', 438), ('my', 420), ('@wornwear', 403), ('#patagonia', 386)]\n"
     ]
    }
   ],
   "source": [
    "wcounter(df.content)"
   ]
  },
  {
   "cell_type": "code",
   "execution_count": 81,
   "id": "e4a235cd",
   "metadata": {},
   "outputs": [
    {
     "name": "stdout",
     "output_type": "stream",
     "text": [
      "[('the', 1929), ('to', 1320), ('a', 1020), ('and', 994), ('for', 819), ('of', 757), ('on', 721), ('i', 639), ('in', 638), ('you', 609), ('is', 560), ('it', 495), ('at', 474), ('with', 445), ('this', 437), ('my', 420), ('your', 370), ('patagonia', 350), ('from', 341), ('wornwear', 335)]\n"
     ]
    }
   ],
   "source": [
    "wcounter(df.clean)"
   ]
  },
  {
   "cell_type": "code",
   "execution_count": 82,
   "id": "36431467",
   "metadata": {},
   "outputs": [],
   "source": [
    "#We see how now it became just pretty much stop-words "
   ]
  },
  {
   "cell_type": "code",
   "execution_count": 113,
   "id": "f8b65a1e",
   "metadata": {},
   "outputs": [],
   "source": [
    "#With this function, I'll add a column with the number of words in a tweet after cleaning. \n",
    "def word_count(sentence):\n",
    "    return len(sentence.split())\n",
    "    \n",
    "df.wc = df.clean.apply(word_count)"
   ]
  },
  {
   "cell_type": "code",
   "execution_count": 83,
   "id": "f6fc644e",
   "metadata": {},
   "outputs": [],
   "source": [
    "#Goal for tonight will be to apply the NMF and see which are some of the words or punctuation signs that I need to get rid of."
   ]
  },
  {
   "cell_type": "markdown",
   "id": "7f57b7e7",
   "metadata": {},
   "source": [
    "# Seeing some random tweets: "
   ]
  },
  {
   "cell_type": "code",
   "execution_count": 84,
   "id": "143714ec",
   "metadata": {},
   "outputs": [
    {
     "data": {
      "text/html": [
       "<div>\n",
       "<style scoped>\n",
       "    .dataframe tbody tr th:only-of-type {\n",
       "        vertical-align: middle;\n",
       "    }\n",
       "\n",
       "    .dataframe tbody tr th {\n",
       "        vertical-align: top;\n",
       "    }\n",
       "\n",
       "    .dataframe thead th {\n",
       "        text-align: right;\n",
       "    }\n",
       "</style>\n",
       "<table border=\"1\" class=\"dataframe\">\n",
       "  <thead>\n",
       "    <tr style=\"text-align: right;\">\n",
       "      <th></th>\n",
       "      <th>Unnamed: 0</th>\n",
       "      <th>_type</th>\n",
       "      <th>url</th>\n",
       "      <th>date</th>\n",
       "      <th>content</th>\n",
       "      <th>renderedContent</th>\n",
       "      <th>id</th>\n",
       "      <th>user</th>\n",
       "      <th>replyCount</th>\n",
       "      <th>retweetCount</th>\n",
       "      <th>...</th>\n",
       "      <th>retweetedTweet</th>\n",
       "      <th>quotedTweet</th>\n",
       "      <th>inReplyToTweetId</th>\n",
       "      <th>inReplyToUser</th>\n",
       "      <th>mentionedUsers</th>\n",
       "      <th>coordinates</th>\n",
       "      <th>place</th>\n",
       "      <th>hashtags</th>\n",
       "      <th>cashtags</th>\n",
       "      <th>clean</th>\n",
       "    </tr>\n",
       "  </thead>\n",
       "  <tbody>\n",
       "    <tr>\n",
       "      <th>961</th>\n",
       "      <td>961</td>\n",
       "      <td>snscrape.modules.twitter.Tweet</td>\n",
       "      <td>https://twitter.com/ouliemata/status/879518863...</td>\n",
       "      <td>2017-06-27 01:56:52+00:00</td>\n",
       "      <td>This is AWESOME @patagonia Proud of my nicknam...</td>\n",
       "      <td>This is AWESOME @patagonia Proud of my nicknam...</td>\n",
       "      <td>879518863074906112</td>\n",
       "      <td>{'_type': 'snscrape.modules.twitter.User', 'us...</td>\n",
       "      <td>1</td>\n",
       "      <td>0</td>\n",
       "      <td>...</td>\n",
       "      <td>NaN</td>\n",
       "      <td>{'_type': 'snscrape.modules.twitter.Tweet', 'u...</td>\n",
       "      <td>NaN</td>\n",
       "      <td>NaN</td>\n",
       "      <td>[{'_type': 'snscrape.modules.twitter.User', 'u...</td>\n",
       "      <td>NaN</td>\n",
       "      <td>NaN</td>\n",
       "      <td>['InStyle', 'wornwear']</td>\n",
       "      <td>NaN</td>\n",
       "      <td>this is awesome proud of my nickname \"patch\" b...</td>\n",
       "    </tr>\n",
       "    <tr>\n",
       "      <th>548</th>\n",
       "      <td>548</td>\n",
       "      <td>snscrape.modules.twitter.Tweet</td>\n",
       "      <td>https://twitter.com/gvanderloop/status/1177235...</td>\n",
       "      <td>2019-09-26 14:56:59+00:00</td>\n",
       "      <td>@patagonia saves the day with its repair! My c...</td>\n",
       "      <td>@patagonia saves the day with its repair! My c...</td>\n",
       "      <td>1177235623675125765</td>\n",
       "      <td>{'_type': 'snscrape.modules.twitter.User', 'us...</td>\n",
       "      <td>0</td>\n",
       "      <td>0</td>\n",
       "      <td>...</td>\n",
       "      <td>NaN</td>\n",
       "      <td>NaN</td>\n",
       "      <td>NaN</td>\n",
       "      <td>NaN</td>\n",
       "      <td>[{'_type': 'snscrape.modules.twitter.User', 'u...</td>\n",
       "      <td>NaN</td>\n",
       "      <td>NaN</td>\n",
       "      <td>['patagonia', 'repair', 'wornwear', 'berlin']</td>\n",
       "      <td>NaN</td>\n",
       "      <td>saves the day with its repair! my cell phone w...</td>\n",
       "    </tr>\n",
       "    <tr>\n",
       "      <th>1240</th>\n",
       "      <td>1240</td>\n",
       "      <td>snscrape.modules.twitter.Tweet</td>\n",
       "      <td>https://twitter.com/cunyGClibrary/status/83634...</td>\n",
       "      <td>2017-02-27 22:26:03+00:00</td>\n",
       "      <td>RT|@FIT As part of @Patagonia’s #WornWear coll...</td>\n",
       "      <td>RT|@FIT As part of @Patagonia’s #WornWear coll...</td>\n",
       "      <td>836341652881027072</td>\n",
       "      <td>{'_type': 'snscrape.modules.twitter.User', 'us...</td>\n",
       "      <td>0</td>\n",
       "      <td>0</td>\n",
       "      <td>...</td>\n",
       "      <td>NaN</td>\n",
       "      <td>NaN</td>\n",
       "      <td>NaN</td>\n",
       "      <td>NaN</td>\n",
       "      <td>[{'_type': 'snscrape.modules.twitter.User', 'u...</td>\n",
       "      <td>NaN</td>\n",
       "      <td>NaN</td>\n",
       "      <td>['WornWear']</td>\n",
       "      <td>NaN</td>\n",
       "      <td>rt| as part of college tour, learn what to do ...</td>\n",
       "    </tr>\n",
       "  </tbody>\n",
       "</table>\n",
       "<p>3 rows × 30 columns</p>\n",
       "</div>"
      ],
      "text/plain": [
       "      Unnamed: 0                           _type  \\\n",
       "961          961  snscrape.modules.twitter.Tweet   \n",
       "548          548  snscrape.modules.twitter.Tweet   \n",
       "1240        1240  snscrape.modules.twitter.Tweet   \n",
       "\n",
       "                                                    url  \\\n",
       "961   https://twitter.com/ouliemata/status/879518863...   \n",
       "548   https://twitter.com/gvanderloop/status/1177235...   \n",
       "1240  https://twitter.com/cunyGClibrary/status/83634...   \n",
       "\n",
       "                           date  \\\n",
       "961   2017-06-27 01:56:52+00:00   \n",
       "548   2019-09-26 14:56:59+00:00   \n",
       "1240  2017-02-27 22:26:03+00:00   \n",
       "\n",
       "                                                content  \\\n",
       "961   This is AWESOME @patagonia Proud of my nicknam...   \n",
       "548   @patagonia saves the day with its repair! My c...   \n",
       "1240  RT|@FIT As part of @Patagonia’s #WornWear coll...   \n",
       "\n",
       "                                        renderedContent                   id  \\\n",
       "961   This is AWESOME @patagonia Proud of my nicknam...   879518863074906112   \n",
       "548   @patagonia saves the day with its repair! My c...  1177235623675125765   \n",
       "1240  RT|@FIT As part of @Patagonia’s #WornWear coll...   836341652881027072   \n",
       "\n",
       "                                                   user  replyCount  \\\n",
       "961   {'_type': 'snscrape.modules.twitter.User', 'us...           1   \n",
       "548   {'_type': 'snscrape.modules.twitter.User', 'us...           0   \n",
       "1240  {'_type': 'snscrape.modules.twitter.User', 'us...           0   \n",
       "\n",
       "      retweetCount  ...  retweetedTweet  \\\n",
       "961              0  ...             NaN   \n",
       "548              0  ...             NaN   \n",
       "1240             0  ...             NaN   \n",
       "\n",
       "                                            quotedTweet  inReplyToTweetId  \\\n",
       "961   {'_type': 'snscrape.modules.twitter.Tweet', 'u...               NaN   \n",
       "548                                                 NaN               NaN   \n",
       "1240                                                NaN               NaN   \n",
       "\n",
       "     inReplyToUser                                     mentionedUsers  \\\n",
       "961            NaN  [{'_type': 'snscrape.modules.twitter.User', 'u...   \n",
       "548            NaN  [{'_type': 'snscrape.modules.twitter.User', 'u...   \n",
       "1240           NaN  [{'_type': 'snscrape.modules.twitter.User', 'u...   \n",
       "\n",
       "     coordinates place                                       hashtags  \\\n",
       "961          NaN   NaN                        ['InStyle', 'wornwear']   \n",
       "548          NaN   NaN  ['patagonia', 'repair', 'wornwear', 'berlin']   \n",
       "1240         NaN   NaN                                   ['WornWear']   \n",
       "\n",
       "     cashtags                                              clean  \n",
       "961       NaN  this is awesome proud of my nickname \"patch\" b...  \n",
       "548       NaN  saves the day with its repair! my cell phone w...  \n",
       "1240      NaN  rt| as part of college tour, learn what to do ...  \n",
       "\n",
       "[3 rows x 30 columns]"
      ]
     },
     "execution_count": 84,
     "metadata": {},
     "output_type": "execute_result"
    }
   ],
   "source": [
    "df.sample(3, random_state = 41)"
   ]
  },
  {
   "cell_type": "code",
   "execution_count": 56,
   "id": "bb1ddc66",
   "metadata": {},
   "outputs": [
    {
     "data": {
      "text/plain": [
       "'This is AWESOME @patagonia Proud of my nickname \"Patch\" because of my refusal to replace my duct-taped outdoor clothing #InStyle #wornwear https://t.co/BvKDEjcXU5'"
      ]
     },
     "execution_count": 56,
     "metadata": {},
     "output_type": "execute_result"
    }
   ],
   "source": [
    "df.content.sample(3, random_state=41)[961]"
   ]
  },
  {
   "cell_type": "markdown",
   "id": "1791518a",
   "metadata": {},
   "source": [
    "<img src=\"t1.png\" style=\"width: 500px\">"
   ]
  },
  {
   "cell_type": "code",
   "execution_count": 57,
   "id": "eaa9f343",
   "metadata": {},
   "outputs": [
    {
     "data": {
      "text/plain": [
       "'@patagonia saves the day with its repair! My cell phone was trapped behind a stuck zipper and you fixed it!  #patagonia #repair #wornwear #berlin https://t.co/JIXlEZd5Ur'"
      ]
     },
     "execution_count": 57,
     "metadata": {},
     "output_type": "execute_result"
    }
   ],
   "source": [
    "df.content.sample(3, random_state=41)[548]"
   ]
  },
  {
   "cell_type": "markdown",
   "id": "a779ea70",
   "metadata": {},
   "source": [
    "<img src=\"t2.png\" style=\"width: 500px\">"
   ]
  },
  {
   "cell_type": "code",
   "execution_count": 59,
   "id": "d6590b5d",
   "metadata": {},
   "outputs": [
    {
     "data": {
      "text/plain": [
       "'RT|@FIT As part of @Patagonia’s #WornWear college tour, learn what to do and how to live on our threatened planet: https://t.co/D57RMEIkKV https://t.co/JdT3XZEtHW'"
      ]
     },
     "execution_count": 59,
     "metadata": {},
     "output_type": "execute_result"
    }
   ],
   "source": [
    "df.content.sample(3, random_state=41)[1240]"
   ]
  },
  {
   "cell_type": "markdown",
   "id": "a932c9b7",
   "metadata": {},
   "source": [
    "<img src=\"t3.png\" style=\"width: 500px\">"
   ]
  },
  {
   "cell_type": "code",
   "execution_count": 61,
   "id": "af7f30a4",
   "metadata": {},
   "outputs": [],
   "source": [
    "# Ok, let's go with the first iteration of the NMF to see what are the topics that come out. "
   ]
  },
  {
   "cell_type": "code",
   "execution_count": 85,
   "id": "608d03be",
   "metadata": {},
   "outputs": [],
   "source": [
    "corpus = df.clean"
   ]
  },
  {
   "cell_type": "code",
   "execution_count": 95,
   "id": "38eef516",
   "metadata": {},
   "outputs": [],
   "source": [
    "words_to_add = ['wornwear', 'patagonia']"
   ]
  },
  {
   "cell_type": "code",
   "execution_count": 96,
   "id": "2d93b7e6",
   "metadata": {},
   "outputs": [],
   "source": [
    "stop_w = ENGLISH_STOP_WORDS.union(words_to_add)"
   ]
  },
  {
   "cell_type": "code",
   "execution_count": 97,
   "id": "4e6e9bdc",
   "metadata": {},
   "outputs": [],
   "source": [
    "#Generating a TFIDF and then a NMF"
   ]
  },
  {
   "cell_type": "code",
   "execution_count": 98,
   "id": "5906a0b1",
   "metadata": {},
   "outputs": [],
   "source": [
    "tfidf = TfidfVectorizer(stop_words=stop_w)\n",
    "\n",
    "tweet_word_matrix = tfidf.fit_transform(corpus)\n",
    "\n",
    "vocab = tfidf.get_feature_names()"
   ]
  },
  {
   "cell_type": "code",
   "execution_count": 100,
   "id": "f5a0e93d",
   "metadata": {},
   "outputs": [],
   "source": [
    "#Taking a look at vocab"
   ]
  },
  {
   "cell_type": "code",
   "execution_count": 1321,
   "id": "d06a87fa",
   "metadata": {},
   "outputs": [],
   "source": [
    "#vocab"
   ]
  },
  {
   "cell_type": "code",
   "execution_count": 104,
   "id": "9b49685e",
   "metadata": {},
   "outputs": [],
   "source": [
    "#From here I notice that I need to get rid of numbers.  # re.sub(r'\\w*\\d\\w*', '', words).strip()"
   ]
  },
  {
   "cell_type": "code",
   "execution_count": 1320,
   "id": "1368acfa",
   "metadata": {
    "scrolled": true
   },
   "outputs": [],
   "source": [
    "#tfidf.vocabulary_"
   ]
  },
  {
   "cell_type": "code",
   "execution_count": 106,
   "id": "7213b968",
   "metadata": {},
   "outputs": [],
   "source": [
    "#The vocabulary makes sense."
   ]
  },
  {
   "cell_type": "code",
   "execution_count": 107,
   "id": "9a71b281",
   "metadata": {},
   "outputs": [],
   "source": [
    "#Creating the first attempt to find topics. "
   ]
  },
  {
   "cell_type": "code",
   "execution_count": 507,
   "id": "79cb3bd6",
   "metadata": {},
   "outputs": [
    {
     "data": {
      "text/plain": [
       "NMF(n_components=6)"
      ]
     },
     "execution_count": 507,
     "metadata": {},
     "output_type": "execute_result"
    }
   ],
   "source": [
    "n_components = 6\n",
    "nmf = NMF(n_components) #Creating the nmf object with 6 topics. \n",
    "\n",
    "nmf.fit(tweet_word_matrix)"
   ]
  },
  {
   "cell_type": "code",
   "execution_count": 508,
   "id": "d32212a0",
   "metadata": {
    "scrolled": true
   },
   "outputs": [
    {
     "data": {
      "text/html": [
       "<div>\n",
       "<style scoped>\n",
       "    .dataframe tbody tr th:only-of-type {\n",
       "        vertical-align: middle;\n",
       "    }\n",
       "\n",
       "    .dataframe tbody tr th {\n",
       "        vertical-align: top;\n",
       "    }\n",
       "\n",
       "    .dataframe thead th {\n",
       "        text-align: right;\n",
       "    }\n",
       "</style>\n",
       "<table border=\"1\" class=\"dataframe\">\n",
       "  <thead>\n",
       "    <tr style=\"text-align: right;\">\n",
       "      <th></th>\n",
       "      <th>0</th>\n",
       "      <th>1</th>\n",
       "      <th>2</th>\n",
       "      <th>3</th>\n",
       "      <th>4</th>\n",
       "      <th>5</th>\n",
       "    </tr>\n",
       "  </thead>\n",
       "  <tbody>\n",
       "    <tr>\n",
       "      <th>0</th>\n",
       "      <td>0.00000</td>\n",
       "      <td>0.00000</td>\n",
       "      <td>0.00000</td>\n",
       "      <td>0.00000</td>\n",
       "      <td>0.10206</td>\n",
       "      <td>0.00000</td>\n",
       "    </tr>\n",
       "    <tr>\n",
       "      <th>1</th>\n",
       "      <td>0.00000</td>\n",
       "      <td>0.00515</td>\n",
       "      <td>0.00051</td>\n",
       "      <td>0.05606</td>\n",
       "      <td>0.00245</td>\n",
       "      <td>0.00642</td>\n",
       "    </tr>\n",
       "    <tr>\n",
       "      <th>2</th>\n",
       "      <td>0.00000</td>\n",
       "      <td>0.00312</td>\n",
       "      <td>0.00007</td>\n",
       "      <td>0.00958</td>\n",
       "      <td>0.00157</td>\n",
       "      <td>0.00877</td>\n",
       "    </tr>\n",
       "  </tbody>\n",
       "</table>\n",
       "</div>"
      ],
      "text/plain": [
       "        0       1       2       3       4       5\n",
       "0 0.00000 0.00000 0.00000 0.00000 0.10206 0.00000\n",
       "1 0.00000 0.00515 0.00051 0.05606 0.00245 0.00642\n",
       "2 0.00000 0.00312 0.00007 0.00958 0.00157 0.00877"
      ]
     },
     "execution_count": 508,
     "metadata": {},
     "output_type": "execute_result"
    }
   ],
   "source": [
    "tweet_topic_matrix = nmf.transform(tweet_word_matrix) #Transforming the tweet_word_matrix\n",
    "#and seeing the tweet_topic_matrix\n",
    "pd.DataFrame(tweet_topic_matrix).head(3)"
   ]
  },
  {
   "cell_type": "code",
   "execution_count": 509,
   "id": "f061a6e6",
   "metadata": {},
   "outputs": [],
   "source": [
    "#Now, we are gonna put together the topics and the original tweets to try to make sense of the topics."
   ]
  },
  {
   "cell_type": "markdown",
   "id": "9932a274",
   "metadata": {},
   "source": [
    "# Tweet-Topic Matrix"
   ]
  },
  {
   "cell_type": "code",
   "execution_count": 510,
   "id": "818d5f8c",
   "metadata": {
    "scrolled": true
   },
   "outputs": [
    {
     "data": {
      "text/html": [
       "<div>\n",
       "<style scoped>\n",
       "    .dataframe tbody tr th:only-of-type {\n",
       "        vertical-align: middle;\n",
       "    }\n",
       "\n",
       "    .dataframe tbody tr th {\n",
       "        vertical-align: top;\n",
       "    }\n",
       "\n",
       "    .dataframe thead th {\n",
       "        text-align: right;\n",
       "    }\n",
       "</style>\n",
       "<table border=\"1\" class=\"dataframe\">\n",
       "  <thead>\n",
       "    <tr style=\"text-align: right;\">\n",
       "      <th></th>\n",
       "      <th>topic_0</th>\n",
       "      <th>topic_1</th>\n",
       "      <th>topic_2</th>\n",
       "      <th>topic_3</th>\n",
       "      <th>topic_4</th>\n",
       "      <th>topic_5</th>\n",
       "      <th>tweet_original</th>\n",
       "      <th>clean_tweets</th>\n",
       "    </tr>\n",
       "  </thead>\n",
       "  <tbody>\n",
       "    <tr>\n",
       "      <th>2323</th>\n",
       "      <td>0.00000</td>\n",
       "      <td>0.13198</td>\n",
       "      <td>0.00000</td>\n",
       "      <td>0.00000</td>\n",
       "      <td>0.00000</td>\n",
       "      <td>0.00000</td>\n",
       "      <td>I just listed 'Patagonia torrentshell pants, H...</td>\n",
       "      <td>i just listed 'patagonia torrentshell pants, h...</td>\n",
       "    </tr>\n",
       "    <tr>\n",
       "      <th>1419</th>\n",
       "      <td>0.00000</td>\n",
       "      <td>0.00000</td>\n",
       "      <td>0.00000</td>\n",
       "      <td>0.00000</td>\n",
       "      <td>0.13491</td>\n",
       "      <td>0.00000</td>\n",
       "      <td>@Patagonia #WornWear tour comes to the Whole E...</td>\n",
       "      <td>tour comes to the whole earth provision in tha...</td>\n",
       "    </tr>\n",
       "    <tr>\n",
       "      <th>2477</th>\n",
       "      <td>0.00000</td>\n",
       "      <td>0.00000</td>\n",
       "      <td>0.00000</td>\n",
       "      <td>0.00000</td>\n",
       "      <td>0.00248</td>\n",
       "      <td>0.00000</td>\n",
       "      <td>Tomorrow we are joining the @Patagonia #WornWe...</td>\n",
       "      <td>tomorrow we are joining the tour from 5-8 to s...</td>\n",
       "    </tr>\n",
       "    <tr>\n",
       "      <th>1583</th>\n",
       "      <td>0.00105</td>\n",
       "      <td>0.06230</td>\n",
       "      <td>0.00042</td>\n",
       "      <td>0.00302</td>\n",
       "      <td>0.00270</td>\n",
       "      <td>0.00141</td>\n",
       "      <td>The @patagonia #wornwear tour is at our @boxpa...</td>\n",
       "      <td>the tour is at our shop again today from 11. g...</td>\n",
       "    </tr>\n",
       "    <tr>\n",
       "      <th>952</th>\n",
       "      <td>0.00000</td>\n",
       "      <td>0.00015</td>\n",
       "      <td>0.00000</td>\n",
       "      <td>0.00437</td>\n",
       "      <td>0.00000</td>\n",
       "      <td>0.00000</td>\n",
       "      <td>#WornWear will be visiting Snow+Rock #PortSole...</td>\n",
       "      <td>will be visiting snow+rock on 15/16th july and...</td>\n",
       "    </tr>\n",
       "  </tbody>\n",
       "</table>\n",
       "</div>"
      ],
      "text/plain": [
       "      topic_0  topic_1  topic_2  topic_3  topic_4  topic_5  \\\n",
       "2323  0.00000  0.13198  0.00000  0.00000  0.00000  0.00000   \n",
       "1419  0.00000  0.00000  0.00000  0.00000  0.13491  0.00000   \n",
       "2477  0.00000  0.00000  0.00000  0.00000  0.00248  0.00000   \n",
       "1583  0.00105  0.06230  0.00042  0.00302  0.00270  0.00141   \n",
       "952   0.00000  0.00015  0.00000  0.00437  0.00000  0.00000   \n",
       "\n",
       "                                         tweet_original  \\\n",
       "2323  I just listed 'Patagonia torrentshell pants, H...   \n",
       "1419  @Patagonia #WornWear tour comes to the Whole E...   \n",
       "2477  Tomorrow we are joining the @Patagonia #WornWe...   \n",
       "1583  The @patagonia #wornwear tour is at our @boxpa...   \n",
       "952   #WornWear will be visiting Snow+Rock #PortSole...   \n",
       "\n",
       "                                           clean_tweets  \n",
       "2323  i just listed 'patagonia torrentshell pants, h...  \n",
       "1419  tour comes to the whole earth provision in tha...  \n",
       "2477  tomorrow we are joining the tour from 5-8 to s...  \n",
       "1583  the tour is at our shop again today from 11. g...  \n",
       "952   will be visiting snow+rock on 15/16th july and...  "
      ]
     },
     "execution_count": 510,
     "metadata": {},
     "output_type": "execute_result"
    }
   ],
   "source": [
    "tweet_topic_matrix_df = pd.DataFrame(tweet_topic_matrix).add_prefix('topic_')\n",
    "\n",
    "tweet_topic_matrix_df[['tweet_original', 'clean_tweets']] = df[['content', 'clean']]\n",
    "tweet_topic_matrix_df.sample(5, random_state=42)"
   ]
  },
  {
   "cell_type": "markdown",
   "id": "793a7524",
   "metadata": {},
   "source": [
    "# Word - Topic Matrix"
   ]
  },
  {
   "cell_type": "code",
   "execution_count": 511,
   "id": "648126a8",
   "metadata": {},
   "outputs": [
    {
     "data": {
      "text/html": [
       "<div>\n",
       "<style scoped>\n",
       "    .dataframe tbody tr th:only-of-type {\n",
       "        vertical-align: middle;\n",
       "    }\n",
       "\n",
       "    .dataframe tbody tr th {\n",
       "        vertical-align: top;\n",
       "    }\n",
       "\n",
       "    .dataframe thead th {\n",
       "        text-align: right;\n",
       "    }\n",
       "</style>\n",
       "<table border=\"1\" class=\"dataframe\">\n",
       "  <thead>\n",
       "    <tr style=\"text-align: right;\">\n",
       "      <th></th>\n",
       "      <th>topic_0</th>\n",
       "      <th>topic_1</th>\n",
       "      <th>topic_2</th>\n",
       "      <th>topic_3</th>\n",
       "      <th>topic_4</th>\n",
       "      <th>topic_5</th>\n",
       "    </tr>\n",
       "  </thead>\n",
       "  <tbody>\n",
       "    <tr>\n",
       "      <th>felt</th>\n",
       "      <td>0.00000</td>\n",
       "      <td>0.00003</td>\n",
       "      <td>0.00002</td>\n",
       "      <td>0.00041</td>\n",
       "      <td>0.00012</td>\n",
       "      <td>0.00016</td>\n",
       "    </tr>\n",
       "    <tr>\n",
       "      <th>msu</th>\n",
       "      <td>0.00000</td>\n",
       "      <td>0.00000</td>\n",
       "      <td>0.00000</td>\n",
       "      <td>0.00254</td>\n",
       "      <td>0.00000</td>\n",
       "      <td>0.00000</td>\n",
       "    </tr>\n",
       "    <tr>\n",
       "      <th>items</th>\n",
       "      <td>0.00000</td>\n",
       "      <td>0.00775</td>\n",
       "      <td>0.00518</td>\n",
       "      <td>0.05112</td>\n",
       "      <td>0.01188</td>\n",
       "      <td>0.00901</td>\n",
       "    </tr>\n",
       "    <tr>\n",
       "      <th>experts</th>\n",
       "      <td>0.00000</td>\n",
       "      <td>0.00000</td>\n",
       "      <td>0.00000</td>\n",
       "      <td>0.00384</td>\n",
       "      <td>0.00133</td>\n",
       "      <td>0.00000</td>\n",
       "    </tr>\n",
       "    <tr>\n",
       "      <th>winter</th>\n",
       "      <td>0.00000</td>\n",
       "      <td>0.00304</td>\n",
       "      <td>0.00000</td>\n",
       "      <td>0.01997</td>\n",
       "      <td>0.01098</td>\n",
       "      <td>0.00416</td>\n",
       "    </tr>\n",
       "    <tr>\n",
       "      <th>yuri</th>\n",
       "      <td>0.00000</td>\n",
       "      <td>0.00003</td>\n",
       "      <td>0.00000</td>\n",
       "      <td>0.00012</td>\n",
       "      <td>0.00008</td>\n",
       "      <td>0.00010</td>\n",
       "    </tr>\n",
       "    <tr>\n",
       "      <th>internship</th>\n",
       "      <td>0.00000</td>\n",
       "      <td>0.00000</td>\n",
       "      <td>0.00000</td>\n",
       "      <td>0.00073</td>\n",
       "      <td>0.00000</td>\n",
       "      <td>0.00000</td>\n",
       "    </tr>\n",
       "    <tr>\n",
       "      <th>180</th>\n",
       "      <td>0.00145</td>\n",
       "      <td>0.00026</td>\n",
       "      <td>0.00000</td>\n",
       "      <td>0.00007</td>\n",
       "      <td>0.00000</td>\n",
       "      <td>0.00000</td>\n",
       "    </tr>\n",
       "    <tr>\n",
       "      <th>belhaven</th>\n",
       "      <td>0.00000</td>\n",
       "      <td>0.00000</td>\n",
       "      <td>0.00000</td>\n",
       "      <td>0.00101</td>\n",
       "      <td>0.00022</td>\n",
       "      <td>0.00375</td>\n",
       "    </tr>\n",
       "    <tr>\n",
       "      <th>mntn</th>\n",
       "      <td>0.00000</td>\n",
       "      <td>0.00000</td>\n",
       "      <td>0.00000</td>\n",
       "      <td>0.00029</td>\n",
       "      <td>0.00000</td>\n",
       "      <td>0.00415</td>\n",
       "    </tr>\n",
       "  </tbody>\n",
       "</table>\n",
       "</div>"
      ],
      "text/plain": [
       "            topic_0  topic_1  topic_2  topic_3  topic_4  topic_5\n",
       "felt        0.00000  0.00003  0.00002  0.00041  0.00012  0.00016\n",
       "msu         0.00000  0.00000  0.00000  0.00254  0.00000  0.00000\n",
       "items       0.00000  0.00775  0.00518  0.05112  0.01188  0.00901\n",
       "experts     0.00000  0.00000  0.00000  0.00384  0.00133  0.00000\n",
       "winter      0.00000  0.00304  0.00000  0.01997  0.01098  0.00416\n",
       "yuri        0.00000  0.00003  0.00000  0.00012  0.00008  0.00010\n",
       "internship  0.00000  0.00000  0.00000  0.00073  0.00000  0.00000\n",
       "180         0.00145  0.00026  0.00000  0.00007  0.00000  0.00000\n",
       "belhaven    0.00000  0.00000  0.00000  0.00101  0.00022  0.00375\n",
       "mntn        0.00000  0.00000  0.00000  0.00029  0.00000  0.00415"
      ]
     },
     "execution_count": 511,
     "metadata": {},
     "output_type": "execute_result"
    }
   ],
   "source": [
    "word_topic_matrix_df = pd.DataFrame(nmf.components_, columns=vocab).T.add_prefix('topic_')\n",
    "word_topic_matrix_df.sample(10)"
   ]
  },
  {
   "cell_type": "markdown",
   "id": "9c46b7be",
   "metadata": {},
   "source": [
    "# Now, let's procede with topic interpretation"
   ]
  },
  {
   "cell_type": "code",
   "execution_count": 512,
   "id": "7a0b02e3",
   "metadata": {},
   "outputs": [],
   "source": [
    "## Seeing what tweets are present in topic 0, eventually we will see each of the topics by creating a function. "
   ]
  },
  {
   "cell_type": "code",
   "execution_count": 513,
   "id": "0c58a84c",
   "metadata": {},
   "outputs": [],
   "source": [
    "def topics_tweets_words(topic, n_tweets, n_words):\n",
    "\n",
    "    for tweet in tweet_topic_matrix_df.sort_values(by=topic, ascending=False).head(n_tweets)['tweet_original'].values:\n",
    "        print(tweet ,'\\n')\n",
    "    print('____________________________________________________________________')\n",
    "    print()\n",
    "    print(f'Top {n_words} words in {topic}')\n",
    "    print()\n",
    "    print(word_topic_matrix_df.sort_values(by=topic, ascending=False).head(n_words))\n",
    "    print('____________________________________________________________________')"
   ]
  },
  {
   "cell_type": "code",
   "execution_count": 514,
   "id": "e2c26cca",
   "metadata": {},
   "outputs": [
    {
     "name": "stdout",
     "output_type": "stream",
     "text": [
      "@DaHeathenOne76 Gald to hear it. Buy quality and use it for ever. #WornWear \n",
      "\n",
      "\"The longer something lasts, the better\"—Chasing waves and shaping boards in Tom Doidge-Harrison's #WornWear story: https://t.co/KBIlkte8cb \n",
      "\n",
      "nan \n",
      "\n",
      "Early morning hanging out in a pair of 18 year old patagonia Stand-Up Pants #wornwear whilst prep'ing… http://t.co/oWeNmSmqXq \n",
      "\n",
      "Video: wornwear: Worn Wear – a Film About the Stories We Wear Presented by Patagonia Directed by Keith,... http://t.co/7lOch8llwx \n",
      "\n",
      "Great #greenholidays recommendation: Celebrate what you already own. Check out #wornwear http://t.co/Nbvf9LILiF #betterthannew \n",
      "\n",
      "@patagonia your wear was available in Germany almost 20 years ago... #wornwear http://t.co/GTdPWLBXf8 \n",
      "\n",
      "@patagonia my #WornWear Stretch Element has survived 12 Wasatch winters and counting. http://t.co/EVjjis47Dh \n",
      "\n",
      "Guess whose not waking up early tomorrow. This guy ✋\n",
      "#AntiBlackFriday #WornWear #BetterThanNew \n",
      "\n",
      "MT @Phelps_agency: We're big fans of @patagonia's on-brand approach to #BlackFriday. Read about #WornWear on our blog http://t.co/Rg08BGM9ml \n",
      "\n",
      "____________________________________________________________________\n",
      "\n",
      "Top 10 words in topic_0\n",
      "\n",
      "           topic_0  topic_1  topic_2  topic_3  topic_4  topic_5\n",
      "wear       2.12240  0.00000  0.00000  0.00000  0.00000  0.00000\n",
      "worn       1.24662  0.00000  0.00000  0.15611  0.00000  0.04208\n",
      "stories    1.09531  0.00000  0.00193  0.00000  0.08037  0.00000\n",
      "film       0.92164  0.00000  0.00000  0.00000  0.09494  0.16840\n",
      "presented  0.63042  0.00000  0.00000  0.00000  0.00000  0.00000\n",
      "video      0.55923  0.00462  0.00000  0.00000  0.00065  0.02175\n",
      "keith      0.54428  0.00000  0.00000  0.00000  0.00000  0.00000\n",
      "directed   0.51196  0.00000  0.00000  0.00000  0.00000  0.00000\n",
      "story      0.13682  0.02995  0.01565  0.05639  0.09643  0.00351\n",
      "watch      0.11660  0.00000  0.00462  0.00000  0.06683  0.20623\n",
      "____________________________________________________________________\n"
     ]
    }
   ],
   "source": [
    "topics_tweets_words('topic_0', n_tweets = 10, n_words= 10)"
   ]
  },
  {
   "cell_type": "code",
   "execution_count": 481,
   "id": "e1f1db80",
   "metadata": {},
   "outputs": [],
   "source": [
    "#So... This topic may be related to... stories? About time?"
   ]
  },
  {
   "cell_type": "code",
   "execution_count": 482,
   "id": "7777df34",
   "metadata": {},
   "outputs": [],
   "source": [
    "# Let's see topic 1."
   ]
  },
  {
   "cell_type": "code",
   "execution_count": 483,
   "id": "938b1b4f",
   "metadata": {
    "scrolled": false
   },
   "outputs": [
    {
     "name": "stdout",
     "output_type": "stream",
     "text": [
      "Coconut express @Patagonia wornwear #fabricinlay and resin tint ready for point panics. At… https://t.co/PYk3jkpyjj \n",
      "\n",
      "I just listed 'Marmot rain jacket, womens small, great con' on eBay. Check it out. #thrifting #wornwear #patagonia https://t.co/G518waGdQ2 \n",
      "\n",
      "I just listed 'Prana Sweater. Womens Medium. Very soft and' on eBay. Check it out. #thrifting #wornwear #patagonia http://t.co/C9FUmmQqo8 \n",
      "\n",
      "New box of @Patagonia wornwear upcycled fabric! Some new ones I've never seen before. This is going… https://t.co/n9ZXMZeVE6 \n",
      "\n",
      "Hey #Seattle SAVE THE DATE @patagonia #wornwear Tour is stopping at Feathered Friends on Wed, 4/15 12-8pm http://t.co/jwh3eueuTO #patagonia \n",
      "\n",
      "Great day off yesterday with patagonianyc and wornwear. Great chatting with you Donnie and special… https://t.co/s8BI4U4G2W \n",
      "\n",
      "When giving this holiday season, give the thoughts of repair, care and #WornWear. Our free Worn Wear Repair and... https://t.co/1Bv3zE4Af0 \n",
      "\n",
      "Repair is a Radical Act https://t.co/rpRmAedPu7 #patagonia #wornwear #sustainability #recycling #simplicity \n",
      "\n",
      "I just listed 'Patagonia polo shirt, Mens M, organic cotto' on eBay. Check it out. #thrifting #wornwear #patagonia http://t.co/P3z9QnByRy \n",
      "\n",
      "I just listed 'Patagonia capilene, womens Medium, 1/4 zip ' on eBay. Check it out. #thrifting #wornwear #patagonia http://t.co/qlMgzKwmlV \n",
      "\n",
      "____________________________________________________________________\n",
      "\n",
      "Top 10 words in topic_1\n",
      "\n",
      "        topic_0  topic_1  topic_2  topic_3  topic_4  topic_5\n",
      "check   0.03997  1.21532  0.00000  0.08342  0.05637  0.00496\n",
      "just    0.00000  1.13320  0.01377  0.01585  0.00255  0.02468\n",
      "listed  0.00000  1.10292  0.00000  0.00000  0.00000  0.00000\n",
      "ebay    0.00000  1.10053  0.00000  0.00000  0.00000  0.00000\n",
      "mens    0.00000  0.52433  0.00000  0.00000  0.00000  0.00000\n",
      "womens  0.00000  0.51906  0.00000  0.00000  0.00000  0.00000\n",
      "size    0.00000  0.29473  0.00111  0.00000  0.00000  0.00000\n",
      "shirt   0.00000  0.27355  0.00093  0.00000  0.00165  0.00000\n",
      "jacket  0.00149  0.25425  0.00000  0.20377  0.00515  0.04403\n",
      "shorts  0.00000  0.15477  0.00000  0.00000  0.00215  0.00828\n",
      "____________________________________________________________________\n"
     ]
    }
   ],
   "source": [
    "topics_tweets_words('topic_1', 10, 10)"
   ]
  },
  {
   "cell_type": "code",
   "execution_count": 484,
   "id": "ff998be4",
   "metadata": {},
   "outputs": [],
   "source": [
    "#Ok! This one is easy to identify, it's related to sells!"
   ]
  },
  {
   "cell_type": "code",
   "execution_count": 485,
   "id": "7e0098e4",
   "metadata": {},
   "outputs": [],
   "source": [
    "#Now, I'll create a function to get the rest of the topics.\n",
    "def alltopics(topics ,n_tweets , n_words):\n",
    "    for topic in topics:\n",
    "        topics_tweets_words(topic, n_tweets, n_words)"
   ]
  },
  {
   "cell_type": "code",
   "execution_count": 486,
   "id": "cdc0fc8d",
   "metadata": {},
   "outputs": [],
   "source": [
    "#This time, we will start from topic_2, in the future, we will give the function all of the topics."
   ]
  },
  {
   "cell_type": "code",
   "execution_count": 487,
   "id": "b24c2f62",
   "metadata": {},
   "outputs": [],
   "source": [
    "topics = ['topic_2', 'topic_3', 'topic_4', 'topic_5']"
   ]
  },
  {
   "cell_type": "code",
   "execution_count": 488,
   "id": "c36faf08",
   "metadata": {},
   "outputs": [
    {
     "name": "stdout",
     "output_type": "stream",
     "text": [
      "nan \n",
      "\n",
      "nan \n",
      "\n",
      "nan \n",
      "\n",
      "nan \n",
      "\n",
      "nan \n",
      "\n",
      "____________________________________________________________________\n",
      "\n",
      "Top 5 words in topic_2\n",
      "\n",
      "       topic_0  topic_1  topic_2  topic_3  topic_4  topic_5\n",
      "eco    0.00000  0.00000  1.48929  0.00000  0.00000  0.00000\n",
      "way    0.00424  0.00522  1.46495  0.04257  0.00101  0.00255\n",
      "shop   0.00000  0.00000  1.46282  0.00000  0.00957  0.00286\n",
      "finds  0.00000  0.00000  0.02210  0.00244  0.01063  0.01296\n",
      "need   0.00000  0.01000  0.02005  0.16001  0.00854  0.04954\n",
      "____________________________________________________________________\n",
      "Just dropped my favourite jacket off to be fixed with #WornWear at @boxpark - they're there today and tomorrow #thisisthoughtful \n",
      "\n",
      "charmed the hiking boots off everyone on the @patagonia wornwear tour @bivouacannarbor --… https://t.co/msVQ9fquXV \n",
      "\n",
      "#wornwear tour back in #milano \n",
      "\n",
      "Tomorrow (3/1) on the quad bring clothes for repair to @patagonia #WornWear and check out @BeforeTheFlood_ at 7:30 pm in MGC Tavern! https://t.co/ELTsPjOGFv \n",
      "\n",
      "Checking out @wornwear at Patagonia Portland today, love this repair program and truck rep… https://t.co/futxDDDyqF https://t.co/SXWVtptekI \n",
      "\n",
      "____________________________________________________________________\n",
      "\n",
      "Top 5 words in topic_3\n",
      "\n",
      "        topic_0  topic_1  topic_2  topic_3  topic_4  topic_5\n",
      "tour    0.00000  0.00000  0.00000  1.27714  0.00000  0.00000\n",
      "repair  0.00000  0.00000  0.00000  0.91592  0.00000  0.05875\n",
      "today   0.00000  0.00547  0.00000  0.73914  0.00122  0.00000\n",
      "fix     0.00000  0.00000  0.01815  0.63701  0.00000  0.00000\n",
      "gear    0.00172  0.00000  0.00870  0.57284  0.05372  0.05619\n",
      "____________________________________________________________________\n",
      "There's a reason that my outdoor gear is almost exclusively @patagonia http://t.co/TlX9E9ScXD #AntiBlackFriday #WornWear \n",
      "\n",
      "Amazing campaign by @patagonia reminds us of the evil of \"buying season\" and the awesomeness of the used. http://t.co/xKWPoVLNgr #WornWear \n",
      "\n",
      "This @outsidemagazine post about @patagonia's new film #WornWear is just...wow! As if I didn't love them already... http://t.co/q7KSfdxYZg \n",
      "\n",
      "#wornwear (@ BASE#1) http://t.co/DlzIV5EiKe \n",
      "\n",
      "Love this #WornWear RT @PatagoniaCHI Forget those long shopping lines today &amp;come celebrate what you already own w/us http://t.co/5yRYWAALxd \n",
      "\n",
      "____________________________________________________________________\n",
      "\n",
      "Top 5 words in topic_4\n",
      "\n",
      "           topic_0  topic_1  topic_2  topic_3  topic_4  topic_5\n",
      "love       0.00000  0.00000  0.00000  0.00000  1.30743  0.00000\n",
      "celebrate  0.00000  0.00000  0.00000  0.00000  0.96103  0.00000\n",
      "stuff      0.00000  0.00000  0.00478  0.00000  0.79593  0.00000\n",
      "shopping   0.00000  0.00000  0.00000  0.00000  0.46086  0.00000\n",
      "instead    0.00000  0.00000  0.00152  0.00000  0.43517  0.01829\n",
      "____________________________________________________________________\n",
      "Today's our last stop on the #wornwear tour! Come play at @ucsantabarbara with us and @UCSBSustainable from 11-5PM.\n",
      "https://t.co/eFr8AWMNow https://t.co/cjpUFC7I0d \n",
      "\n",
      "Repping DCFF / @PatagoniaDC / @patagonia  #wornwear @damagedcity festival 2017 #Humanrights #defendbearsears @ciw @sfalliance @alliance4ff https://t.co/PHjG49oZJl \n",
      "\n",
      "Personal Activism for a Threatened Planet with Scott Briscoe, happening now at @BerkeleyHaas Wells Fargo Room #wornwear #patagoniacasecomp https://t.co/1tUeMqgNIC \n",
      "\n",
      "RT @reece: #BlackFriday is disgusting. I love @Patagonia's answer to it. Watch #WornWear &amp; reconsider your consumpt'n http://t.co/OnFVvZOb8X \n",
      "\n",
      "Better than new. #wornwear https://t.co/H7OJHGR3Ly \n",
      "\n",
      "____________________________________________________________________\n",
      "\n",
      "Top 5 words in topic_5\n",
      "\n",
      "         topic_0  topic_1  topic_2  topic_3  topic_4  topic_5\n",
      "new      0.00000  0.00119  0.00000  0.00000  0.00000  1.64315\n",
      "better   0.00000  0.00000  0.00000  0.00000  0.00000  0.88336\n",
      "clothes  0.01630  0.00000  0.00000  0.27585  0.04471  0.29417\n",
      "old      0.00000  0.00532  0.00000  0.16193  0.01413  0.24141\n",
      "buy      0.00000  0.00000  0.00000  0.16115  0.04759  0.22943\n",
      "____________________________________________________________________\n"
     ]
    }
   ],
   "source": [
    "alltopics(topics,n_tweets=5, n_words = 5)"
   ]
  },
  {
   "cell_type": "code",
   "execution_count": 489,
   "id": "43668d8f",
   "metadata": {},
   "outputs": [],
   "source": [
    "#Now, for these other topics, it has gotten a little bit more fuzzy to identify topics. "
   ]
  },
  {
   "cell_type": "code",
   "execution_count": 490,
   "id": "912dd1a2",
   "metadata": {},
   "outputs": [],
   "source": [
    "#Tomorrow's plan, use min_df, max_df and lemmatization or stemming. "
   ]
  },
  {
   "cell_type": "code",
   "execution_count": 491,
   "id": "99677d6b",
   "metadata": {},
   "outputs": [],
   "source": [
    "#Let's try with lemmatization first. 11-05-2021. "
   ]
  },
  {
   "cell_type": "code",
   "execution_count": 1479,
   "id": "abe15608",
   "metadata": {
    "scrolled": true
   },
   "outputs": [],
   "source": [
    "def streamline(n_components, n_tweets, n_words):\n",
    "    #Creating a function to streamline the processes needed.\n",
    "    #A function to get rid of some undesired characters.\n",
    "    global df\n",
    "    df = pd.read_csv('rawtweets.csv')\n",
    "    \n",
    "    df.drop_duplicates(subset =\"renderedContent\",\n",
    "                         keep = 'last', inplace = True)\n",
    "\n",
    "    df.drop(columns=['Unnamed: 0', '_type', 'content', \n",
    "                    'lang', 'conversationId','sourceUrl', 'source',\n",
    "                    'sourceLabel', 'outlinks', 'tcooutlinks', 'inReplyToTweetId',\n",
    "                    'inReplyToUser', 'cashtags'], inplace=True)\n",
    "    df= df.rename(columns={'renderedContent': 'content'})\n",
    "    \n",
    "    #Deleting tweetst created by any of the patagonia accounts:\n",
    "    df = df[~df.user.str.contains('patagonia')]\n",
    "    \n",
    "    def processTweet(tweet):\n",
    "        # Remove HTML special entities (e.g. &amp;)\n",
    "        tweet = re.sub(r'\\&\\w*;', '', tweet)\n",
    "        #Convert @username to AT_USER\n",
    "        tweet = re.sub('@[^\\s]+','',tweet)\n",
    "        # Remove tickers\n",
    "        tweet = re.sub(r'\\$\\w*', '', tweet)\n",
    "        # To lowercase\n",
    "        tweet = tweet.lower()\n",
    "        # Remove hyperlinks\n",
    "        tweet = re.sub(r'https?:\\/\\/.*\\/\\w*', '', tweet)\n",
    "        #Removing other hyperlinks that don't have http. \n",
    "        tweet = re.sub(r'\\w+\\.\\w+\\/.*', '', tweet)\n",
    "        tweet = re.sub(r'\\w+\\.\\w+\\..*', '', tweet)\n",
    "        # Remove hashtags\n",
    "        tweet = re.sub(r'#\\w*', '', tweet)\n",
    "        # Remove whitespace (including new line characters)\n",
    "        tweet = re.sub(r'\\s\\s+', ' ', tweet)\n",
    "        # Remove single space remaining at the front of the tweet.\n",
    "        tweet = tweet.lstrip(' ') \n",
    "        # Remove characters beyond Basic Multilingual Plane (BMP) of Unicode:\n",
    "        tweet = ''.join(c for c in tweet if c <= '\\uFFFF')\n",
    "        # Remove numbers\n",
    "        tweet=  re.sub(r'\\d', '', tweet)\n",
    "        #Another one to try to remove links.\n",
    "        tweet = re.sub(r'http\\S+', '', tweet)\n",
    "        \n",
    "        return tweet\n",
    "        \n",
    "        #Tokenization and lemmanization. \n",
    "    def tokenize(tweet):\n",
    "        \"\"\"Returns tokenized representation of words in lemma form excluding stopwords\"\"\"\n",
    "        result = []\n",
    "        for token in gensim.utils.simple_preprocess(tweet):\n",
    "            if token not in gensim.parsing.preprocessing.STOPWORDS \\\n",
    "                    and len(token) > 2:  # drops words with less than 3 characters\n",
    "                result.append(lemmatize(token))\n",
    "        return result\n",
    "\n",
    "\n",
    "    def lemmatize(token):\n",
    "        \"\"\"Returns lemmatization of a token\"\"\"\n",
    "        return WordNetLemmatizer().lemmatize(token, pos='v')\n",
    "        \n",
    "    def string_joiner(x):\n",
    "        return ' '.join([str(item) for item in x])  \n",
    "    \n",
    "    df['clean'] = df.content.apply(processTweet)\n",
    "    #Applying lemmatization\n",
    "    df['lemma'] = df.clean.apply(tokenize)\n",
    "    df['joined_lemma'] = df.lemma.apply(string_joiner)\n",
    "\n",
    "    #Adding the column with the number of words after the cleaning. \n",
    "    def word_count(sentence):\n",
    "        return len(sentence.split())\n",
    "    df['wc'] = df.clean.apply(word_count)\n",
    "    df['wcbc'] = df.content.apply(word_count)\n",
    "    \n",
    "    global corpus\n",
    "    corpus = df.joined_lemma\n",
    "    words_to_add = ['wornwear', 'patagonia', \\\n",
    "                    'rt', 'wear', 'instead', 'horse','stuff', 'wet', 'worn', 'today',\n",
    "                   'tomorrow', 'come', 'smelly', 'flitbids', 'check', 'jacket']\n",
    "    stop_w = ENGLISH_STOP_WORDS.union(words_to_add)\n",
    "    global tfidf\n",
    "    tfidf = TfidfVectorizer(stop_words=stop_w, max_df=0.6 ,max_features=1500, binary=False)\n",
    "    global tweet_word_matrix\n",
    "    tweet_word_matrix = tfidf.fit_transform(corpus)\n",
    "    print(tweet_word_matrix.shape)\n",
    "    global vocab\n",
    "    vocab = tfidf.get_feature_names()\n",
    "    global nmf\n",
    "    nmf = NMF(n_components, random_state=44) #Creating the nmf object with n_components (or topics) \n",
    "    nmf.fit(tweet_word_matrix)\n",
    "    global tweet_topic_matrix_df\n",
    "    tweet_topic_matrix = nmf.transform(tweet_word_matrix)\n",
    "    tweet_topic_matrix_df = pd.DataFrame(tweet_topic_matrix).add_prefix('topic_')\n",
    "    global w\n",
    "    w  = tweet_topic_matrix_df.columns.tolist()\n",
    "\n",
    "    tweet_topic_matrix_df[['tweet_original', 'clean_tweets']] = df[['content', 'clean']]\n",
    "    \n",
    "    #Assigning each document to a topic by using the maximum likelihood from NMF\n",
    "    df.reset_index(inplace=True)\n",
    "    df['assigned_topic'] = tweet_topic_matrix_df.iloc[:,:n_components].idxmax(axis=1)\n",
    "    \n",
    "    global word_topic_matrix_df\n",
    "    word_topic_matrix_df = pd.DataFrame(nmf.components_, columns=vocab).T.add_prefix('topic_')\n",
    "\n",
    "    alltopics(w, n_tweets, n_words)\n",
    "    \n",
    "    \n",
    "# Trying CorEx\n",
    "    doc_word = tweet_word_matrix\n",
    "    words = list(np.asarray(tfidf.get_feature_names()))\n",
    "    global topic_model\n",
    "    topic_model = ct.Corex(n_hidden=10, words=words,\n",
    "                       max_iter=200, verbose=False, seed=1)\n",
    "\n",
    "    topic_model.fit(doc_word, words=words, docs=corpus, \n",
    "                anchors=[['sustainable', 'waste', 'footprint', 'landfill'], \n",
    "                         ['film' ,'stories', 'watch', 'keith'], \n",
    "                         ['tour', 'fix', 'repair', 'free'], \n",
    "                         ['fix', 'save', 'money'],\n",
    "                        ['ebay', 'list', 'check'],\n",
    "                        ['love', 'celebrate', 'holiday', 'blackfriday']], anchor_strength=6)\n",
    "\n",
    "    # Print all topics from the CorEx topic model\n",
    "    topics = topic_model.get_topics()\n",
    "    for n,topic in enumerate(topics):\n",
    "        topic_words,_,_ = zip(*topic)\n",
    "        print('{}: '.format(n) + ','.join(topic_words))\n",
    "    print('\\n')\n",
    "    print('___________________________________________________________________')\n",
    "    #Print documents associated with the topics\n",
    "    global top_docs\n",
    "    top_docs = topic_model.get_top_docs()\n",
    "    \n",
    "    for topic_n, topic_docs in enumerate(top_docs):\n",
    "        docs,probs = zip(*topic_docs)\n",
    "        topic_str = str(topic_n)+': '+', '.join(docs)\n",
    "        print(topic_str +'\\n')\n",
    "        print(topic_model.get_top_docs(topic=topic_n, n_docs=5, sort_by='log_prob', print_docs=False))\n",
    "    "
   ]
  },
  {
   "cell_type": "code",
   "execution_count": 1480,
   "id": "bbed17ff",
   "metadata": {
    "scrolled": true
   },
   "outputs": [
    {
     "name": "stdout",
     "output_type": "stream",
     "text": [
      "(3417, 1500)\n",
      "Fixing my gear, #wornwear #blameitonthemonkey #oldguysrule… instagram.com/p/BGJzBGql0his… \n",
      "\n",
      "@Aerolineas_AR Horse Riding in Patagonia ow.ly/jSTf309PjO7 #voteourplanet #wornwear #protectbearsears #goodbyeneoprene \n",
      "\n",
      "@patagonia and their #wornwear movement rock! Cool article about their \"anti-growth\" strategy: newyorker.com/business/curre… \n",
      "\n",
      "New life for old gear. @patagonia reignites its #wornwear program! wornwear.patagonia.com \n",
      "\n",
      "nan \n",
      "\n",
      "charmed the hiking boots off everyone on the @patagonia wornwear tour @bivouacannarbor --… instagram.com/p/BKJcWVdh4Bt/ \n",
      "\n",
      "nan \n",
      "\n",
      "@patagonia urges more make do and mend is better for all of us! #WornWear #repair your clothes buff.ly/24jYx7N \n",
      "\n",
      "Winter's here time to pull on my trusty @patagonia thermals 13 years of service so far #WornWear http://t.co/SNqVP3yQxD \n",
      "\n",
      "nan \n",
      "\n",
      "____________________________________________________________________\n",
      "\n",
      "Top 10 words in topic_0\n",
      "\n",
      "        topic_0  topic_1  topic_2  topic_3\n",
      "repair  1.40663  0.00000  0.00000  0.00000\n",
      "tour    1.27764  0.00000  0.00000  0.00000\n",
      "clothe  1.02561  0.00000  0.04035  0.00497\n",
      "fix     0.95339  0.00000  0.00000  0.00000\n",
      "new     0.83008  0.08720  0.14224  0.05463\n",
      "gear    0.58921  0.00000  0.04019  0.02218\n",
      "free    0.57973  0.00000  0.00000  0.00000\n",
      "thank   0.57237  0.00000  0.00000  0.11502\n",
      "buy     0.49698  0.00333  0.01242  0.06143\n",
      "old     0.40242  0.00445  0.00780  0.02010\n",
      "____________________________________________________________________\n",
      "nan \n",
      "\n",
      "» worn on one of my wettest days flirtbids.com/auctions/women…  #UsedPantyAuction #UsedPanties #WornWear \n",
      "\n",
      "@patagonia says \"don't buy our jacket!\" Fix and wear forever? #WornWear: pat.ag/5gau http://t.co/ZdDX4n63BP \n",
      "\n",
      "Another favorite by Kipper from the week. @patagonia / wornwear #upcycled fabric inlay and resin tint… instagram.com/p/865UsRxR3_/ \n",
      "\n",
      "nan \n",
      "\n",
      "\"Your  Mum Won’t Repair Your Clothes Any More, but @Patagonia Will\" - #WornWear in @coachmag -- coachmag.co.uk/gear/5262/your… \n",
      "\n",
      "Come hang out with us and @1PercentFTP @patagoniabtv crew for the #wornwear event from now til 6pm http://t.co/aicxhR3dUv \n",
      "\n",
      "Found this awesome video on Patagonia repairs thanks to @tmildenhall. Makes me proud to wear @patagonia.  #wornwear youtu.be/7muOgpX8vaQ \n",
      "\n",
      "We're really excited to help @patagonia launch their UK #WornWear Tour, April 15/16 #Keswick georgefisher.co.uk/events/2016-04… https://t.co/cUSl1YspCc \n",
      "\n",
      "Leaning on trucks tonight with cottingram &amp; @patagonia wornwear @ RiverLink's RiverMUSIC instagram.com/p/2KQNgps55R/ \n",
      "\n",
      "____________________________________________________________________\n",
      "\n",
      "Top 10 words in topic_1\n",
      "\n",
      "        topic_0  topic_1  topic_2  topic_3\n",
      "ebay    0.00000  1.53363  0.00000  0.00000\n",
      "list    0.00000  1.52077  0.00000  0.00000\n",
      "mens    0.00000  0.73461  0.00000  0.00000\n",
      "womens  0.00000  0.62913  0.00000  0.00000\n",
      "size    0.00000  0.45904  0.00000  0.00000\n",
      "shirt   0.00838  0.33418  0.00000  0.01494\n",
      "short   0.01117  0.24672  0.18486  0.01594\n",
      "fleece  0.04222  0.20613  0.00000  0.02369\n",
      "great   0.19735  0.16119  0.21992  0.31187\n",
      "medium  0.00000  0.15846  0.00000  0.00000\n",
      "____________________________________________________________________\n",
      "A good ethic for business @patagonia #wornwear wp.me/p3QoUj-l0 \n",
      "\n",
      "@sammyrhodes unless you're these folks | youtube.com/watch?v=z20CjC… #wornwear #heartofpatagonia \n",
      "\n",
      "Photo: wornwear: Like Mother Like daughter Catherine Cullinane and Jane Jackson, Kelly, Wyoming Dear... tmblr.co/Z1aXvx1ALKuTM \n",
      "\n",
      "Looking forward to showing @patagonia's #WornWear today in the Wellness Promotion class I teach youtu.be/z20CjCim8DM \n",
      "\n",
      "#ThriftIsBack #BetterThanNew #WornWear for the Prom. Why not?  #gown #teens #appropriate #formals #elegance  r.ebay.com/UhFb8w \n",
      "\n",
      "How Yerdle and Patagonia are boosting the sharing economy, which began with their anti-Black Friday event #WornWear grn.bz/1iQql9Z \n",
      "\n",
      "Flea market bounty for a little project #patagonia #wornwear instagram.com/p/01EF5oqflp/ \n",
      "\n",
      "Love it-BlackFriday/CyberMonday @patagonia style #dontbuythisjacket, goo.gl/TX2Rn #betterthannew #wornwear goo.gl/TX2Rn \n",
      "\n",
      "#WornWear is an invitation to celebrate the stuff you already own. buff.ly/1gx1OI7 \n",
      "\n",
      "nan \n",
      "\n",
      "____________________________________________________________________\n",
      "\n",
      "Top 10 words in topic_2\n",
      "\n",
      "         topic_0  topic_1  topic_2  topic_3\n",
      "film     0.00000  0.00000  1.36737  0.00000\n",
      "stories  0.00000  0.00000  1.28973  0.04288\n",
      "present  0.00000  0.00000  0.70451  0.00000\n",
      "video    0.00000  0.00000  0.67159  0.00000\n",
      "keith    0.00000  0.00000  0.59757  0.00000\n",
      "direct   0.00000  0.00000  0.56153  0.00000\n",
      "watch    0.01406  0.00000  0.32451  0.04614\n",
      "great    0.19735  0.16119  0.21992  0.31187\n",
      "short    0.01117  0.24672  0.18486  0.01594\n",
      "new      0.83008  0.08720  0.14224  0.05463\n",
      "____________________________________________________________________\n",
      "If it's broke fix it! Patagonia's Worn Wear Campaign.  Step in the right direction.@Patagonia #WornWear #conservation heatherkallevig.com/2015/04/08/if-… \n",
      "\n",
      "I just listed 'Big Agnes Copper Spur UL2 mtnglo rain fly, ' on eBay. Check it out. #thrifting #wornwear #patagonia iwascoding.com/cgi-bin/viewAu… \n",
      "\n",
      "wornwear's photo instagram.com/p/whHY6Ormfa/ \n",
      "\n",
      "@RckyMtnBckpckr @KitBee92 @patagonia @tedcruz @WornWear So much shade. \n",
      "\n",
      "@patagonia Loved the #WornWear short film and the reuse you are inspiring! wornwear.patagonia.com \n",
      "\n",
      "nan \n",
      "\n",
      "nan \n",
      "\n",
      "Hey, you know what? @patagonia is awesome. Once again. Check out their nifty new platform for used clothes wornwear.patagonia.com #wornwear \n",
      "\n",
      "nan \n",
      "\n",
      "\"Mutual responsibility\" innovative and inspiring thoughts on consumption and consumerism from @patagonia's Rick Ridgeway. #MoCoNYC #wornwear \n",
      "\n",
      "____________________________________________________________________\n",
      "\n",
      "Top 10 words in topic_3\n",
      "\n",
      "            topic_0  topic_1  topic_2  topic_3\n",
      "love        0.00000  0.00000  0.00000  1.81007\n",
      "celebrate   0.00000  0.00000  0.06328  0.78139\n",
      "shop        0.02048  0.00000  0.00000  0.38163\n",
      "campaign    0.18067  0.00000  0.00000  0.34874\n",
      "great       0.19735  0.16119  0.21992  0.31187\n",
      "photo       0.00000  0.00000  0.00000  0.18678\n",
      "friday      0.04270  0.00000  0.05974  0.16284\n",
      "black       0.03133  0.01099  0.05488  0.15452\n",
      "idea        0.02059  0.00000  0.00000  0.13077\n",
      "initiative  0.04426  0.00000  0.00000  0.11679\n",
      "____________________________________________________________________\n",
      "WARNING: Anchor word not in word column labels provided to CorEx: check\n",
      "0: sustainable,waste,landfill,footprint,magazine,plain,level,website,carbon,fashion\n",
      "1: film,stories,watch,keith,present,direct,video,short,tell,lauren\n",
      "2: repair,tour,fix,free,college,radical,europe,gear,urge,act\n",
      "3: fix,save,money,break,jack,tear,thank,planet,creature,clevenger\n",
      "4: ebay,list,mens,womens,size,medium,shirt,small,face,polo\n",
      "5: love,celebrate,blackfriday,shop,recommendation,campaign,idea,series,invitation,xtend\n",
      "6: latest,daily,rearguardgear,progs,norm,fly,inventory,fuel,fossil,bandana\n",
      "7: activities,ridgeway,rick,apparel,denver,colorado,sustainability,march,gold,daughter\n",
      "8: resin,tint,fabric,inlay,mount,tail,gopro,boxers,fish,age\n",
      "9: formals,girls,scar,ago,survive,species,scheme,salt,promise,profile\n",
      "\n",
      "\n",
      "___________________________________________________________________\n",
      "0: check patagonia wear wear peach mens polo golf shirt xxl responsibli sustainable, patagonia wear wear european help reduce ecological footprint, explication shirt waste program like matter apps, thank repair save landfill, go irl url online shop sustainable, yes love sustainable brand idea, strive waste obsolete return policy get, patagonia website call wornwear sell piece help reduce carbon footprint people access affordable high quality clothe, clothe stay use extra months reduce carbon water waste footprint, love snow reduce carbon footprint\n",
      "\n",
      "[(421, 0.0), (1432, 0.0), (2875, 0.0), (2110, 0.0), (868, 0.0)]\n",
      "1: stories wear clothe statement patagonia stories clothe tell life, video wornwear wear wear outtake brave new fleece direct keith lauren chris dan malloy, video wornwear wear wear film stories wear present patagonia direct keith, video wornwear wear wear film stories wear present patagonia direct keith, video wornwear wear wear film stories wear present patagonia direct keith, wornwear patagonia smart patagonia figure watch film, stories wear better repair clothe chuck video, great film today appear film, watch doc film time favorite company proud patagonia pro watch wornwear, video wornwear wear wear film stories wear present patagonia direct keith\n",
      "\n",
      "[(3132, 0.0), (2652, 0.0), (3076, 0.0), (3080, 0.0), (3085, 0.0)]\n",
      "2: caravan strategy offer free clothe repair free course cloth repair, break fix repair radical act, cool patagonia tour, break fix awesome repair pdx, look wagon conference fix tattered gear free, fix jacket benefit, day patagonia tour hayle quickly break fix, tour europe love, love campaign old kit repair free, thank repair jacket free hayle today\n",
      "\n",
      "[(909, 0.0), (1775, 0.0), (2298, 0.0), (2482, 0.0), (2459, 0.0)]\n",
      "3: save planet culture repair life long use, get bag fix tour, fix gear, replace fix cool, break fix way, thank fix jacket, break fix patagonia, faves fix shop, thank team today fix jacket take time fix drybag get good tip zip repair, like break fix message\n",
      "\n",
      "[(1461, 0.0), (1374, 0.0), (1372, 0.0), (2257, 0.0), (1955, 0.0)]\n",
      "4: list prana skirt size small ebay check, list vivo barefoot mens good condi ebay check, list ibex shak zip classic mens ligh ebay check, list patagonia synchilla vest womens vintage ebay check, list patagonia capilne fleece zip mens ebay check, list horny toad jitterbug tank womens ebay check, list land rover drive school expedition shirt ebay check, list crew wool sweater mens ebay check, list timbuk messenger bag great condition ebay check, list patagonia kid medium vest lightly ebay check\n",
      "\n",
      "[(1884, 0.0), (2096, 0.0), (2347, 0.0), (2348, 0.0), (2349, 0.0)]\n",
      "5: great recommendation celebrate check, celebrate screen love music todd hannigan, great recommendation celebrate check, amen instead shop celebrate stuff, love, tomorrow join program celebrate stories wear, great recommendation celebrate check, love, photo wornwear celebrate, reason love\n",
      "\n",
      "[(3075, 0.0), (2888, 0.0), (2893, 0.0), (2918, 0.0), (1933, 0.0)]\n",
      "6: progs like norm, progs like norm, latest rearguardgear daily, latest rearguardgear daily, latest rearguardgear daily, latest rearguardgear daily, sheepskin fur coat wear generations lot wear reduce reliance fossil fuel heat time sheep feed meals shear create wool garment likely existence, valid crunch number original mouton coat pic save term fossil fuel feed people sheep reverse insanity narrative dictate wef sponsor science stop rot, shop inventory national park original topo bandana, dudes wornwear portsmouth morning portsmouth new hampshire\n",
      "\n",
      "[(1367, -1.0012654205748817e-08), (1366, -1.0012654205748817e-08), (727, -0.0020418883896828888), (792, -0.0020418883896828888), (855, -0.0020418883896828888)]\n",
      "7: wornwear like mother like daughter catherine cullinane jane jackson kelly, photo wornwear like mother like daughter catherine cullinane jane jackson kelly wyoming dear, daughter cape, mins gold, mins gold, sustainability apparel outdoor activities march denver colorado, sustainability apparel outdoor activities march denver colorado, sustainability apparel outdoor activities march denver colorado, sustainability apparel outdoor activities march denver colorado, sustainability apparel outdoor activities march denver colorado\n",
      "\n",
      "[(3402, -2.37030816085948e-08), (2674, -2.0479880313839516e-07), (2144, -1.1083007263150424e-06), (3262, -0.001033950508970205), (3264, -0.001033950508970205)]\n",
      "8: beware endeavor require new clothe henry david thoreau, beware enterprises require new clothe henry david thoreau, beware enterprises require new clothe henry david thoreau yvon chouinard, beware endeavour require new clothe henry david thoreau favorite quote, age approrpiate teens tweens, age approrpiate teens tweens, afraid endeavor require new clothe henry thoreau, age approrpiate dress teens tweens, age approrpiate dress teens tweens, age approrpiate dress teens tweens\n",
      "\n",
      "[(2946, -2.531308496145357e-14), (2604, -1.5711876244495215e-12), (3218, -7.129408174932905e-12), (3027, -2.5296209571479267e-11), (2681, -6.524603080038105e-11)]\n",
      "9: girls formals, girls formals, girls formals, elegant formals, clothe scar bodily scar nellie, wholesome dress formals, get jacket fix bus yay thank girls, list patagonia girls small sun hat ebay check, honestly look like kind person buy oregano instead weed accident behalf girls gays politely fuck self, hear manager nellie cohen self organize sustainability initiatives enable blog\n",
      "\n",
      "[(2698, -0.024841692041204955), (2699, -0.024841692041204955), (2700, -0.024841692041204955), (2796, -0.03977551038190622), (875, -0.04983552756424124)]\n"
     ]
    }
   ],
   "source": [
    "streamline(4, n_tweets= 10, n_words=10)"
   ]
  },
  {
   "cell_type": "code",
   "execution_count": null,
   "id": "0e81fe3f",
   "metadata": {},
   "outputs": [],
   "source": []
  },
  {
   "cell_type": "markdown",
   "id": "2fe331ba",
   "metadata": {},
   "source": [
    "# Topic 0 = Repair Tours"
   ]
  },
  {
   "cell_type": "code",
   "execution_count": 1293,
   "id": "408cdb58",
   "metadata": {
    "scrolled": false
   },
   "outputs": [],
   "source": [
    "helper = word_topic_matrix_df.sort_values(by='topic_0', ascending=False).head(10)"
   ]
  },
  {
   "cell_type": "code",
   "execution_count": 1314,
   "id": "f0fbc93d",
   "metadata": {},
   "outputs": [
    {
     "data": {
      "image/png": "[encoded data removed]",
      "text/plain": [
       "<Figure size 432x288 with 1 Axes>"
      ]
     },
     "metadata": {},
     "output_type": "display_data"
    }
   ],
   "source": [
    "sns.barplot(x=helper.index, y=\"topic_0\", data=helper, color='white');\n",
    "plt.ylabel('Word relevance by topic', size=12, family='monospace', color='white')\n",
    "sns.axes_style({'text.color': 'white',\n",
    " 'xtick.color': 'white',\n",
    " 'ytick.color': 'white',\n",
    " 'axes.facecolor': 'white',\n",
    " 'axes.edgecolor': 'white',\n",
    " 'axes.grid': True,\n",
    " 'axes.axisbelow': 'line',\n",
    " 'axes.labelcolor': 'white',\n",
    " 'figure.facecolor': 'white',\n",
    " 'patch.edgecolor': 'white'})\n",
    "sns.set_style(\"whitegrid\", {\"grid.color\": \".8\"})\n",
    "plt.tick_params(axis='x', colors='white')\n",
    "plt.tick_params(axis='y', colors='white')\n",
    "plt.savefig('wordsTopic0.png', transparent=True, dpi=300)"
   ]
  },
  {
   "cell_type": "markdown",
   "id": "a4f62275",
   "metadata": {},
   "source": [
    "# Topic 1 - eBay"
   ]
  },
  {
   "cell_type": "code",
   "execution_count": 1315,
   "id": "754a5d8d",
   "metadata": {
    "scrolled": true
   },
   "outputs": [
    {
     "data": {
      "image/png": "[encoded data removed]",
      "text/plain": [
       "<Figure size 432x288 with 1 Axes>"
      ]
     },
     "metadata": {},
     "output_type": "display_data"
    }
   ],
   "source": [
    "helper = word_topic_matrix_df.sort_values(by='topic_1', ascending=False).head(10)\n",
    "sns.barplot(x=helper.index, y=\"topic_1\", data=helper, color='white');\n",
    "plt.ylabel('Word relevance by topic', size=12, family='monospace', color='white')\n",
    "sns.axes_style({'text.color': 'white',\n",
    " 'xtick.color': 'white',\n",
    " 'ytick.color': 'white',\n",
    " 'axes.facecolor': 'white',\n",
    " 'axes.edgecolor': 'white',\n",
    " 'axes.grid': True,\n",
    " 'axes.axisbelow': 'line',\n",
    " 'axes.labelcolor': 'white',\n",
    " 'figure.facecolor': 'white',\n",
    " 'patch.edgecolor': 'white'})\n",
    "sns.set_style(\"whitegrid\", {\"grid.color\": \".8\"})\n",
    "plt.tick_params(axis='x', colors='white')\n",
    "plt.tick_params(axis='y', colors='white')\n",
    "plt.savefig('wordsTopic1.png', transparent=True, dpi=300)"
   ]
  },
  {
   "cell_type": "markdown",
   "id": "7fe19201",
   "metadata": {},
   "source": [
    "# Topic 2 - Films and short stories"
   ]
  },
  {
   "cell_type": "code",
   "execution_count": 1317,
   "id": "b0a64b29",
   "metadata": {
    "scrolled": true
   },
   "outputs": [
    {
     "data": {
      "image/png": "[encoded data removed]",
      "text/plain": [
       "<Figure size 432x288 with 1 Axes>"
      ]
     },
     "metadata": {},
     "output_type": "display_data"
    }
   ],
   "source": [
    "helper = word_topic_matrix_df.sort_values(by='topic_2', ascending=False).head(10)\n",
    "sns.barplot(x=helper.index, y=\"topic_2\", data=helper, color='white');\n",
    "plt.ylabel('Word relevance by topic', size=12, family='monospace', color='white')\n",
    "sns.axes_style({'text.color': 'white',\n",
    " 'xtick.color': 'white',\n",
    " 'ytick.color': 'white',\n",
    " 'axes.facecolor': 'white',\n",
    " 'axes.edgecolor': 'white',\n",
    " 'axes.grid': True,\n",
    " 'axes.axisbelow': 'line',\n",
    " 'axes.labelcolor': 'white',\n",
    " 'figure.facecolor': 'white',\n",
    " 'patch.edgecolor': 'white'})\n",
    "sns.set_style(\"whitegrid\", {\"grid.color\": \".8\"})\n",
    "plt.tick_params(axis='x', colors='white')\n",
    "plt.tick_params(axis='y', colors='white')\n",
    "plt.savefig('wordsTopic2.png', transparent=True, dpi=300)"
   ]
  },
  {
   "cell_type": "markdown",
   "id": "e5b284f8",
   "metadata": {},
   "source": [
    "# Topic 3- Holidays and BlackFriday"
   ]
  },
  {
   "cell_type": "code",
   "execution_count": 1319,
   "id": "25ccb778",
   "metadata": {},
   "outputs": [
    {
     "data": {
      "image/png": "[encoded data removed]",
      "text/plain": [
       "<Figure size 432x288 with 1 Axes>"
      ]
     },
     "metadata": {},
     "output_type": "display_data"
    }
   ],
   "source": [
    "helper = word_topic_matrix_df.sort_values(by='topic_3', ascending=False).head(10)\n",
    "sns.barplot(x=helper.index, y=\"topic_3\", data=helper, color='white');\n",
    "plt.ylabel('Word relevance by topic', size=12, family='monospace', color='white')\n",
    "sns.axes_style({'text.color': 'white',\n",
    " 'xtick.color': 'white',\n",
    " 'ytick.color': 'white',\n",
    " 'axes.facecolor': 'white',\n",
    " 'axes.edgecolor': 'white',\n",
    " 'axes.grid': True,\n",
    " 'axes.axisbelow': 'line',\n",
    " 'axes.labelcolor': 'white',\n",
    " 'figure.facecolor': 'white',\n",
    " 'patch.edgecolor': 'white'})\n",
    "sns.set_style(\"whitegrid\", {\"grid.color\": \".8\"})\n",
    "plt.tick_params(axis='x', colors='white')\n",
    "plt.tick_params(axis='y', colors='white')\n",
    "plt.savefig('wordsTopic3.png', transparent=True, dpi=300)"
   ]
  },
  {
   "cell_type": "code",
   "execution_count": 1322,
   "id": "ebef58b1",
   "metadata": {},
   "outputs": [],
   "source": [
    "#word_topic_matrix_df"
   ]
  },
  {
   "cell_type": "code",
   "execution_count": null,
   "id": "c73a4819",
   "metadata": {
    "scrolled": false
   },
   "outputs": [],
   "source": [
    "df.content.iloc[3416]"
   ]
  },
  {
   "cell_type": "code",
   "execution_count": 1255,
   "id": "50c5909c",
   "metadata": {},
   "outputs": [
    {
     "data": {
      "text/plain": [
       "'@patagonia @tedcruz @WornWear I love that @esquire picked up on the shade!😆 esquire.com/uk/style/a3556…'"
      ]
     },
     "execution_count": 1255,
     "metadata": {},
     "output_type": "execute_result"
    }
   ],
   "source": [
    "df.content.iloc[128]"
   ]
  },
  {
   "cell_type": "code",
   "execution_count": 884,
   "id": "1bf2fa6f",
   "metadata": {},
   "outputs": [],
   "source": [
    "#Distribution of the tweets based on their word count after cleaning. "
   ]
  },
  {
   "cell_type": "code",
   "execution_count": 1062,
   "id": "e0b9c0f1",
   "metadata": {
    "scrolled": true
   },
   "outputs": [
    {
     "data": {
      "image/png": "[encoded data removed]",
      "text/plain": [
       "<Figure size 360x360 with 1 Axes>"
      ]
     },
     "metadata": {},
     "output_type": "display_data"
    }
   ],
   "source": [
    "fig = sns.displot(data=df, x=df.wc, bins=30,  color='white')\n",
    "\n",
    "#fig = fig.set(xlabel='Number of words', ylabel='Number of tweets')\n",
    "plt.xlabel('Number of Words', size=12, family='monospace', color='white')\n",
    "plt.ylabel('Number of Tweets', size=12, family='monospace', color='white')\n",
    "sns.axes_style({'text.color': 'white',\n",
    " 'xtick.color': 'white',\n",
    " 'ytick.color': 'white',\n",
    " 'axes.facecolor': 'white',\n",
    " 'axes.edgecolor': 'white',\n",
    " 'axes.grid': True,\n",
    " 'axes.axisbelow': 'line',\n",
    " 'axes.labelcolor': 'white',\n",
    " 'figure.facecolor': 'white',\n",
    " 'patch.edgecolor': 'white'})\n",
    "sns.set_style(\"whitegrid\", {\"grid.color\": \".8\"})\n",
    "plt.tick_params(axis='x', colors='white')\n",
    "plt.tick_params(axis='y', colors='white')\n",
    "\n",
    "fig.savefig('wc.png', transparent=True, dpi=300)"
   ]
  },
  {
   "cell_type": "code",
   "execution_count": 1068,
   "id": "03d7affe",
   "metadata": {},
   "outputs": [
    {
     "data": {
      "image/png": "[encoded data removed]",
      "text/plain": [
       "<Figure size 432x288 with 1 Axes>"
      ]
     },
     "metadata": {},
     "output_type": "display_data"
    }
   ],
   "source": [
    "fig = sns.boxplot(x=df[\"wc\"], color='white')\n",
    "plt.xlabel('Number of Words', size=12, family='monospace', color='white')\n",
    "'''plt.ylabel('Number of Tweets', size=12, family='monospace', color='white')'''\n",
    "sns.axes_style({'text.color': 'white',\n",
    " 'xtick.color': 'white',\n",
    " 'ytick.color': 'white',\n",
    " 'axes.facecolor': 'white',\n",
    " 'axes.edgecolor': 'white',\n",
    " 'axes.grid': True,\n",
    " 'axes.axisbelow': 'line',\n",
    " 'axes.labelcolor': 'white',\n",
    " 'figure.facecolor': 'white',\n",
    " 'patch.edgecolor': 'white'})\n",
    "sns.set_style(\"whitegrid\", {\"grid.color\": \".8\"})\n",
    "plt.tick_params(axis='x', colors='white')\n",
    "plt.tick_params(axis='y', colors='white')\n",
    "plt.savefig('wcBox.png', transparent=True, dpi=300)"
   ]
  },
  {
   "cell_type": "code",
   "execution_count": 1192,
   "id": "2b941bbf",
   "metadata": {
    "scrolled": true
   },
   "outputs": [
    {
     "data": {
      "text/plain": [
       "count   3417.00000\n",
       "mean      13.70676\n",
       "std        8.62523\n",
       "min        0.00000\n",
       "25%        8.00000\n",
       "50%       13.00000\n",
       "75%       16.00000\n",
       "max       57.00000\n",
       "Name: wc, dtype: float64"
      ]
     },
     "execution_count": 1192,
     "metadata": {},
     "output_type": "execute_result"
    }
   ],
   "source": [
    "df['wc'].describe()"
   ]
  },
  {
   "cell_type": "code",
   "execution_count": 1196,
   "id": "114053e3",
   "metadata": {},
   "outputs": [
    {
     "data": {
      "text/plain": [
       "count   3417.00000\n",
       "mean      17.83641\n",
       "std        8.67190\n",
       "min        3.00000\n",
       "25%       13.00000\n",
       "50%       17.00000\n",
       "75%       20.00000\n",
       "max       61.00000\n",
       "Name: wcbc, dtype: float64"
      ]
     },
     "execution_count": 1196,
     "metadata": {},
     "output_type": "execute_result"
    }
   ],
   "source": [
    "df['wcbc'].describe()"
   ]
  },
  {
   "cell_type": "markdown",
   "id": "31b372b9",
   "metadata": {},
   "source": [
    "# Trying to figure out the topic assigment for each document. "
   ]
  },
  {
   "cell_type": "code",
   "execution_count": 1335,
   "id": "fab58b7c",
   "metadata": {
    "scrolled": true
   },
   "outputs": [
    {
     "data": {
      "text/html": [
       "<div>\n",
       "<style scoped>\n",
       "    .dataframe tbody tr th:only-of-type {\n",
       "        vertical-align: middle;\n",
       "    }\n",
       "\n",
       "    .dataframe tbody tr th {\n",
       "        vertical-align: top;\n",
       "    }\n",
       "\n",
       "    .dataframe thead th {\n",
       "        text-align: right;\n",
       "    }\n",
       "</style>\n",
       "<table border=\"1\" class=\"dataframe\">\n",
       "  <thead>\n",
       "    <tr style=\"text-align: right;\">\n",
       "      <th></th>\n",
       "      <th>topic_0</th>\n",
       "      <th>topic_1</th>\n",
       "      <th>topic_2</th>\n",
       "      <th>topic_3</th>\n",
       "      <th>tweet_original</th>\n",
       "      <th>clean_tweets</th>\n",
       "    </tr>\n",
       "  </thead>\n",
       "  <tbody>\n",
       "    <tr>\n",
       "      <th>0</th>\n",
       "      <td>0.00000</td>\n",
       "      <td>0.00000</td>\n",
       "      <td>0.00000</td>\n",
       "      <td>0.08526</td>\n",
       "      <td>@Melissa4HD20 Why I do most of our shopping wi...</td>\n",
       "      <td>why i do most of our shopping with and</td>\n",
       "    </tr>\n",
       "    <tr>\n",
       "      <th>1</th>\n",
       "      <td>0.07974</td>\n",
       "      <td>0.00660</td>\n",
       "      <td>0.00000</td>\n",
       "      <td>0.00035</td>\n",
       "      <td>@patagonia \\nHad this fleece for at least 25 y...</td>\n",
       "      <td>had this fleece for at least  yrs. didn’t need...</td>\n",
       "    </tr>\n",
       "    <tr>\n",
       "      <th>2</th>\n",
       "      <td>0.02200</td>\n",
       "      <td>0.00570</td>\n",
       "      <td>0.00015</td>\n",
       "      <td>0.00304</td>\n",
       "      <td>this has been my studio sweater for 13 years. ...</td>\n",
       "      <td>this has been my studio sweater for  years. ho...</td>\n",
       "    </tr>\n",
       "    <tr>\n",
       "      <th>3</th>\n",
       "      <td>0.00000</td>\n",
       "      <td>0.00000</td>\n",
       "      <td>0.00000</td>\n",
       "      <td>0.00000</td>\n",
       "      <td>@LoriMDennis @patagonia @WornWear A bargain</td>\n",
       "      <td>a bargain</td>\n",
       "    </tr>\n",
       "    <tr>\n",
       "      <th>4</th>\n",
       "      <td>0.03480</td>\n",
       "      <td>0.00032</td>\n",
       "      <td>0.00185</td>\n",
       "      <td>0.00429</td>\n",
       "      <td>Finally got to test out my new (to me) raincoa...</td>\n",
       "      <td>finally got to test out my new (to me) raincoa...</td>\n",
       "    </tr>\n",
       "    <tr>\n",
       "      <th>...</th>\n",
       "      <td>...</td>\n",
       "      <td>...</td>\n",
       "      <td>...</td>\n",
       "      <td>...</td>\n",
       "      <td>...</td>\n",
       "      <td>...</td>\n",
       "    </tr>\n",
       "    <tr>\n",
       "      <th>3412</th>\n",
       "      <td>0.00749</td>\n",
       "      <td>0.01103</td>\n",
       "      <td>0.00000</td>\n",
       "      <td>0.00206</td>\n",
       "      <td>@patagonia do you guys have those #WornWear pa...</td>\n",
       "      <td>do you guys have those patches or just that on...</td>\n",
       "    </tr>\n",
       "    <tr>\n",
       "      <th>3413</th>\n",
       "      <td>0.00669</td>\n",
       "      <td>0.00161</td>\n",
       "      <td>0.00099</td>\n",
       "      <td>0.00567</td>\n",
       "      <td>RT @nature_org:Great #greenholidays recommenda...</td>\n",
       "      <td>rt recommendation:celebrate what you already o...</td>\n",
       "    </tr>\n",
       "    <tr>\n",
       "      <th>3414</th>\n",
       "      <td>0.00669</td>\n",
       "      <td>0.00161</td>\n",
       "      <td>0.00099</td>\n",
       "      <td>0.00567</td>\n",
       "      <td>NaN</td>\n",
       "      <td>NaN</td>\n",
       "    </tr>\n",
       "    <tr>\n",
       "      <th>3415</th>\n",
       "      <td>0.00677</td>\n",
       "      <td>0.01263</td>\n",
       "      <td>0.00000</td>\n",
       "      <td>0.02847</td>\n",
       "      <td>Rocking my oldest piece of cold weather gear t...</td>\n",
       "      <td>rocking my oldest piece of cold weather gear t...</td>\n",
       "    </tr>\n",
       "    <tr>\n",
       "      <th>3416</th>\n",
       "      <td>0.01890</td>\n",
       "      <td>0.00000</td>\n",
       "      <td>0.10184</td>\n",
       "      <td>0.13895</td>\n",
       "      <td>Reuse=best! MT @patagonia: Repair in the air! ...</td>\n",
       "      <td>reuse=best! mt repair in the air! fixing tear ...</td>\n",
       "    </tr>\n",
       "  </tbody>\n",
       "</table>\n",
       "<p>3417 rows × 6 columns</p>\n",
       "</div>"
      ],
      "text/plain": [
       "      topic_0  topic_1  topic_2  topic_3  \\\n",
       "0     0.00000  0.00000  0.00000  0.08526   \n",
       "1     0.07974  0.00660  0.00000  0.00035   \n",
       "2     0.02200  0.00570  0.00015  0.00304   \n",
       "3     0.00000  0.00000  0.00000  0.00000   \n",
       "4     0.03480  0.00032  0.00185  0.00429   \n",
       "...       ...      ...      ...      ...   \n",
       "3412  0.00749  0.01103  0.00000  0.00206   \n",
       "3413  0.00669  0.00161  0.00099  0.00567   \n",
       "3414  0.00669  0.00161  0.00099  0.00567   \n",
       "3415  0.00677  0.01263  0.00000  0.02847   \n",
       "3416  0.01890  0.00000  0.10184  0.13895   \n",
       "\n",
       "                                         tweet_original  \\\n",
       "0     @Melissa4HD20 Why I do most of our shopping wi...   \n",
       "1     @patagonia \\nHad this fleece for at least 25 y...   \n",
       "2     this has been my studio sweater for 13 years. ...   \n",
       "3           @LoriMDennis @patagonia @WornWear A bargain   \n",
       "4     Finally got to test out my new (to me) raincoa...   \n",
       "...                                                 ...   \n",
       "3412  @patagonia do you guys have those #WornWear pa...   \n",
       "3413  RT @nature_org:Great #greenholidays recommenda...   \n",
       "3414                                                NaN   \n",
       "3415  Rocking my oldest piece of cold weather gear t...   \n",
       "3416  Reuse=best! MT @patagonia: Repair in the air! ...   \n",
       "\n",
       "                                           clean_tweets  \n",
       "0               why i do most of our shopping with and   \n",
       "1     had this fleece for at least  yrs. didn’t need...  \n",
       "2     this has been my studio sweater for  years. ho...  \n",
       "3                                             a bargain  \n",
       "4     finally got to test out my new (to me) raincoa...  \n",
       "...                                                 ...  \n",
       "3412  do you guys have those patches or just that on...  \n",
       "3413  rt recommendation:celebrate what you already o...  \n",
       "3414                                                NaN  \n",
       "3415  rocking my oldest piece of cold weather gear t...  \n",
       "3416  reuse=best! mt repair in the air! fixing tear ...  \n",
       "\n",
       "[3417 rows x 6 columns]"
      ]
     },
     "execution_count": 1335,
     "metadata": {},
     "output_type": "execute_result"
    }
   ],
   "source": [
    "tweet_topic_matrix_df"
   ]
  },
  {
   "cell_type": "code",
   "execution_count": 1481,
   "id": "1b4e69f8",
   "metadata": {},
   "outputs": [],
   "source": [
    "df.reset_index(inplace=True, drop=True)\n",
    "df.drop(columns='index', inplace=True)\n",
    "df['assigned_topic'] = tweet_topic_matrix_df.iloc[:,:4].idxmax(axis=1)"
   ]
  },
  {
   "cell_type": "code",
   "execution_count": 1343,
   "id": "2936b992",
   "metadata": {},
   "outputs": [
    {
     "data": {
      "text/plain": [
       "(3417, 21)"
      ]
     },
     "execution_count": 1343,
     "metadata": {},
     "output_type": "execute_result"
    }
   ],
   "source": [
    "df.shape"
   ]
  },
  {
   "cell_type": "code",
   "execution_count": 1365,
   "id": "c9d814cf",
   "metadata": {
    "scrolled": true
   },
   "outputs": [
    {
     "data": {
      "text/html": [
       "<div>\n",
       "<style scoped>\n",
       "    .dataframe tbody tr th:only-of-type {\n",
       "        vertical-align: middle;\n",
       "    }\n",
       "\n",
       "    .dataframe tbody tr th {\n",
       "        vertical-align: top;\n",
       "    }\n",
       "\n",
       "    .dataframe thead th {\n",
       "        text-align: right;\n",
       "    }\n",
       "</style>\n",
       "<table border=\"1\" class=\"dataframe\">\n",
       "  <thead>\n",
       "    <tr style=\"text-align: right;\">\n",
       "      <th></th>\n",
       "      <th>index</th>\n",
       "      <th>date</th>\n",
       "      <th>content</th>\n",
       "      <th>id</th>\n",
       "      <th>user</th>\n",
       "      <th>replyCount</th>\n",
       "      <th>retweetCount</th>\n",
       "      <th>likeCount</th>\n",
       "      <th>quoteCount</th>\n",
       "      <th>media</th>\n",
       "      <th>...</th>\n",
       "      <th>mentionedUsers</th>\n",
       "      <th>coordinates</th>\n",
       "      <th>place</th>\n",
       "      <th>hashtags</th>\n",
       "      <th>clean</th>\n",
       "      <th>lemma</th>\n",
       "      <th>joined_lemma</th>\n",
       "      <th>wc</th>\n",
       "      <th>wcbc</th>\n",
       "      <th>assigned_topic</th>\n",
       "    </tr>\n",
       "  </thead>\n",
       "  <tbody>\n",
       "    <tr>\n",
       "      <th>3412</th>\n",
       "      <td>3864</td>\n",
       "      <td>2013-01-03 10:19:40+00:00</td>\n",
       "      <td>Iterate iterate iterate. The Grandfather: From...</td>\n",
       "      <td>286778849407164416</td>\n",
       "      <td>{'_type': 'snscrape.modules.twitter.User', 'us...</td>\n",
       "      <td>0</td>\n",
       "      <td>0</td>\n",
       "      <td>0</td>\n",
       "      <td>0</td>\n",
       "      <td>NaN</td>\n",
       "      <td>...</td>\n",
       "      <td>NaN</td>\n",
       "      <td>NaN</td>\n",
       "      <td>NaN</td>\n",
       "      <td>NaN</td>\n",
       "      <td>iterate iterate iterate. the grandfather: from...</td>\n",
       "      <td>[iterate, iterate, iterate, grandfather, toile...</td>\n",
       "      <td>iterate iterate iterate grandfather toilet sea...</td>\n",
       "      <td>20</td>\n",
       "      <td>20</td>\n",
       "      <td>topic_1</td>\n",
       "    </tr>\n",
       "    <tr>\n",
       "      <th>3413</th>\n",
       "      <td>3865</td>\n",
       "      <td>2013-01-03 05:06:53+00:00</td>\n",
       "      <td>wornwear: The Grandfather Yvon Chouinard, Vent...</td>\n",
       "      <td>286700137168912384</td>\n",
       "      <td>{'_type': 'snscrape.modules.twitter.User', 'us...</td>\n",
       "      <td>0</td>\n",
       "      <td>1</td>\n",
       "      <td>0</td>\n",
       "      <td>0</td>\n",
       "      <td>NaN</td>\n",
       "      <td>...</td>\n",
       "      <td>NaN</td>\n",
       "      <td>NaN</td>\n",
       "      <td>NaN</td>\n",
       "      <td>NaN</td>\n",
       "      <td>wornwear: the grandfather yvon chouinard, vent...</td>\n",
       "      <td>[wornwear, grandfather, yvon, chouinard, ventu...</td>\n",
       "      <td>wornwear grandfather yvon chouinard ventura ca...</td>\n",
       "      <td>16</td>\n",
       "      <td>17</td>\n",
       "      <td>topic_0</td>\n",
       "    </tr>\n",
       "    <tr>\n",
       "      <th>3414</th>\n",
       "      <td>3868</td>\n",
       "      <td>2013-01-03 00:56:13+00:00</td>\n",
       "      <td>wornwear: The Grandfather Yvon Chouinard, Vent...</td>\n",
       "      <td>286637052836069376</td>\n",
       "      <td>{'_type': 'snscrape.modules.twitter.User', 'us...</td>\n",
       "      <td>0</td>\n",
       "      <td>0</td>\n",
       "      <td>0</td>\n",
       "      <td>0</td>\n",
       "      <td>NaN</td>\n",
       "      <td>...</td>\n",
       "      <td>NaN</td>\n",
       "      <td>NaN</td>\n",
       "      <td>NaN</td>\n",
       "      <td>NaN</td>\n",
       "      <td>wornwear: the grandfather yvon chouinard, vent...</td>\n",
       "      <td>[wornwear, grandfather, yvon, chouinard, ventu...</td>\n",
       "      <td>wornwear grandfather yvon chouinard ventura ca...</td>\n",
       "      <td>16</td>\n",
       "      <td>17</td>\n",
       "      <td>topic_0</td>\n",
       "    </tr>\n",
       "    <tr>\n",
       "      <th>3415</th>\n",
       "      <td>3870</td>\n",
       "      <td>2013-01-03 00:02:50+00:00</td>\n",
       "      <td>No surprise that @patagonia nails this @tumblr...</td>\n",
       "      <td>286623619302428672</td>\n",
       "      <td>{'_type': 'snscrape.modules.twitter.User', 'us...</td>\n",
       "      <td>0</td>\n",
       "      <td>0</td>\n",
       "      <td>0</td>\n",
       "      <td>0</td>\n",
       "      <td>NaN</td>\n",
       "      <td>...</td>\n",
       "      <td>[{'_type': 'snscrape.modules.twitter.User', 'u...</td>\n",
       "      <td>NaN</td>\n",
       "      <td>NaN</td>\n",
       "      <td>['WornWear']</td>\n",
       "      <td>no surprise that nails this campaign . see the...</td>\n",
       "      <td>[surprise, nail, campaign, granddaddy, fleece]</td>\n",
       "      <td>surprise nail campaign granddaddy fleece</td>\n",
       "      <td>12</td>\n",
       "      <td>15</td>\n",
       "      <td>topic_3</td>\n",
       "    </tr>\n",
       "    <tr>\n",
       "      <th>3416</th>\n",
       "      <td>3871</td>\n",
       "      <td>2013-01-02 20:41:33+00:00</td>\n",
       "      <td>Inspiring stories about people who love their ...</td>\n",
       "      <td>286572964739182592</td>\n",
       "      <td>{'_type': 'snscrape.modules.twitter.User', 'us...</td>\n",
       "      <td>0</td>\n",
       "      <td>2</td>\n",
       "      <td>1</td>\n",
       "      <td>0</td>\n",
       "      <td>NaN</td>\n",
       "      <td>...</td>\n",
       "      <td>[{'_type': 'snscrape.modules.twitter.User', 'u...</td>\n",
       "      <td>NaN</td>\n",
       "      <td>NaN</td>\n",
       "      <td>['WornWear']</td>\n",
       "      <td>inspiring stories about people who love their ...</td>\n",
       "      <td>[inspire, stories, people, love, gear]</td>\n",
       "      <td>inspire stories people love gear</td>\n",
       "      <td>8</td>\n",
       "      <td>11</td>\n",
       "      <td>topic_3</td>\n",
       "    </tr>\n",
       "  </tbody>\n",
       "</table>\n",
       "<p>5 rows × 22 columns</p>\n",
       "</div>"
      ],
      "text/plain": [
       "      index                       date  \\\n",
       "3412   3864  2013-01-03 10:19:40+00:00   \n",
       "3413   3865  2013-01-03 05:06:53+00:00   \n",
       "3414   3868  2013-01-03 00:56:13+00:00   \n",
       "3415   3870  2013-01-03 00:02:50+00:00   \n",
       "3416   3871  2013-01-02 20:41:33+00:00   \n",
       "\n",
       "                                                content                  id  \\\n",
       "3412  Iterate iterate iterate. The Grandfather: From...  286778849407164416   \n",
       "3413  wornwear: The Grandfather Yvon Chouinard, Vent...  286700137168912384   \n",
       "3414  wornwear: The Grandfather Yvon Chouinard, Vent...  286637052836069376   \n",
       "3415  No surprise that @patagonia nails this @tumblr...  286623619302428672   \n",
       "3416  Inspiring stories about people who love their ...  286572964739182592   \n",
       "\n",
       "                                                   user  replyCount  \\\n",
       "3412  {'_type': 'snscrape.modules.twitter.User', 'us...           0   \n",
       "3413  {'_type': 'snscrape.modules.twitter.User', 'us...           0   \n",
       "3414  {'_type': 'snscrape.modules.twitter.User', 'us...           0   \n",
       "3415  {'_type': 'snscrape.modules.twitter.User', 'us...           0   \n",
       "3416  {'_type': 'snscrape.modules.twitter.User', 'us...           0   \n",
       "\n",
       "      retweetCount  likeCount  quoteCount media  ...  \\\n",
       "3412             0          0           0   NaN  ...   \n",
       "3413             1          0           0   NaN  ...   \n",
       "3414             0          0           0   NaN  ...   \n",
       "3415             0          0           0   NaN  ...   \n",
       "3416             2          1           0   NaN  ...   \n",
       "\n",
       "                                         mentionedUsers coordinates place  \\\n",
       "3412                                                NaN         NaN   NaN   \n",
       "3413                                                NaN         NaN   NaN   \n",
       "3414                                                NaN         NaN   NaN   \n",
       "3415  [{'_type': 'snscrape.modules.twitter.User', 'u...         NaN   NaN   \n",
       "3416  [{'_type': 'snscrape.modules.twitter.User', 'u...         NaN   NaN   \n",
       "\n",
       "          hashtags                                              clean  \\\n",
       "3412           NaN  iterate iterate iterate. the grandfather: from...   \n",
       "3413           NaN  wornwear: the grandfather yvon chouinard, vent...   \n",
       "3414           NaN  wornwear: the grandfather yvon chouinard, vent...   \n",
       "3415  ['WornWear']  no surprise that nails this campaign . see the...   \n",
       "3416  ['WornWear']  inspiring stories about people who love their ...   \n",
       "\n",
       "                                                  lemma  \\\n",
       "3412  [iterate, iterate, iterate, grandfather, toile...   \n",
       "3413  [wornwear, grandfather, yvon, chouinard, ventu...   \n",
       "3414  [wornwear, grandfather, yvon, chouinard, ventu...   \n",
       "3415     [surprise, nail, campaign, granddaddy, fleece]   \n",
       "3416             [inspire, stories, people, love, gear]   \n",
       "\n",
       "                                           joined_lemma  wc wcbc  \\\n",
       "3412  iterate iterate iterate grandfather toilet sea...  20   20   \n",
       "3413  wornwear grandfather yvon chouinard ventura ca...  16   17   \n",
       "3414  wornwear grandfather yvon chouinard ventura ca...  16   17   \n",
       "3415           surprise nail campaign granddaddy fleece  12   15   \n",
       "3416                   inspire stories people love gear   8   11   \n",
       "\n",
       "      assigned_topic  \n",
       "3412         topic_1  \n",
       "3413         topic_0  \n",
       "3414         topic_0  \n",
       "3415         topic_3  \n",
       "3416         topic_3  \n",
       "\n",
       "[5 rows x 22 columns]"
      ]
     },
     "execution_count": 1365,
     "metadata": {},
     "output_type": "execute_result"
    }
   ],
   "source": [
    "df.tail()"
   ]
  },
  {
   "cell_type": "markdown",
   "id": "8423660a",
   "metadata": {},
   "source": [
    "# Ok, it worked, we have the topics associated to each document. "
   ]
  },
  {
   "cell_type": "code",
   "execution_count": 1349,
   "id": "4dd69764",
   "metadata": {},
   "outputs": [],
   "source": [
    "# Let's begin by doing some exploration in the wc. "
   ]
  },
  {
   "cell_type": "code",
   "execution_count": 1360,
   "id": "6d495943",
   "metadata": {},
   "outputs": [
    {
     "data": {
      "text/plain": [
       "['topic_0', 'topic_1', 'topic_2', 'topic_3']"
      ]
     },
     "execution_count": 1360,
     "metadata": {},
     "output_type": "execute_result"
    }
   ],
   "source": [
    "w #Lists that holds the topics generated by NMF"
   ]
  },
  {
   "cell_type": "code",
   "execution_count": 1385,
   "id": "209c73dd",
   "metadata": {},
   "outputs": [],
   "source": [
    "mean_likes = []\n",
    "mean_rt = []\n",
    "mean_wc = []\n",
    "for topic in w:\n",
    "    mean_likes.append(df[df.assigned_topic==topic].likeCount.mean())\n",
    "    mean_rt.append(df[df.assigned_topic==topic].retweetCount.mean())\n",
    "    mean_wc.append(df[df.assigned_topic==topic].wcbc.mean())"
   ]
  },
  {
   "cell_type": "code",
   "execution_count": 1382,
   "id": "dd5a7bef",
   "metadata": {
    "scrolled": true
   },
   "outputs": [
    {
     "data": {
      "text/plain": [
       "[2.3807157057654074,\n",
       " 0.3482142857142857,\n",
       " 0.34980988593155893,\n",
       " 1.6104218362282878]"
      ]
     },
     "execution_count": 1382,
     "metadata": {},
     "output_type": "execute_result"
    }
   ],
   "source": [
    "mean_likes"
   ]
  },
  {
   "cell_type": "code",
   "execution_count": 1383,
   "id": "892ee363",
   "metadata": {},
   "outputs": [
    {
     "data": {
      "text/plain": [
       "[0.4860834990059642,\n",
       " 0.14583333333333334,\n",
       " 0.2661596958174905,\n",
       " 0.2704714640198511]"
      ]
     },
     "execution_count": 1383,
     "metadata": {},
     "output_type": "execute_result"
    }
   ],
   "source": [
    "mean_rt"
   ]
  },
  {
   "cell_type": "code",
   "execution_count": 1386,
   "id": "34644b38",
   "metadata": {
    "scrolled": true
   },
   "outputs": [
    {
     "data": {
      "text/plain": [
       "[18.676441351888666,\n",
       " 17.163690476190474,\n",
       " 15.524714828897338,\n",
       " 16.774193548387096]"
      ]
     },
     "execution_count": 1386,
     "metadata": {},
     "output_type": "execute_result"
    }
   ],
   "source": [
    "mean_wc"
   ]
  },
  {
   "cell_type": "code",
   "execution_count": 1535,
   "id": "74b1d7a2",
   "metadata": {},
   "outputs": [],
   "source": [
    "#Replacing the name of the topics"
   ]
  },
  {
   "cell_type": "code",
   "execution_count": 1558,
   "id": "faffd3e9",
   "metadata": {},
   "outputs": [],
   "source": [
    "di = {'topic_0': \"RepairTours\", 'topic_1': \"eBayListings\", 'topic_2': 'ShortFilms', 'topic_3':'HolidaysBF'}\n",
    "df = df.replace({'assigned_topic': di})"
   ]
  },
  {
   "cell_type": "code",
   "execution_count": 1559,
   "id": "f577f704",
   "metadata": {},
   "outputs": [
    {
     "data": {
      "text/plain": [
       "'Films'"
      ]
     },
     "execution_count": 1559,
     "metadata": {},
     "output_type": "execute_result"
    }
   ],
   "source": [
    "df.assigned_topic.value_counts().index[3]"
   ]
  },
  {
   "cell_type": "code",
   "execution_count": 1560,
   "id": "09e20264",
   "metadata": {},
   "outputs": [],
   "source": [
    "texts = ['RepairTours', 'HolidaysBF', 'eBayListings', 'ShortFilms']"
   ]
  },
  {
   "cell_type": "markdown",
   "id": "7cbeba43",
   "metadata": {},
   "source": [
    "# Percentage of tweets in each one of the four topics:"
   ]
  },
  {
   "cell_type": "code",
   "execution_count": 1562,
   "id": "076b14f4",
   "metadata": {},
   "outputs": [
    {
     "data": {
      "image/png": "[encoded data removed]",
      "text/plain": [
       "<Figure size 432x288 with 1 Axes>"
      ]
     },
     "metadata": {},
     "output_type": "display_data"
    }
   ],
   "source": [
    "cmap = plt.get_cmap('Blues')\n",
    "colors = list(cmap(np.linspace(0.45, 0.85, 4)))\n",
    "fig = df.assigned_topic.value_counts().plot.pie(colors=colors).get_figure()\n",
    "\n",
    "#fig.savefig('topic_distribution.png', transparent=True, dpi=300)"
   ]
  },
  {
   "cell_type": "markdown",
   "id": "91ba0aff",
   "metadata": {},
   "source": [
    "# Now, trying to assign the topics based on the results from CorEx"
   ]
  },
  {
   "cell_type": "code",
   "execution_count": 1418,
   "id": "f7e03677",
   "metadata": {},
   "outputs": [
    {
     "name": "stdout",
     "output_type": "stream",
     "text": [
      "(3417, 10)\n"
     ]
    }
   ],
   "source": [
    "print(topic_model.p_y_given_x.shape)"
   ]
  },
  {
   "cell_type": "code",
   "execution_count": 1420,
   "id": "1957ab2a",
   "metadata": {
    "scrolled": false
   },
   "outputs": [
    {
     "data": {
      "text/html": [
       "<div>\n",
       "<style scoped>\n",
       "    .dataframe tbody tr th:only-of-type {\n",
       "        vertical-align: middle;\n",
       "    }\n",
       "\n",
       "    .dataframe tbody tr th {\n",
       "        vertical-align: top;\n",
       "    }\n",
       "\n",
       "    .dataframe thead th {\n",
       "        text-align: right;\n",
       "    }\n",
       "</style>\n",
       "<table border=\"1\" class=\"dataframe\">\n",
       "  <thead>\n",
       "    <tr style=\"text-align: right;\">\n",
       "      <th></th>\n",
       "      <th>0</th>\n",
       "      <th>1</th>\n",
       "      <th>2</th>\n",
       "      <th>3</th>\n",
       "      <th>4</th>\n",
       "      <th>5</th>\n",
       "      <th>6</th>\n",
       "      <th>7</th>\n",
       "      <th>8</th>\n",
       "      <th>9</th>\n",
       "    </tr>\n",
       "  </thead>\n",
       "  <tbody>\n",
       "    <tr>\n",
       "      <th>3407</th>\n",
       "      <td>0.00066</td>\n",
       "      <td>0.00115</td>\n",
       "      <td>0.00209</td>\n",
       "      <td>0.00735</td>\n",
       "      <td>0.00027</td>\n",
       "      <td>0.00139</td>\n",
       "      <td>0.35603</td>\n",
       "      <td>0.27824</td>\n",
       "      <td>0.10429</td>\n",
       "      <td>0.37210</td>\n",
       "    </tr>\n",
       "    <tr>\n",
       "      <th>3408</th>\n",
       "      <td>0.00057</td>\n",
       "      <td>1.00000</td>\n",
       "      <td>0.02919</td>\n",
       "      <td>0.00735</td>\n",
       "      <td>0.00003</td>\n",
       "      <td>0.01240</td>\n",
       "      <td>0.35607</td>\n",
       "      <td>0.27824</td>\n",
       "      <td>0.01183</td>\n",
       "      <td>0.37205</td>\n",
       "    </tr>\n",
       "    <tr>\n",
       "      <th>3409</th>\n",
       "      <td>0.00057</td>\n",
       "      <td>0.00115</td>\n",
       "      <td>0.02199</td>\n",
       "      <td>0.00735</td>\n",
       "      <td>0.00027</td>\n",
       "      <td>0.00910</td>\n",
       "      <td>0.35597</td>\n",
       "      <td>0.27824</td>\n",
       "      <td>0.79452</td>\n",
       "      <td>0.37200</td>\n",
       "    </tr>\n",
       "    <tr>\n",
       "      <th>3410</th>\n",
       "      <td>0.00057</td>\n",
       "      <td>1.00000</td>\n",
       "      <td>0.00044</td>\n",
       "      <td>0.00735</td>\n",
       "      <td>0.00003</td>\n",
       "      <td>0.00910</td>\n",
       "      <td>0.35489</td>\n",
       "      <td>0.27824</td>\n",
       "      <td>0.04921</td>\n",
       "      <td>0.37205</td>\n",
       "    </tr>\n",
       "    <tr>\n",
       "      <th>3411</th>\n",
       "      <td>0.00057</td>\n",
       "      <td>0.00115</td>\n",
       "      <td>0.02629</td>\n",
       "      <td>0.00735</td>\n",
       "      <td>0.00027</td>\n",
       "      <td>0.00130</td>\n",
       "      <td>0.35598</td>\n",
       "      <td>0.27824</td>\n",
       "      <td>0.41685</td>\n",
       "      <td>0.37200</td>\n",
       "    </tr>\n",
       "    <tr>\n",
       "      <th>3412</th>\n",
       "      <td>0.00021</td>\n",
       "      <td>0.00030</td>\n",
       "      <td>0.00837</td>\n",
       "      <td>0.00735</td>\n",
       "      <td>0.00041</td>\n",
       "      <td>0.00910</td>\n",
       "      <td>0.35576</td>\n",
       "      <td>0.27824</td>\n",
       "      <td>0.46861</td>\n",
       "      <td>0.37180</td>\n",
       "    </tr>\n",
       "    <tr>\n",
       "      <th>3413</th>\n",
       "      <td>0.00057</td>\n",
       "      <td>0.00115</td>\n",
       "      <td>0.00410</td>\n",
       "      <td>0.00735</td>\n",
       "      <td>0.00003</td>\n",
       "      <td>0.00910</td>\n",
       "      <td>0.35598</td>\n",
       "      <td>0.27824</td>\n",
       "      <td>0.71436</td>\n",
       "      <td>0.37195</td>\n",
       "    </tr>\n",
       "    <tr>\n",
       "      <th>3414</th>\n",
       "      <td>0.00057</td>\n",
       "      <td>0.00115</td>\n",
       "      <td>0.00410</td>\n",
       "      <td>0.00735</td>\n",
       "      <td>0.00003</td>\n",
       "      <td>0.00910</td>\n",
       "      <td>0.35598</td>\n",
       "      <td>0.27824</td>\n",
       "      <td>0.71436</td>\n",
       "      <td>0.37195</td>\n",
       "    </tr>\n",
       "    <tr>\n",
       "      <th>3415</th>\n",
       "      <td>0.00057</td>\n",
       "      <td>0.00115</td>\n",
       "      <td>0.00003</td>\n",
       "      <td>0.00735</td>\n",
       "      <td>0.00075</td>\n",
       "      <td>0.01439</td>\n",
       "      <td>0.35610</td>\n",
       "      <td>0.27824</td>\n",
       "      <td>0.01183</td>\n",
       "      <td>0.37214</td>\n",
       "    </tr>\n",
       "    <tr>\n",
       "      <th>3416</th>\n",
       "      <td>0.00057</td>\n",
       "      <td>1.00000</td>\n",
       "      <td>0.03559</td>\n",
       "      <td>0.00735</td>\n",
       "      <td>0.00027</td>\n",
       "      <td>1.00000</td>\n",
       "      <td>0.35611</td>\n",
       "      <td>0.27824</td>\n",
       "      <td>0.01183</td>\n",
       "      <td>0.37216</td>\n",
       "    </tr>\n",
       "  </tbody>\n",
       "</table>\n",
       "</div>"
      ],
      "text/plain": [
       "           0       1       2       3       4       5       6       7       8  \\\n",
       "3407 0.00066 0.00115 0.00209 0.00735 0.00027 0.00139 0.35603 0.27824 0.10429   \n",
       "3408 0.00057 1.00000 0.02919 0.00735 0.00003 0.01240 0.35607 0.27824 0.01183   \n",
       "3409 0.00057 0.00115 0.02199 0.00735 0.00027 0.00910 0.35597 0.27824 0.79452   \n",
       "3410 0.00057 1.00000 0.00044 0.00735 0.00003 0.00910 0.35489 0.27824 0.04921   \n",
       "3411 0.00057 0.00115 0.02629 0.00735 0.00027 0.00130 0.35598 0.27824 0.41685   \n",
       "3412 0.00021 0.00030 0.00837 0.00735 0.00041 0.00910 0.35576 0.27824 0.46861   \n",
       "3413 0.00057 0.00115 0.00410 0.00735 0.00003 0.00910 0.35598 0.27824 0.71436   \n",
       "3414 0.00057 0.00115 0.00410 0.00735 0.00003 0.00910 0.35598 0.27824 0.71436   \n",
       "3415 0.00057 0.00115 0.00003 0.00735 0.00075 0.01439 0.35610 0.27824 0.01183   \n",
       "3416 0.00057 1.00000 0.03559 0.00735 0.00027 1.00000 0.35611 0.27824 0.01183   \n",
       "\n",
       "           9  \n",
       "3407 0.37210  \n",
       "3408 0.37205  \n",
       "3409 0.37200  \n",
       "3410 0.37205  \n",
       "3411 0.37200  \n",
       "3412 0.37180  \n",
       "3413 0.37195  \n",
       "3414 0.37195  \n",
       "3415 0.37214  \n",
       "3416 0.37216  "
      ]
     },
     "execution_count": 1420,
     "metadata": {},
     "output_type": "execute_result"
    }
   ],
   "source": [
    "pd.DataFrame(topic_model.p_y_given_x).tail(10)"
   ]
  },
  {
   "cell_type": "code",
   "execution_count": 1497,
   "id": "2cf109a7",
   "metadata": {},
   "outputs": [],
   "source": [
    "#Assigning each of the documents (tweets), to the topic that holds the highest probability. "
   ]
  },
  {
   "cell_type": "code",
   "execution_count": 1484,
   "id": "52508dcb",
   "metadata": {},
   "outputs": [],
   "source": [
    "df['assigned_CorEx'] = pd.DataFrame(topic_model.p_y_given_x).iloc[:,:10].idxmax(axis=1)"
   ]
  },
  {
   "cell_type": "code",
   "execution_count": 1475,
   "id": "d4104afe",
   "metadata": {
    "scrolled": true
   },
   "outputs": [
    {
     "data": {
      "text/html": [
       "<div>\n",
       "<style scoped>\n",
       "    .dataframe tbody tr th:only-of-type {\n",
       "        vertical-align: middle;\n",
       "    }\n",
       "\n",
       "    .dataframe tbody tr th {\n",
       "        vertical-align: top;\n",
       "    }\n",
       "\n",
       "    .dataframe thead th {\n",
       "        text-align: right;\n",
       "    }\n",
       "</style>\n",
       "<table border=\"1\" class=\"dataframe\">\n",
       "  <thead>\n",
       "    <tr style=\"text-align: right;\">\n",
       "      <th></th>\n",
       "      <th>index</th>\n",
       "      <th>url</th>\n",
       "      <th>date</th>\n",
       "      <th>content</th>\n",
       "      <th>id</th>\n",
       "      <th>user</th>\n",
       "      <th>replyCount</th>\n",
       "      <th>retweetCount</th>\n",
       "      <th>likeCount</th>\n",
       "      <th>quoteCount</th>\n",
       "      <th>...</th>\n",
       "      <th>coordinates</th>\n",
       "      <th>place</th>\n",
       "      <th>hashtags</th>\n",
       "      <th>clean</th>\n",
       "      <th>lemma</th>\n",
       "      <th>joined_lemma</th>\n",
       "      <th>wc</th>\n",
       "      <th>wcbc</th>\n",
       "      <th>assigned_topic</th>\n",
       "      <th>assigned_CorEx</th>\n",
       "    </tr>\n",
       "  </thead>\n",
       "  <tbody>\n",
       "    <tr>\n",
       "      <th>0</th>\n",
       "      <td>0</td>\n",
       "      <td>https://twitter.com/lynn32187/status/141103715...</td>\n",
       "      <td>2021-07-02 19:00:47+00:00</td>\n",
       "      <td>@Melissa4HD20 Why I do most of our shopping wi...</td>\n",
       "      <td>1411037150288650243</td>\n",
       "      <td>{'_type': 'snscrape.modules.twitter.User', 'us...</td>\n",
       "      <td>0</td>\n",
       "      <td>0</td>\n",
       "      <td>1</td>\n",
       "      <td>0</td>\n",
       "      <td>...</td>\n",
       "      <td>NaN</td>\n",
       "      <td>NaN</td>\n",
       "      <td>NaN</td>\n",
       "      <td>why i do most of our shopping with and</td>\n",
       "      <td>[shop]</td>\n",
       "      <td>shop</td>\n",
       "      <td>9</td>\n",
       "      <td>13</td>\n",
       "      <td>topic_3</td>\n",
       "      <td>9</td>\n",
       "    </tr>\n",
       "    <tr>\n",
       "      <th>1</th>\n",
       "      <td>1</td>\n",
       "      <td>https://twitter.com/Stellabellorum/status/1409...</td>\n",
       "      <td>2021-06-28 21:34:56+00:00</td>\n",
       "      <td>@patagonia \\nHad this fleece for at least 25 y...</td>\n",
       "      <td>1409626392342368257</td>\n",
       "      <td>{'_type': 'snscrape.modules.twitter.User', 'us...</td>\n",
       "      <td>0</td>\n",
       "      <td>0</td>\n",
       "      <td>3</td>\n",
       "      <td>0</td>\n",
       "      <td>...</td>\n",
       "      <td>NaN</td>\n",
       "      <td>NaN</td>\n",
       "      <td>['wornwear']</td>\n",
       "      <td>had this fleece for at least  yrs. didn’t need...</td>\n",
       "      <td>[fleece, yrs, need, huge, repair, thank, get, ...</td>\n",
       "      <td>fleece yrs need huge repair thank get fix retu...</td>\n",
       "      <td>35</td>\n",
       "      <td>39</td>\n",
       "      <td>topic_0</td>\n",
       "      <td>2</td>\n",
       "    </tr>\n",
       "    <tr>\n",
       "      <th>2</th>\n",
       "      <td>2</td>\n",
       "      <td>https://twitter.com/vmgworks/status/1408136015...</td>\n",
       "      <td>2021-06-24 18:52:42+00:00</td>\n",
       "      <td>this has been my studio sweater for 13 years. ...</td>\n",
       "      <td>1408136015626137608</td>\n",
       "      <td>{'_type': 'snscrape.modules.twitter.User', 'us...</td>\n",
       "      <td>1</td>\n",
       "      <td>0</td>\n",
       "      <td>4</td>\n",
       "      <td>1</td>\n",
       "      <td>...</td>\n",
       "      <td>NaN</td>\n",
       "      <td>NaN</td>\n",
       "      <td>['wornwear', 'patagonia', 'velocitymadegood']</td>\n",
       "      <td>this has been my studio sweater for  years. ho...</td>\n",
       "      <td>[studio, sweater, years, honestly, sure, write...</td>\n",
       "      <td>studio sweater years honestly sure write artis...</td>\n",
       "      <td>40</td>\n",
       "      <td>46</td>\n",
       "      <td>topic_0</td>\n",
       "      <td>9</td>\n",
       "    </tr>\n",
       "    <tr>\n",
       "      <th>3</th>\n",
       "      <td>3</td>\n",
       "      <td>https://twitter.com/MikeLantigua/status/140748...</td>\n",
       "      <td>2021-06-22 23:45:37+00:00</td>\n",
       "      <td>@LoriMDennis @patagonia @WornWear A bargain</td>\n",
       "      <td>1407484953714176001</td>\n",
       "      <td>{'_type': 'snscrape.modules.twitter.User', 'us...</td>\n",
       "      <td>0</td>\n",
       "      <td>0</td>\n",
       "      <td>0</td>\n",
       "      <td>0</td>\n",
       "      <td>...</td>\n",
       "      <td>NaN</td>\n",
       "      <td>NaN</td>\n",
       "      <td>NaN</td>\n",
       "      <td>a bargain</td>\n",
       "      <td>[bargain]</td>\n",
       "      <td>bargain</td>\n",
       "      <td>2</td>\n",
       "      <td>5</td>\n",
       "      <td>topic_0</td>\n",
       "      <td>9</td>\n",
       "    </tr>\n",
       "    <tr>\n",
       "      <th>4</th>\n",
       "      <td>4</td>\n",
       "      <td>https://twitter.com/LoriMDennis/status/1407483...</td>\n",
       "      <td>2021-06-22 23:41:05+00:00</td>\n",
       "      <td>Finally got to test out my new (to me) raincoa...</td>\n",
       "      <td>1407483811340984327</td>\n",
       "      <td>{'_type': 'snscrape.modules.twitter.User', 'us...</td>\n",
       "      <td>2</td>\n",
       "      <td>0</td>\n",
       "      <td>7</td>\n",
       "      <td>0</td>\n",
       "      <td>...</td>\n",
       "      <td>NaN</td>\n",
       "      <td>NaN</td>\n",
       "      <td>NaN</td>\n",
       "      <td>finally got to test out my new (to me) raincoa...</td>\n",
       "      <td>[finally, get, test, new, raincoat, result, st...</td>\n",
       "      <td>finally get test new raincoat result stellar t...</td>\n",
       "      <td>29</td>\n",
       "      <td>33</td>\n",
       "      <td>topic_0</td>\n",
       "      <td>9</td>\n",
       "    </tr>\n",
       "  </tbody>\n",
       "</table>\n",
       "<p>5 rows × 24 columns</p>\n",
       "</div>"
      ],
      "text/plain": [
       "   index                                                url  \\\n",
       "0      0  https://twitter.com/lynn32187/status/141103715...   \n",
       "1      1  https://twitter.com/Stellabellorum/status/1409...   \n",
       "2      2  https://twitter.com/vmgworks/status/1408136015...   \n",
       "3      3  https://twitter.com/MikeLantigua/status/140748...   \n",
       "4      4  https://twitter.com/LoriMDennis/status/1407483...   \n",
       "\n",
       "                        date  \\\n",
       "0  2021-07-02 19:00:47+00:00   \n",
       "1  2021-06-28 21:34:56+00:00   \n",
       "2  2021-06-24 18:52:42+00:00   \n",
       "3  2021-06-22 23:45:37+00:00   \n",
       "4  2021-06-22 23:41:05+00:00   \n",
       "\n",
       "                                             content                   id  \\\n",
       "0  @Melissa4HD20 Why I do most of our shopping wi...  1411037150288650243   \n",
       "1  @patagonia \\nHad this fleece for at least 25 y...  1409626392342368257   \n",
       "2  this has been my studio sweater for 13 years. ...  1408136015626137608   \n",
       "3        @LoriMDennis @patagonia @WornWear A bargain  1407484953714176001   \n",
       "4  Finally got to test out my new (to me) raincoa...  1407483811340984327   \n",
       "\n",
       "                                                user  replyCount  \\\n",
       "0  {'_type': 'snscrape.modules.twitter.User', 'us...           0   \n",
       "1  {'_type': 'snscrape.modules.twitter.User', 'us...           0   \n",
       "2  {'_type': 'snscrape.modules.twitter.User', 'us...           1   \n",
       "3  {'_type': 'snscrape.modules.twitter.User', 'us...           0   \n",
       "4  {'_type': 'snscrape.modules.twitter.User', 'us...           2   \n",
       "\n",
       "   retweetCount  likeCount  quoteCount  ... coordinates  place  \\\n",
       "0             0          1           0  ...         NaN    NaN   \n",
       "1             0          3           0  ...         NaN    NaN   \n",
       "2             0          4           1  ...         NaN    NaN   \n",
       "3             0          0           0  ...         NaN    NaN   \n",
       "4             0          7           0  ...         NaN    NaN   \n",
       "\n",
       "                                        hashtags  \\\n",
       "0                                            NaN   \n",
       "1                                   ['wornwear']   \n",
       "2  ['wornwear', 'patagonia', 'velocitymadegood']   \n",
       "3                                            NaN   \n",
       "4                                            NaN   \n",
       "\n",
       "                                               clean  \\\n",
       "0            why i do most of our shopping with and    \n",
       "1  had this fleece for at least  yrs. didn’t need...   \n",
       "2  this has been my studio sweater for  years. ho...   \n",
       "3                                          a bargain   \n",
       "4  finally got to test out my new (to me) raincoa...   \n",
       "\n",
       "                                               lemma  \\\n",
       "0                                             [shop]   \n",
       "1  [fleece, yrs, need, huge, repair, thank, get, ...   \n",
       "2  [studio, sweater, years, honestly, sure, write...   \n",
       "3                                          [bargain]   \n",
       "4  [finally, get, test, new, raincoat, result, st...   \n",
       "\n",
       "                                        joined_lemma  wc wcbc assigned_topic  \\\n",
       "0                                               shop   9   13        topic_3   \n",
       "1  fleece yrs need huge repair thank get fix retu...  35   39        topic_0   \n",
       "2  studio sweater years honestly sure write artis...  40   46        topic_0   \n",
       "3                                            bargain   2    5        topic_0   \n",
       "4  finally get test new raincoat result stellar t...  29   33        topic_0   \n",
       "\n",
       "  assigned_CorEx  \n",
       "0              9  \n",
       "1              2  \n",
       "2              9  \n",
       "3              9  \n",
       "4              9  \n",
       "\n",
       "[5 rows x 24 columns]"
      ]
     },
     "execution_count": 1475,
     "metadata": {},
     "output_type": "execute_result"
    }
   ],
   "source": [
    "df.head()"
   ]
  },
  {
   "cell_type": "code",
   "execution_count": 1428,
   "id": "19bfa3fc",
   "metadata": {},
   "outputs": [],
   "source": [
    "# Now, doing some analysis from the CorEx topics:\n",
    "# 0 is about sustainability\n",
    "# 1 is about film and people's stories\n",
    "# 2 is about the repair tour\n",
    "# 3 is related to saving money by fixing or buying used\n",
    "# 4 is a about eBay and listings \n",
    "# 5 is related to celebrate, love, black friday\n",
    "\n"
   ]
  },
  {
   "cell_type": "code",
   "execution_count": 1491,
   "id": "6fca7502",
   "metadata": {},
   "outputs": [],
   "source": [
    "mean_likesC = []\n",
    "mean_rtC = []\n",
    "mean_wcC = []\n",
    "for topic in range(6):\n",
    "    mean_likesC.append(df[df.assigned_CorEx==topic].likeCount.mean())\n",
    "    mean_rtC.append(df[df.assigned_CorEx==topic].retweetCount.mean())\n",
    "    mean_wcC.append(df[df.assigned_CorEx==topic].wcbc.mean())"
   ]
  },
  {
   "cell_type": "code",
   "execution_count": 1492,
   "id": "75933d11",
   "metadata": {},
   "outputs": [
    {
     "data": {
      "text/plain": [
       "[14.473684210526315,\n",
       " 0.4063745019920319,\n",
       " 1.811377245508982,\n",
       " 3.0344827586206895,\n",
       " 0.08571428571428572,\n",
       " 1.6535433070866141]"
      ]
     },
     "execution_count": 1492,
     "metadata": {},
     "output_type": "execute_result"
    }
   ],
   "source": [
    "mean_likesC"
   ]
  },
  {
   "cell_type": "code",
   "execution_count": 1493,
   "id": "d489e0d0",
   "metadata": {
    "scrolled": true
   },
   "outputs": [
    {
     "data": {
      "text/plain": [
       "[1.8771929824561404,\n",
       " 0.28286852589641437,\n",
       " 0.5508982035928144,\n",
       " 0.41379310344827586,\n",
       " 0.011428571428571429,\n",
       " 0.3228346456692913]"
      ]
     },
     "execution_count": 1493,
     "metadata": {},
     "output_type": "execute_result"
    }
   ],
   "source": [
    "mean_rtC"
   ]
  },
  {
   "cell_type": "code",
   "execution_count": 1494,
   "id": "6a425731",
   "metadata": {
    "scrolled": true
   },
   "outputs": [
    {
     "data": {
      "text/plain": [
       "[25.263157894736842,\n",
       " 16.99203187250996,\n",
       " 19.74700598802395,\n",
       " 26.586206896551722,\n",
       " 19.13142857142857,\n",
       " 18.291338582677167]"
      ]
     },
     "execution_count": 1494,
     "metadata": {},
     "output_type": "execute_result"
    }
   ],
   "source": [
    "mean_wcC"
   ]
  },
  {
   "cell_type": "code",
   "execution_count": 1605,
   "id": "d35ac13d",
   "metadata": {},
   "outputs": [
    {
     "data": {
      "image/png": "[encoded data removed]",
      "text/plain": [
       "<Figure size 432x288 with 1 Axes>"
      ]
     },
     "metadata": {},
     "output_type": "display_data"
    }
   ],
   "source": [
    "import numpy as np                                                               \n",
    "import matplotlib.pyplot as plt  \n",
    "\n",
    "top=[('Sustainability',14.47),('Save money',3.03),('Repair tour',1.81), ('Celebrate',1.65), ('Films', 0.406),\n",
    "    ('eBay', 0.08)]\n",
    "\n",
    "labels, ys = zip(*top)\n",
    "xs = np.arange(len(labels)) \n",
    "width = 1\n",
    "\n",
    "fig = plt.figure()  \n",
    "plt.xticks(rotation='vertical')\n",
    "\n",
    "ax = fig.gca()  #get current axes\n",
    "ax.bar(xs, ys, width, align='center', color='white')\n",
    "\n",
    "#Remove the default x-axis tick numbers and  \n",
    "#use tick numbers of your own choosing:\n",
    "ax.set_xticks(xs)\n",
    "#Replace the tick numbers with strings:\n",
    "ax.set_xticklabels(labels)\n",
    "#Remove the default y-axis tick numbers and  \n",
    "#use tick numbers of your own choosing:\n",
    "#ax.set_yticks(ys)\n",
    "\n",
    "sns.axes_style({'text.color': 'white',\n",
    " 'xtick.color': 'white',\n",
    " 'ytick.color': 'white',\n",
    " 'axes.facecolor': 'white',\n",
    " 'axes.edgecolor': 'white',\n",
    " 'axes.grid': True,\n",
    " 'axes.axisbelow': 'line',\n",
    " 'axes.labelcolor': 'white',\n",
    " 'figure.facecolor': 'white',\n",
    " 'patch.edgecolor': 'white'})\n",
    "sns.set_style(\"whitegrid\", {\"grid.color\": \".8\"})\n",
    "plt.tick_params(axis='x', colors='white')\n",
    "plt.tick_params(axis='y', colors='white')\n",
    "plt.savefig('meanLikes.png', transparent=True, dpi=300)"
   ]
  },
  {
   "cell_type": "code",
   "execution_count": null,
   "id": "520018ff",
   "metadata": {},
   "outputs": [],
   "source": [
    "X = ['Mean_likes','Mean_rts','Mean_wordCounts']\n",
    "\n",
    "  \n",
    "X_axis = np.arange(len(X))\n",
    "  \n",
    "plt.bar(X_axis - 0.2, Ygirls, 0.4, label = '')\n",
    "plt.bar(X_axis + 0.2, Zboys, 0.4, label = 'Boys')\n",
    "  \n",
    "plt.xticks(X_axis, X)\n",
    "plt.xlabel(\"Groups\")\n",
    "plt.ylabel(\"Number of Students\")\n",
    "plt.title(\"Number of Students in each group\")\n",
    "plt.legend()\n",
    "plt.show()"
   ]
  },
  {
   "cell_type": "code",
   "execution_count": 1496,
   "id": "09b4c3a4",
   "metadata": {},
   "outputs": [],
   "source": [
    "#Practicing getting the indexes before applying a function and getting all of the tweets. "
   ]
  },
  {
   "cell_type": "code",
   "execution_count": 1470,
   "id": "a45d5580",
   "metadata": {},
   "outputs": [
    {
     "data": {
      "text/plain": [
       "Int64Index([393, 712, 725, 239, 1158], dtype='int64')"
      ]
     },
     "execution_count": 1470,
     "metadata": {},
     "output_type": "execute_result"
    }
   ],
   "source": [
    "df[df.assigned_CorEx==3].likeCount.sort_values(ascending=False).index[:5]"
   ]
  },
  {
   "cell_type": "code",
   "execution_count": 1495,
   "id": "585d03ac",
   "metadata": {
    "scrolled": true
   },
   "outputs": [
    {
     "name": "stdout",
     "output_type": "stream",
     "text": [
      "url               https://twitter.com/Katerioniz/status/13055691...\n",
      "date                                      2020-09-14 18:08:46+00:00\n",
      "content           @funkybunch50 Patagonia also has a website cal...\n",
      "id                                              1305569191542566913\n",
      "user              {'_type': 'snscrape.modules.twitter.User', 'us...\n",
      "replyCount                                                        2\n",
      "retweetCount                                                     64\n",
      "likeCount                                                       669\n",
      "quoteCount                                                        3\n",
      "media                                                           NaN\n",
      "retweetedTweet                                                  NaN\n",
      "quotedTweet                                                     NaN\n",
      "mentionedUsers    [{'_type': 'snscrape.modules.twitter.User', 'u...\n",
      "coordinates                                                     NaN\n",
      "place                                                           NaN\n",
      "hashtags                                                        NaN\n",
      "clean             patagonia also has a website called wornwear w...\n",
      "lemma             [patagonia, website, call, wornwear, sell, pie...\n",
      "joined_lemma      patagonia website call wornwear sell piece hel...\n",
      "wc                                                               28\n",
      "wcbc                                                             29\n",
      "assigned_topic                                              topic_0\n",
      "assigned_CorEx                                                    0\n",
      "Name: 393, dtype: object\n",
      "url               https://twitter.com/Surfrider/status/101710429...\n",
      "date                                      2018-07-11 17:52:15+00:00\n",
      "content           If you're in San Francisco today and looking t...\n",
      "id                                              1017104296234512384\n",
      "user              {'_type': 'snscrape.modules.twitter.User', 'us...\n",
      "replyCount                                                        0\n",
      "retweetCount                                                     16\n",
      "likeCount                                                        55\n",
      "quoteCount                                                        3\n",
      "media             [{'_type': 'snscrape.modules.twitter.Photo', '...\n",
      "retweetedTweet                                                  NaN\n",
      "quotedTweet                                                     NaN\n",
      "mentionedUsers    [{'_type': 'snscrape.modules.twitter.User', 'u...\n",
      "coordinates                                                     NaN\n",
      "place                                                           NaN\n",
      "hashtags                                   ['WornWear', 'WornWear']\n",
      "clean             if you're in san francisco today and looking t...\n",
      "lemma             [san, francisco, today, look, old, wear, wetsu...\n",
      "joined_lemma      san francisco today look old wear wetsuit repa...\n",
      "wc                                                               39\n",
      "wcbc                                                             44\n",
      "assigned_topic                                              topic_0\n",
      "assigned_CorEx                                                    0\n",
      "Name: 712, dtype: object\n",
      "url               https://twitter.com/Surfrider/status/100913769...\n",
      "date                                      2018-06-19 18:15:50+00:00\n",
      "content           We're teaming up with #WornWear to save damage...\n",
      "id                                              1009137694943764480\n",
      "user              {'_type': 'snscrape.modules.twitter.User', 'us...\n",
      "replyCount                                                        1\n",
      "retweetCount                                                      8\n",
      "likeCount                                                        34\n",
      "quoteCount                                                        0\n",
      "media             [{'_type': 'snscrape.modules.twitter.Photo', '...\n",
      "retweetedTweet                                                  NaN\n",
      "quotedTweet                                                     NaN\n",
      "mentionedUsers    [{'_type': 'snscrape.modules.twitter.User', 'u...\n",
      "coordinates                                                     NaN\n",
      "place                                                           NaN\n",
      "hashtags                                               ['WornWear']\n",
      "clean             we're teaming up with to save damaged gear fro...\n",
      "lemma             [team, save, damage, gear, landfill, weeks, pa...\n",
      "joined_lemma      team save damage gear landfill weeks partner s...\n",
      "wc                                                               40\n",
      "wcbc                                                             46\n",
      "assigned_topic                                              topic_0\n",
      "assigned_CorEx                                                    0\n",
      "Name: 725, dtype: object\n",
      "url               https://twitter.com/JonDuVarney/status/9247953...\n",
      "date                                      2017-10-30 00:29:23+00:00\n",
      "content           Some more shots from the @Patagonia #WornWear ...\n",
      "id                                               924795331581235201\n",
      "user              {'_type': 'snscrape.modules.twitter.User', 'us...\n",
      "replyCount                                                        1\n",
      "retweetCount                                                      1\n",
      "likeCount                                                         8\n",
      "quoteCount                                                        0\n",
      "media             [{'_type': 'snscrape.modules.twitter.Photo', '...\n",
      "retweetedTweet                                                  NaN\n",
      "quotedTweet                                                     NaN\n",
      "mentionedUsers    [{'_type': 'snscrape.modules.twitter.User', 'u...\n",
      "coordinates                                                     NaN\n",
      "place                                                           NaN\n",
      "hashtags                                ['WornWear', 'DUreporters']\n",
      "clean             some more shots from the story i'm working on....\n",
      "lemma             [shots, story, work, great, stories, gear, tea...\n",
      "joined_lemma           shots story work great stories gear team fix\n",
      "wc                                                               21\n",
      "wcbc                                                             25\n",
      "assigned_topic                                              topic_2\n",
      "assigned_CorEx                                                    1\n",
      "Name: 815, dtype: object\n",
      "url               https://twitter.com/VonnMelissa/status/1105146...\n",
      "date                                      2019-03-11 16:42:28+00:00\n",
      "content           I've always loved @patagonia's #wornwear campa...\n",
      "id                                              1105146983189307392\n",
      "user              {'_type': 'snscrape.modules.twitter.User', 'us...\n",
      "replyCount                                                        0\n",
      "retweetCount                                                      0\n",
      "likeCount                                                         7\n",
      "quoteCount                                                        0\n",
      "media                                                           NaN\n",
      "retweetedTweet                                                  NaN\n",
      "quotedTweet                                                     NaN\n",
      "mentionedUsers    [{'_type': 'snscrape.modules.twitter.User', 'u...\n",
      "coordinates                                                     NaN\n",
      "place                                                           NaN\n",
      "hashtags                                ['wornwear', 'sustainable']\n",
      "clean             i've always loved campaign. out of reduce, reu...\n",
      "lemma             [love, campaign, reduce, reuse, recycle, reduc...\n",
      "joined_lemma      love campaign reduce reuse recycle reduce reus...\n",
      "wc                                                               34\n",
      "wcbc                                                             42\n",
      "assigned_topic                                              topic_3\n",
      "assigned_CorEx                                                    1\n",
      "Name: 593, dtype: object\n",
      "url               https://twitter.com/bensollee/status/405126835...\n",
      "date                                      2013-11-26 00:12:19+00:00\n",
      "content           New short film from @patagonia clothing with s...\n",
      "id                                               405126835220250625\n",
      "user              {'_type': 'snscrape.modules.twitter.User', 'us...\n",
      "replyCount                                                        0\n",
      "retweetCount                                                      0\n",
      "likeCount                                                         5\n",
      "quoteCount                                                        0\n",
      "media                                                           NaN\n",
      "retweetedTweet                                                  NaN\n",
      "quotedTweet                                                     NaN\n",
      "mentionedUsers    [{'_type': 'snscrape.modules.twitter.User', 'u...\n",
      "coordinates                                                     NaN\n",
      "place                                                           NaN\n",
      "hashtags                                               ['WornWear']\n",
      "clean             new short film from clothing with some music b...\n",
      "lemma             [new, short, film, clothe, music, truly, love,...\n",
      "joined_lemma           new short film clothe music truly love story\n",
      "wc                                                               15\n",
      "wcbc                                                             18\n",
      "assigned_topic                                              topic_3\n",
      "assigned_CorEx                                                    1\n",
      "Name: 3297, dtype: object\n",
      "url               https://twitter.com/franclimbs/status/10036281...\n",
      "date                                      2018-06-04 13:22:47+00:00\n",
      "content           HUGE shoutout to @patagonia for fixing my favo...\n",
      "id                                              1003628130978975744\n",
      "user              {'_type': 'snscrape.modules.twitter.User', 'us...\n",
      "replyCount                                                        0\n",
      "retweetCount                                                      0\n",
      "likeCount                                                        31\n",
      "quoteCount                                                        0\n",
      "media             [{'_type': 'snscrape.modules.twitter.Photo', '...\n",
      "retweetedTweet                                                  NaN\n",
      "quotedTweet                                                     NaN\n",
      "mentionedUsers    [{'_type': 'snscrape.modules.twitter.User', 'u...\n",
      "coordinates                                                     NaN\n",
      "place                                                           NaN\n",
      "hashtags                                      ['wornwear', 'reuse']\n",
      "clean             huge shoutout to for fixing my favourite down ...\n",
      "lemma             [huge, shoutout, fix, favourite, jacket, happi...\n",
      "joined_lemma      huge shoutout fix favourite jacket happily sup...\n",
      "wc                                                               18\n",
      "wcbc                                                             23\n",
      "assigned_topic                                              topic_0\n",
      "assigned_CorEx                                                    2\n",
      "Name: 737, dtype: object\n",
      "url               https://twitter.com/OutdoorsMagic/status/72493...\n",
      "date                                      2016-04-26 12:01:52+00:00\n",
      "content           .@patagonia #WornWear's sewing guru Martina is...\n",
      "id                                               724931499817078785\n",
      "user              {'_type': 'snscrape.modules.twitter.User', 'us...\n",
      "replyCount                                                        0\n",
      "retweetCount                                                      6\n",
      "likeCount                                                        16\n",
      "quoteCount                                                        0\n",
      "media             [{'_type': 'snscrape.modules.twitter.Video', '...\n",
      "retweetedTweet                                                  NaN\n",
      "quotedTweet                                                     NaN\n",
      "mentionedUsers    [{'_type': 'snscrape.modules.twitter.User', 'u...\n",
      "coordinates                                                     NaN\n",
      "place                                                           NaN\n",
      "hashtags                                               ['WornWear']\n",
      "clean             . 's sewing guru martina is fixing loads of ou...\n",
      "lemma             [sew, guru, martina, fix, load, outdoor, gear,...\n",
      "joined_lemma      sew guru martina fix load outdoor gear free sh...\n",
      "wc                                                               17\n",
      "wcbc                                                             18\n",
      "assigned_topic                                              topic_0\n",
      "assigned_CorEx                                                    2\n",
      "Name: 1469, dtype: object\n",
      "url               https://twitter.com/abbycarlson1313/status/113...\n",
      "date                                      2019-05-31 02:02:14+00:00\n",
      "content           No, THANK YOU @patagonia! Two repaired jackets...\n",
      "id                                              1134278882561970177\n",
      "user              {'_type': 'snscrape.modules.twitter.User', 'us...\n",
      "replyCount                                                        1\n",
      "retweetCount                                                      1\n",
      "likeCount                                                        15\n",
      "quoteCount                                                        0\n",
      "media             [{'_type': 'snscrape.modules.twitter.Photo', '...\n",
      "retweetedTweet                                                  NaN\n",
      "quotedTweet                                                     NaN\n",
      "mentionedUsers    [{'_type': 'snscrape.modules.twitter.User', 'u...\n",
      "coordinates                                                     NaN\n",
      "place                                                           NaN\n",
      "hashtags                                               ['wornwear']\n",
      "clean             no, thank you two repaired jackets and two ver...\n",
      "lemma             [thank, repair, jacket, happy, customers, miss...\n",
      "joined_lemma      thank repair jacket happy customers miss golf ...\n",
      "wc                                                               32\n",
      "wcbc                                                             35\n",
      "assigned_topic                                              topic_0\n",
      "assigned_CorEx                                                    2\n",
      "Name: 568, dtype: object\n",
      "url               https://twitter.com/Ryan32198411/status/136262...\n",
      "date                                      2021-02-19 05:07:20+00:00\n",
      "content           @patagonia @tedcruz @WornWear I love this twee...\n",
      "id                                              1362629820706787330\n",
      "user              {'_type': 'snscrape.modules.twitter.User', 'us...\n",
      "replyCount                                                        0\n",
      "retweetCount                                                      1\n",
      "likeCount                                                        44\n",
      "quoteCount                                                        0\n",
      "media                                                           NaN\n",
      "retweetedTweet                                                  NaN\n",
      "quotedTweet                                                     NaN\n",
      "mentionedUsers    [{'_type': 'snscrape.modules.twitter.User', 'u...\n",
      "coordinates                                                     NaN\n",
      "place                                                           NaN\n",
      "hashtags                                                        NaN\n",
      "clean             i love this tweet. i've seen that snake wear p...\n",
      "lemma             [love, tweet, see, snake, wear, patagonia, tim...\n",
      "joined_lemma      love tweet see snake wear patagonia time think...\n",
      "wc                                                               27\n",
      "wcbc                                                             30\n",
      "assigned_topic                                              topic_3\n",
      "assigned_CorEx                                                    3\n",
      "Name: 214, dtype: object\n",
      "url               https://twitter.com/instigating/status/5837077...\n",
      "date                                      2015-04-02 19:08:58+00:00\n",
      "content           LOVE: Don't throw away. Make a story worth sav...\n",
      "id                                               583707712325754880\n",
      "user              {'_type': 'snscrape.modules.twitter.User', 'us...\n",
      "replyCount                                                        0\n",
      "retweetCount                                                      3\n",
      "likeCount                                                         6\n",
      "quoteCount                                                        0\n",
      "media                                                           NaN\n",
      "retweetedTweet                                                  NaN\n",
      "quotedTweet                                                     NaN\n",
      "mentionedUsers    [{'_type': 'snscrape.modules.twitter.User', 'u...\n",
      "coordinates                                                     NaN\n",
      "place                                                           NaN\n",
      "hashtags                                               ['wornwear']\n",
      "clean             love: don't throw away. make a story worth sav...\n",
      "lemma             [love, throw, away, story, worth, save, share,...\n",
      "joined_lemma             love throw away story worth save share ala\n",
      "wc                                                               11\n",
      "wcbc                                                             18\n",
      "assigned_topic                                              topic_3\n",
      "assigned_CorEx                                                    3\n",
      "Name: 2355, dtype: object\n",
      "url               https://twitter.com/CGrzona/status/13634895881...\n",
      "date                                      2021-02-21 14:03:44+00:00\n",
      "content           @patagoniaeurope My beloved #deuter backpack g...\n",
      "id                                              1363489588149325825\n",
      "user              {'_type': 'snscrape.modules.twitter.User', 'us...\n",
      "replyCount                                                        0\n",
      "retweetCount                                                      0\n",
      "likeCount                                                         6\n",
      "quoteCount                                                        0\n",
      "media             [{'_type': 'snscrape.modules.twitter.Photo', '...\n",
      "retweetedTweet                                                  NaN\n",
      "quotedTweet                                                     NaN\n",
      "mentionedUsers    [{'_type': 'snscrape.modules.twitter.User', 'u...\n",
      "coordinates                                                     NaN\n",
      "place                                                           NaN\n",
      "hashtags                                     ['deuter', 'wornwear']\n",
      "clean             my beloved backpack got stuck in my front whee...\n",
      "lemma             [beloved, backpack, get, stick, wheel, mountai...\n",
      "joined_lemma      beloved backpack get stick wheel mountainbike ...\n",
      "wc                                                               40\n",
      "wcbc                                                             44\n",
      "assigned_topic                                              topic_3\n",
      "assigned_CorEx                                                    3\n",
      "Name: 100, dtype: object\n",
      "url               https://twitter.com/ThriftyCloset22/status/705...\n",
      "date                                      2016-03-05 03:08:54+00:00\n",
      "content           I just listed 'Patagonia quick dry pants, wome...\n",
      "id                                               705953204878487552\n",
      "user              {'_type': 'snscrape.modules.twitter.User', 'us...\n",
      "replyCount                                                        0\n",
      "retweetCount                                                      1\n",
      "likeCount                                                         6\n",
      "quoteCount                                                        0\n",
      "media                                                           NaN\n",
      "retweetedTweet                                                  NaN\n",
      "quotedTweet                                                     NaN\n",
      "mentionedUsers                                                  NaN\n",
      "coordinates                                                     NaN\n",
      "place                                                           NaN\n",
      "hashtags                     ['thrifting', 'wornwear', 'patagonia']\n",
      "clean             i just listed 'patagonia quick dry pants, wome...\n",
      "lemma             [list, patagonia, quick, dry, pant, womens, gr...\n",
      "joined_lemma      list patagonia quick dry pant womens great eba...\n",
      "wc                                                               15\n",
      "wcbc                                                             19\n",
      "assigned_topic                                              topic_1\n",
      "assigned_CorEx                                                    4\n",
      "Name: 1638, dtype: object\n",
      "url               https://twitter.com/GLGS2017/status/8214980766...\n",
      "date                                      2017-01-17 23:22:58+00:00\n",
      "content           Bro Level: Matching Patagonia jackets from the...\n",
      "id                                               821498076682719233\n",
      "user              {'_type': 'snscrape.modules.twitter.User', 'us...\n",
      "replyCount                                                        0\n",
      "retweetCount                                                      1\n",
      "likeCount                                                         5\n",
      "quoteCount                                                        2\n",
      "media             [{'_type': 'snscrape.modules.twitter.Photo', '...\n",
      "retweetedTweet                                                  NaN\n",
      "quotedTweet                                                     NaN\n",
      "mentionedUsers                                                  NaN\n",
      "coordinates                                                     NaN\n",
      "place                                                           NaN\n",
      "hashtags                                               ['WornWear']\n",
      "clean             bro level: matching patagonia jackets from the...\n",
      "lemma             [bro, level, match, patagonia, jacket, ebay, s...\n",
      "joined_lemma             bro level match patagonia jacket ebay site\n",
      "wc                                                                9\n",
      "wcbc                                                             11\n",
      "assigned_topic                                              topic_1\n",
      "assigned_CorEx                                                    4\n",
      "Name: 1232, dtype: object\n",
      "url               https://twitter.com/travelist10/status/1348441...\n",
      "date                                      2021-01-11 01:26:20+00:00\n",
      "content           @dog4climate @patagonia is great.  Also consid...\n",
      "id                                              1348441078689533952\n",
      "user              {'_type': 'snscrape.modules.twitter.User', 'us...\n",
      "replyCount                                                        0\n",
      "retweetCount                                                      0\n",
      "likeCount                                                         2\n",
      "quoteCount                                                        0\n",
      "media                                                           NaN\n",
      "retweetedTweet                                                  NaN\n",
      "quotedTweet                                                     NaN\n",
      "mentionedUsers    [{'_type': 'snscrape.modules.twitter.User', 'u...\n",
      "coordinates                                                     NaN\n",
      "place                                                           NaN\n",
      "hashtags                                               ['wornwear']\n",
      "clean             is great. also consider used to reduce the amo...\n",
      "lemma             [great, consider, reduce, new, items, lot, stu...\n",
      "joined_lemma      great consider reduce new items lot stuff ebay...\n",
      "wc                                                               22\n",
      "wcbc                                                             25\n",
      "assigned_topic                                              topic_1\n",
      "assigned_CorEx                                                    4\n",
      "Name: 343, dtype: object\n",
      "url               https://twitter.com/12treesinawood/status/1362...\n",
      "date                                      2021-02-18 21:35:06+00:00\n",
      "content           @patagonia @tedcruz @WornWear @patagonia can y...\n",
      "id                                              1362516013028409346\n",
      "user              {'_type': 'snscrape.modules.twitter.User', 'us...\n",
      "replyCount                                                        0\n",
      "retweetCount                                                      3\n",
      "likeCount                                                       132\n",
      "quoteCount                                                        1\n",
      "media                                                           NaN\n",
      "retweetedTweet                                                  NaN\n",
      "quotedTweet                                                     NaN\n",
      "mentionedUsers    [{'_type': 'snscrape.modules.twitter.User', 'u...\n",
      "coordinates                                                     NaN\n",
      "place                                                           NaN\n",
      "hashtags                                                        NaN\n",
      "clean             can you guarantee i won’t be getting anything ...\n",
      "lemma             [guarantee, win, get, touch, purchase, gear, s...\n",
      "joined_lemma      guarantee win get touch purchase gear site lov...\n",
      "wc                                                               27\n",
      "wcbc                                                             32\n",
      "assigned_topic                                              topic_3\n",
      "assigned_CorEx                                                    5\n",
      "Name: 310, dtype: object\n",
      "url               https://twitter.com/KelseyTimmerman/status/136...\n",
      "date                                      2021-02-18 21:18:28+00:00\n",
      "content           @patagonia @tedcruz @WornWear Love this! Now i...\n",
      "id                                              1362511825535963144\n",
      "user              {'_type': 'snscrape.modules.twitter.User', 'us...\n",
      "replyCount                                                        1\n",
      "retweetCount                                                      0\n",
      "likeCount                                                        30\n",
      "quoteCount                                                        0\n",
      "media                                                           NaN\n",
      "retweetedTweet                                                  NaN\n",
      "quotedTweet                                                     NaN\n",
      "mentionedUsers    [{'_type': 'snscrape.modules.twitter.User', 'u...\n",
      "coordinates                                                     NaN\n",
      "place                                                           NaN\n",
      "hashtags                                                        NaN\n",
      "clean             love this! now if only we could get him to giv...\n",
      "lemma             [love, attention, environment, guess, improvem...\n",
      "joined_lemma           love attention environment guess improvement\n",
      "wc                                                               28\n",
      "wcbc                                                             31\n",
      "assigned_topic                                              topic_3\n",
      "assigned_CorEx                                                    5\n",
      "Name: 324, dtype: object\n",
      "url               https://twitter.com/adamdole/status/8407762094...\n",
      "date                                      2017-03-12 04:07:23+00:00\n",
      "content           I love that @patagonia encouraged me to have t...\n",
      "id                                               840776209428496385\n",
      "user              {'_type': 'snscrape.modules.twitter.User', 'us...\n",
      "replyCount                                                        1\n",
      "retweetCount                                                      1\n",
      "likeCount                                                        24\n",
      "quoteCount                                                        0\n",
      "media             [{'_type': 'snscrape.modules.twitter.Photo', '...\n",
      "retweetedTweet                                                  NaN\n",
      "quotedTweet                                                     NaN\n",
      "mentionedUsers    [{'_type': 'snscrape.modules.twitter.User', 'u...\n",
      "coordinates                                                     NaN\n",
      "place                                                           NaN\n",
      "hashtags                                     ['wornwear', 'values']\n",
      "clean             i love that encouraged me to have them repair ...\n",
      "lemma             [love, encourage, repair, favorite, board, sho...\n",
      "joined_lemma      love encourage repair favorite board short yrs...\n",
      "wc                                                               21\n",
      "wcbc                                                             25\n",
      "assigned_topic                                              topic_3\n",
      "assigned_CorEx                                                    5\n",
      "Name: 1096, dtype: object\n"
     ]
    }
   ],
   "source": [
    "for topic in range(6):\n",
    "    idx = df[df.assigned_CorEx==topic].likeCount.sort_values(ascending=False).index[:3]\n",
    "    for i in idx:\n",
    "        print(df.iloc[i])"
   ]
  },
  {
   "cell_type": "code",
   "execution_count": 1571,
   "id": "d7e21530",
   "metadata": {
    "scrolled": true
   },
   "outputs": [
    {
     "data": {
      "text/plain": [
       "928     @patagonia wornwear tour @MancClimbCentre toda...\n",
       "1053    The @patagonia #WornWear tour is on the road a...\n",
       "2112    Seattleites Welcome the #Patagonia Worn Wagon ...\n",
       "3164    Repair Your Old Clothes, Don't Buy New Ones ma...\n",
       "1914    The Beast: Santa Cruz Gear Repair​'s answer to...\n",
       "1386    #Humpday #Inspiration goes to @patagonia  #wor...\n",
       "938     The @wornwear truck is at our Ambleside campus...\n",
       "751     We had the incredible opportunity to host @pat...\n",
       "2871    Was inspired to fix up my old gear instead of ...\n",
       "893     Thanks @patagonia #wornwear @SnowAndRock #Cove...\n",
       "Name: content, dtype: object"
      ]
     },
     "execution_count": 1571,
     "metadata": {},
     "output_type": "execute_result"
    }
   ],
   "source": [
    "df[df.assigned_CorEx==2].content.sample(10)"
   ]
  },
  {
   "cell_type": "code",
   "execution_count": 1573,
   "id": "d9860d18",
   "metadata": {
    "scrolled": false
   },
   "outputs": [
    {
     "data": {
      "text/plain": [
       "url               https://twitter.com/john_dunne/status/86697533...\n",
       "date                                            2017-05-23 11:13:23\n",
       "content           @patagonia wornwear tour @MancClimbCentre toda...\n",
       "id                                               866975339175698432\n",
       "user              {'_type': 'snscrape.modules.twitter.User', 'us...\n",
       "replyCount                                                        0\n",
       "retweetCount                                                      1\n",
       "likeCount                                                         4\n",
       "quoteCount                                                        0\n",
       "media             [{'_type': 'snscrape.modules.twitter.Photo', '...\n",
       "retweetedTweet                                                  NaN\n",
       "quotedTweet                                                     NaN\n",
       "mentionedUsers    [{'_type': 'snscrape.modules.twitter.User', 'u...\n",
       "coordinates                                                     NaN\n",
       "place                                                           NaN\n",
       "hashtags                                                        NaN\n",
       "clean             wornwear tour today get on down if you need an...\n",
       "lemma             [wornwear, tour, today, need, outdoor, kit, re...\n",
       "joined_lemma            wornwear tour today need outdoor kit repair\n",
       "wc                                                               13\n",
       "wcbc                                                             16\n",
       "assigned_topic                                          RepairTours\n",
       "assigned_CorEx                                                    2\n",
       "Name: 928, dtype: object"
      ]
     },
     "execution_count": 1573,
     "metadata": {},
     "output_type": "execute_result"
    }
   ],
   "source": [
    "df.iloc[928]"
   ]
  },
  {
   "cell_type": "code",
   "execution_count": 1575,
   "id": "e7d7e1d7",
   "metadata": {
    "scrolled": true
   },
   "outputs": [
    {
     "data": {
      "text/plain": [
       "url               https://twitter.com/KooleHelene/status/7365388...\n",
       "date                                            2016-05-28 12:45:10\n",
       "content           Got my bag fixed by @patagonia #wornwear tour ...\n",
       "id                                               736538808682991616\n",
       "user              {'_type': 'snscrape.modules.twitter.User', 'us...\n",
       "replyCount                                                        0\n",
       "retweetCount                                                      0\n",
       "likeCount                                                         2\n",
       "quoteCount                                                        0\n",
       "media             [{'_type': 'snscrape.modules.twitter.Photo', '...\n",
       "retweetedTweet                                                  NaN\n",
       "quotedTweet                                                     NaN\n",
       "mentionedUsers    [{'_type': 'snscrape.modules.twitter.User', 'u...\n",
       "coordinates                                                     NaN\n",
       "place                                                           NaN\n",
       "hashtags                                               ['wornwear']\n",
       "clean                                    got my bag fixed by tour  \n",
       "lemma                                         [get, bag, fix, tour]\n",
       "joined_lemma                                       get bag fix tour\n",
       "wc                                                                6\n",
       "wcbc                                                             10\n",
       "assigned_topic                                          RepairTours\n",
       "assigned_CorEx                                                    2\n",
       "Name: 1374, dtype: object"
      ]
     },
     "execution_count": 1575,
     "metadata": {},
     "output_type": "execute_result"
    }
   ],
   "source": [
    "df.iloc[1374]"
   ]
  },
  {
   "cell_type": "code",
   "execution_count": 1576,
   "id": "17466078",
   "metadata": {
    "scrolled": true
   },
   "outputs": [
    {
     "data": {
      "text/plain": [
       "2132    I just listed 'Patagonia polo shirt, Mens M, o...\n",
       "1945    I just listed 'Lost Season 1 DVD set, complete...\n",
       "2128    I just listed 'Prana polo shirt mens M' on eBa...\n",
       "2028    I just listed 'Patagonia lightweight softshell...\n",
       "2351    I just listed 'Land Rover Driving School exped...\n",
       "2018    I just listed 'Ralph Lauren classic fit oxford...\n",
       "1921    I just listed 'Exofficio travel/safari pants, ...\n",
       "2094    I just listed 'Merrell encore ice moc, womens ...\n",
       "1644    I just listed 'Patagonia capilene womens fleec...\n",
       "2012    I just listed 'Patagonia polo shirt. Mens XL '...\n",
       "Name: content, dtype: object"
      ]
     },
     "execution_count": 1576,
     "metadata": {},
     "output_type": "execute_result"
    }
   ],
   "source": [
    "df[df.assigned_CorEx==4].content.sample(10)"
   ]
  },
  {
   "cell_type": "code",
   "execution_count": 1577,
   "id": "a36cf262",
   "metadata": {
    "scrolled": true
   },
   "outputs": [
    {
     "data": {
      "text/plain": [
       "url               https://twitter.com/ThriftyCloset22/status/595...\n",
       "date                                            2015-05-04 01:10:14\n",
       "content           I just listed 'Patagonia polo shirt, Mens M, o...\n",
       "id                                               595032651783737345\n",
       "user              {'_type': 'snscrape.modules.twitter.User', 'us...\n",
       "replyCount                                                        0\n",
       "retweetCount                                                      0\n",
       "likeCount                                                         0\n",
       "quoteCount                                                        0\n",
       "media                                                           NaN\n",
       "retweetedTweet                                                  NaN\n",
       "quotedTweet                                                     NaN\n",
       "mentionedUsers                                                  NaN\n",
       "coordinates                                                     NaN\n",
       "place                                                           NaN\n",
       "hashtags                     ['thrifting', 'wornwear', 'patagonia']\n",
       "clean             i just listed 'patagonia polo shirt, mens m, o...\n",
       "lemma             [list, patagonia, polo, shirt, mens, organic, ...\n",
       "joined_lemma      list patagonia polo shirt mens organic cotto e...\n",
       "wc                                                               15\n",
       "wcbc                                                             19\n",
       "assigned_topic                                         eBayListings\n",
       "assigned_CorEx                                                    4\n",
       "Name: 2132, dtype: object"
      ]
     },
     "execution_count": 1577,
     "metadata": {},
     "output_type": "execute_result"
    }
   ],
   "source": [
    "df.iloc[2132]"
   ]
  },
  {
   "cell_type": "code",
   "execution_count": 1585,
   "id": "e3a918de",
   "metadata": {
    "scrolled": true
   },
   "outputs": [
    {
     "data": {
      "text/plain": [
       "3226    “The stories you wear...\" RT @patagonia 'celeb...\n",
       "3317    .@patagonia releases new film #WornWear as alt...\n",
       "2143    When you buy quality you only cry once.\\n\\nChe...\n",
       "3033    Psyched!  Check out the film today wornwear.pa...\n",
       "3276    RT @patagonia: \"The longer I keep a piece of g...\n",
       "3064    \"The longer I keep a piece of gear, the more s...\n",
       "681     Celebrating the Stories We Wear with @patagoni...\n",
       "3396    Real people. Real stories. Awesome. #WornWear ...\n",
       "2909    If you haven't watched yet, you should! youtu....\n",
       "2001    The @patagonia #wornwear initiative calls for ...\n",
       "Name: content, dtype: object"
      ]
     },
     "execution_count": 1585,
     "metadata": {},
     "output_type": "execute_result"
    }
   ],
   "source": [
    "df[df.assigned_CorEx==1].content.sample(10)"
   ]
  },
  {
   "cell_type": "code",
   "execution_count": 1587,
   "id": "e02466d1",
   "metadata": {
    "scrolled": true
   },
   "outputs": [
    {
     "data": {
      "text/plain": [
       "url               https://twitter.com/channingjones_/status/3203...\n",
       "date                                            2013-04-06 00:43:09\n",
       "content           Real people. Real stories. Awesome. #WornWear ...\n",
       "id                                               320335838011588608\n",
       "user              {'_type': 'snscrape.modules.twitter.User', 'us...\n",
       "replyCount                                                        0\n",
       "retweetCount                                                      0\n",
       "likeCount                                                         0\n",
       "quoteCount                                                        0\n",
       "media                                                           NaN\n",
       "retweetedTweet                                                  NaN\n",
       "quotedTweet                                                     NaN\n",
       "mentionedUsers    [{'_type': 'snscrape.modules.twitter.User', 'u...\n",
       "coordinates                                                     NaN\n",
       "place                                                           NaN\n",
       "hashtags                      ['WornWear', 'Patagonia', 'Branding']\n",
       "clean                          real people. real stories. awesome. \n",
       "lemma                        [real, people, real, stories, awesome]\n",
       "joined_lemma                       real people real stories awesome\n",
       "wc                                                                5\n",
       "wcbc                                                             11\n",
       "assigned_topic                                                Films\n",
       "assigned_CorEx                                                    1\n",
       "Name: 3396, dtype: object"
      ]
     },
     "execution_count": 1587,
     "metadata": {},
     "output_type": "execute_result"
    }
   ],
   "source": [
    "df.iloc[3396]"
   ]
  },
  {
   "cell_type": "code",
   "execution_count": 1595,
   "id": "c237338c",
   "metadata": {
    "scrolled": true
   },
   "outputs": [
    {
     "data": {
      "text/plain": [
       "2642    Loving the new #wornwear excerpt from @patagon...\n",
       "3254    The antidote to #BlackFriday! @patagonia's #wo...\n",
       "688     looking forward to joining  wornwear  patagoni...\n",
       "1379    We love @patagonia  a great example of being s...\n",
       "1052    Celebrate #RepaiRIT week today with us, #WornW...\n",
       "199     @zombeeapokalips @mtnealbmf @patagonia @tedcru...\n",
       "606     Another reason I love @patagonia-\\nIn Nov. a r...\n",
       "13      I decided to only buy used pants and shirts. I...\n",
       "2099    #Repost @patagonia love that truck\\n・・・\\nOh th...\n",
       "2141    Also love this interview with the founder of @...\n",
       "Name: content, dtype: object"
      ]
     },
     "execution_count": 1595,
     "metadata": {},
     "output_type": "execute_result"
    }
   ],
   "source": [
    "df[df.assigned_CorEx==5].content.sample(10)"
   ]
  },
  {
   "cell_type": "code",
   "execution_count": 1596,
   "id": "87af311c",
   "metadata": {},
   "outputs": [
    {
     "data": {
      "text/plain": [
       "url               https://twitter.com/RIT_SEAL/status/8463374301...\n",
       "date                                            2017-03-27 12:25:42\n",
       "content           Celebrate #RepaiRIT week today with us, #WornW...\n",
       "id                                               846337430173237249\n",
       "user              {'_type': 'snscrape.modules.twitter.User', 'us...\n",
       "replyCount                                                        0\n",
       "retweetCount                                                      0\n",
       "likeCount                                                         0\n",
       "quoteCount                                                        0\n",
       "media             [{'_type': 'snscrape.modules.twitter.Photo', '...\n",
       "retweetedTweet                                                  NaN\n",
       "quotedTweet                                                     NaN\n",
       "mentionedUsers    [{'_type': 'snscrape.modules.twitter.User', 'u...\n",
       "coordinates                                                     NaN\n",
       "place                                                           NaN\n",
       "hashtags                                   ['RepaiRIT', 'WornWear']\n",
       "clean             celebrate week today with us, and ! bring an o...\n",
       "lemma             [celebrate, week, today, bring, old, beat, jac...\n",
       "joined_lemma      celebrate week today bring old beat jacket bik...\n",
       "wc                                                               18\n",
       "wcbc                                                             22\n",
       "assigned_topic                                          RepairTours\n",
       "assigned_CorEx                                                    5\n",
       "Name: 1052, dtype: object"
      ]
     },
     "execution_count": 1596,
     "metadata": {},
     "output_type": "execute_result"
    }
   ],
   "source": [
    "df.iloc[1052]"
   ]
  },
  {
   "cell_type": "markdown",
   "id": "0f99ba04",
   "metadata": {},
   "source": [
    "# Distribution of tweets by years"
   ]
  },
  {
   "cell_type": "code",
   "execution_count": 1501,
   "id": "0751dec6",
   "metadata": {},
   "outputs": [],
   "source": [
    "df[\"date\"] = df[\"date\"].astype(\"datetime64\")"
   ]
  },
  {
   "cell_type": "code",
   "execution_count": 1504,
   "id": "e7374e44",
   "metadata": {
    "scrolled": true
   },
   "outputs": [
    {
     "data": {
      "text/plain": [
       "Timestamp('2013-01-02 20:41:33')"
      ]
     },
     "execution_count": 1504,
     "metadata": {},
     "output_type": "execute_result"
    }
   ],
   "source": [
    "df.date.min()"
   ]
  },
  {
   "cell_type": "code",
   "execution_count": 1505,
   "id": "8a18d1cd",
   "metadata": {},
   "outputs": [
    {
     "data": {
      "text/plain": [
       "Timestamp('2021-07-02 19:00:47')"
      ]
     },
     "execution_count": 1505,
     "metadata": {},
     "output_type": "execute_result"
    }
   ],
   "source": [
    "df.date.max()"
   ]
  },
  {
   "cell_type": "code",
   "execution_count": 1509,
   "id": "4110c52b",
   "metadata": {
    "scrolled": true
   },
   "outputs": [
    {
     "data": {
      "text/plain": [
       "Index(['url', 'date', 'content', 'id', 'user', 'replyCount', 'retweetCount',\n",
       "       'likeCount', 'quoteCount', 'media', 'retweetedTweet', 'quotedTweet',\n",
       "       'mentionedUsers', 'coordinates', 'place', 'hashtags', 'clean', 'lemma',\n",
       "       'joined_lemma', 'wc', 'wcbc', 'assigned_topic', 'assigned_CorEx'],\n",
       "      dtype='object')"
      ]
     },
     "execution_count": 1509,
     "metadata": {},
     "output_type": "execute_result"
    }
   ],
   "source": [
    "df.columns"
   ]
  },
  {
   "cell_type": "code",
   "execution_count": 1512,
   "id": "57940992",
   "metadata": {},
   "outputs": [
    {
     "name": "stdout",
     "output_type": "stream",
     "text": [
      "<class 'pandas.core.frame.DataFrame'>\n",
      "RangeIndex: 3417 entries, 0 to 3416\n",
      "Data columns (total 23 columns):\n",
      " #   Column          Non-Null Count  Dtype         \n",
      "---  ------          --------------  -----         \n",
      " 0   url             3417 non-null   object        \n",
      " 1   date            3417 non-null   datetime64[ns]\n",
      " 2   content         3417 non-null   object        \n",
      " 3   id              3417 non-null   int64         \n",
      " 4   user            3417 non-null   object        \n",
      " 5   replyCount      3417 non-null   int64         \n",
      " 6   retweetCount    3417 non-null   int64         \n",
      " 7   likeCount       3417 non-null   int64         \n",
      " 8   quoteCount      3417 non-null   int64         \n",
      " 9   media           855 non-null    object        \n",
      " 10  retweetedTweet  0 non-null      float64       \n",
      " 11  quotedTweet     119 non-null    object        \n",
      " 12  mentionedUsers  2419 non-null   object        \n",
      " 13  coordinates     238 non-null    object        \n",
      " 14  place           238 non-null    object        \n",
      " 15  hashtags        2750 non-null   object        \n",
      " 16  clean           3417 non-null   object        \n",
      " 17  lemma           3417 non-null   object        \n",
      " 18  joined_lemma    3417 non-null   object        \n",
      " 19  wc              3417 non-null   int64         \n",
      " 20  wcbc            3417 non-null   int64         \n",
      " 21  assigned_topic  3417 non-null   object        \n",
      " 22  assigned_CorEx  3417 non-null   int64         \n",
      "dtypes: datetime64[ns](1), float64(1), int64(8), object(13)\n",
      "memory usage: 614.1+ KB\n"
     ]
    }
   ],
   "source": [
    "df.info()"
   ]
  },
  {
   "cell_type": "code",
   "execution_count": 1522,
   "id": "0be8afa5",
   "metadata": {
    "scrolled": false
   },
   "outputs": [
    {
     "data": {
      "image/png": "[encoded data removed]",
      "text/plain": [
       "<Figure size 432x288 with 1 Axes>"
      ]
     },
     "metadata": {},
     "output_type": "display_data"
    }
   ],
   "source": [
    "fig = df.groupby(df[\"date\"].dt.year)['content'].count().plot(kind=\"bar\", color = 'white').get_figure()\n",
    "sns.axes_style({'text.color': 'white',\n",
    " 'xtick.color': 'white',\n",
    " 'ytick.color': 'white',\n",
    " 'axes.facecolor': 'white',\n",
    " 'axes.edgecolor': 'white',\n",
    " 'axes.grid': True,\n",
    " 'axes.axisbelow': 'line',\n",
    " 'axes.labelcolor': 'white',\n",
    " 'figure.facecolor': 'white',\n",
    " 'patch.edgecolor': 'white'})\n",
    "sns.set_style(\"whitegrid\", {\"grid.color\": \".8\"})\n",
    "plt.tick_params(axis='x', colors='white')\n",
    "plt.tick_params(axis='y', colors='white')\n",
    "fig.savefig('tweets_year.png', transparent=True, dpi=300)"
   ]
  },
  {
   "cell_type": "code",
   "execution_count": 1515,
   "id": "4765ae4e",
   "metadata": {
    "scrolled": true
   },
   "outputs": [
    {
     "name": "stdout",
     "output_type": "stream",
     "text": [
      "<class 'pandas.core.frame.DataFrame'>\n",
      "Int64Index: 119 entries, 346 to 464\n",
      "Data columns (total 23 columns):\n",
      " #   Column          Non-Null Count  Dtype         \n",
      "---  ------          --------------  -----         \n",
      " 0   url             119 non-null    object        \n",
      " 1   date            119 non-null    datetime64[ns]\n",
      " 2   content         119 non-null    object        \n",
      " 3   id              119 non-null    int64         \n",
      " 4   user            119 non-null    object        \n",
      " 5   replyCount      119 non-null    int64         \n",
      " 6   retweetCount    119 non-null    int64         \n",
      " 7   likeCount       119 non-null    int64         \n",
      " 8   quoteCount      119 non-null    int64         \n",
      " 9   media           43 non-null     object        \n",
      " 10  retweetedTweet  0 non-null      float64       \n",
      " 11  quotedTweet     5 non-null      object        \n",
      " 12  mentionedUsers  96 non-null     object        \n",
      " 13  coordinates     9 non-null      object        \n",
      " 14  place           9 non-null      object        \n",
      " 15  hashtags        89 non-null     object        \n",
      " 16  clean           119 non-null    object        \n",
      " 17  lemma           119 non-null    object        \n",
      " 18  joined_lemma    119 non-null    object        \n",
      " 19  wc              119 non-null    int64         \n",
      " 20  wcbc            119 non-null    int64         \n",
      " 21  assigned_topic  119 non-null    object        \n",
      " 22  assigned_CorEx  119 non-null    int64         \n",
      "dtypes: datetime64[ns](1), float64(1), int64(8), object(13)\n",
      "memory usage: 22.3+ KB\n"
     ]
    }
   ],
   "source": [
    "df[df.date.dt.year ==2020].info()"
   ]
  },
  {
   "cell_type": "code",
   "execution_count": 1516,
   "id": "3656bc00",
   "metadata": {},
   "outputs": [
    {
     "name": "stdout",
     "output_type": "stream",
     "text": [
      "<class 'pandas.core.frame.DataFrame'>\n",
      "Int64Index: 761 entries, 1713 to 2473\n",
      "Data columns (total 23 columns):\n",
      " #   Column          Non-Null Count  Dtype         \n",
      "---  ------          --------------  -----         \n",
      " 0   url             761 non-null    object        \n",
      " 1   date            761 non-null    datetime64[ns]\n",
      " 2   content         761 non-null    object        \n",
      " 3   id              761 non-null    int64         \n",
      " 4   user            761 non-null    object        \n",
      " 5   replyCount      761 non-null    int64         \n",
      " 6   retweetCount    761 non-null    int64         \n",
      " 7   likeCount       761 non-null    int64         \n",
      " 8   quoteCount      761 non-null    int64         \n",
      " 9   media           161 non-null    object        \n",
      " 10  retweetedTweet  0 non-null      float64       \n",
      " 11  quotedTweet     25 non-null     object        \n",
      " 12  mentionedUsers  456 non-null    object        \n",
      " 13  coordinates     48 non-null     object        \n",
      " 14  place           48 non-null     object        \n",
      " 15  hashtags        685 non-null    object        \n",
      " 16  clean           761 non-null    object        \n",
      " 17  lemma           761 non-null    object        \n",
      " 18  joined_lemma    761 non-null    object        \n",
      " 19  wc              761 non-null    int64         \n",
      " 20  wcbc            761 non-null    int64         \n",
      " 21  assigned_topic  761 non-null    object        \n",
      " 22  assigned_CorEx  761 non-null    int64         \n",
      "dtypes: datetime64[ns](1), float64(1), int64(8), object(13)\n",
      "memory usage: 142.7+ KB\n"
     ]
    }
   ],
   "source": [
    "df[df.date.dt.year ==2015].info()"
   ]
  },
  {
   "cell_type": "code",
   "execution_count": 1384,
   "id": "9406c419",
   "metadata": {},
   "outputs": [
    {
     "data": {
      "text/html": [
       "<div>\n",
       "<style scoped>\n",
       "    .dataframe tbody tr th:only-of-type {\n",
       "        vertical-align: middle;\n",
       "    }\n",
       "\n",
       "    .dataframe tbody tr th {\n",
       "        vertical-align: top;\n",
       "    }\n",
       "\n",
       "    .dataframe thead th {\n",
       "        text-align: right;\n",
       "    }\n",
       "</style>\n",
       "<table border=\"1\" class=\"dataframe\">\n",
       "  <thead>\n",
       "    <tr style=\"text-align: right;\">\n",
       "      <th></th>\n",
       "      <th>index</th>\n",
       "      <th>date</th>\n",
       "      <th>content</th>\n",
       "      <th>id</th>\n",
       "      <th>user</th>\n",
       "      <th>replyCount</th>\n",
       "      <th>retweetCount</th>\n",
       "      <th>likeCount</th>\n",
       "      <th>quoteCount</th>\n",
       "      <th>media</th>\n",
       "      <th>...</th>\n",
       "      <th>mentionedUsers</th>\n",
       "      <th>coordinates</th>\n",
       "      <th>place</th>\n",
       "      <th>hashtags</th>\n",
       "      <th>clean</th>\n",
       "      <th>lemma</th>\n",
       "      <th>joined_lemma</th>\n",
       "      <th>wc</th>\n",
       "      <th>wcbc</th>\n",
       "      <th>assigned_topic</th>\n",
       "    </tr>\n",
       "  </thead>\n",
       "  <tbody>\n",
       "    <tr>\n",
       "      <th>393</th>\n",
       "      <td>404</td>\n",
       "      <td>2020-09-14 18:08:46+00:00</td>\n",
       "      <td>@funkybunch50 Patagonia also has a website cal...</td>\n",
       "      <td>1305569191542566913</td>\n",
       "      <td>{'_type': 'snscrape.modules.twitter.User', 'us...</td>\n",
       "      <td>2</td>\n",
       "      <td>64</td>\n",
       "      <td>669</td>\n",
       "      <td>3</td>\n",
       "      <td>NaN</td>\n",
       "      <td>...</td>\n",
       "      <td>[{'_type': 'snscrape.modules.twitter.User', 'u...</td>\n",
       "      <td>NaN</td>\n",
       "      <td>NaN</td>\n",
       "      <td>NaN</td>\n",
       "      <td>patagonia also has a website called wornwear w...</td>\n",
       "      <td>[patagonia, website, call, wornwear, sell, pie...</td>\n",
       "      <td>patagonia website call wornwear sell piece hel...</td>\n",
       "      <td>28</td>\n",
       "      <td>29</td>\n",
       "      <td>topic_0</td>\n",
       "    </tr>\n",
       "    <tr>\n",
       "      <th>330</th>\n",
       "      <td>336</td>\n",
       "      <td>2021-02-18 21:16:17+00:00</td>\n",
       "      <td>@patagonia @tedcruz @WornWear Thanks, Ted Cruz...</td>\n",
       "      <td>1362511279399690240</td>\n",
       "      <td>{'_type': 'snscrape.modules.twitter.User', 'us...</td>\n",
       "      <td>1</td>\n",
       "      <td>5</td>\n",
       "      <td>173</td>\n",
       "      <td>0</td>\n",
       "      <td>NaN</td>\n",
       "      <td>...</td>\n",
       "      <td>[{'_type': 'snscrape.modules.twitter.User', 'u...</td>\n",
       "      <td>NaN</td>\n",
       "      <td>NaN</td>\n",
       "      <td>NaN</td>\n",
       "      <td>thanks, ted cruz for travelling to mexico and ...</td>\n",
       "      <td>[thank, ted, cruz, travel, mexico, set, example]</td>\n",
       "      <td>thank ted cruz travel mexico set example</td>\n",
       "      <td>14</td>\n",
       "      <td>17</td>\n",
       "      <td>topic_0</td>\n",
       "    </tr>\n",
       "    <tr>\n",
       "      <th>326</th>\n",
       "      <td>332</td>\n",
       "      <td>2021-02-18 21:18:15+00:00</td>\n",
       "      <td>@patagonia @tedcruz @WornWear This is the kind...</td>\n",
       "      <td>1362511771416858640</td>\n",
       "      <td>{'_type': 'snscrape.modules.twitter.User', 'us...</td>\n",
       "      <td>1</td>\n",
       "      <td>1</td>\n",
       "      <td>147</td>\n",
       "      <td>0</td>\n",
       "      <td>NaN</td>\n",
       "      <td>...</td>\n",
       "      <td>[{'_type': 'snscrape.modules.twitter.User', 'u...</td>\n",
       "      <td>NaN</td>\n",
       "      <td>NaN</td>\n",
       "      <td>NaN</td>\n",
       "      <td>this is the kind of shade i come to twitter for.</td>\n",
       "      <td>[kind, shade, come, twitter]</td>\n",
       "      <td>kind shade come twitter</td>\n",
       "      <td>11</td>\n",
       "      <td>14</td>\n",
       "      <td>topic_3</td>\n",
       "    </tr>\n",
       "    <tr>\n",
       "      <th>310</th>\n",
       "      <td>316</td>\n",
       "      <td>2021-02-18 21:35:06+00:00</td>\n",
       "      <td>@patagonia @tedcruz @WornWear @patagonia can y...</td>\n",
       "      <td>1362516013028409346</td>\n",
       "      <td>{'_type': 'snscrape.modules.twitter.User', 'us...</td>\n",
       "      <td>0</td>\n",
       "      <td>3</td>\n",
       "      <td>132</td>\n",
       "      <td>1</td>\n",
       "      <td>NaN</td>\n",
       "      <td>...</td>\n",
       "      <td>[{'_type': 'snscrape.modules.twitter.User', 'u...</td>\n",
       "      <td>NaN</td>\n",
       "      <td>NaN</td>\n",
       "      <td>NaN</td>\n",
       "      <td>can you guarantee i won’t be getting anything ...</td>\n",
       "      <td>[guarantee, win, get, touch, purchase, gear, s...</td>\n",
       "      <td>guarantee win get touch purchase gear site lov...</td>\n",
       "      <td>27</td>\n",
       "      <td>32</td>\n",
       "      <td>topic_3</td>\n",
       "    </tr>\n",
       "    <tr>\n",
       "      <th>250</th>\n",
       "      <td>256</td>\n",
       "      <td>2021-02-19 01:42:09+00:00</td>\n",
       "      <td>@MannyMoreno16 @patagonia @tedcruz @WornWear '...</td>\n",
       "      <td>1362578186257588224</td>\n",
       "      <td>{'_type': 'snscrape.modules.twitter.User', 'us...</td>\n",
       "      <td>1</td>\n",
       "      <td>1</td>\n",
       "      <td>130</td>\n",
       "      <td>0</td>\n",
       "      <td>NaN</td>\n",
       "      <td>...</td>\n",
       "      <td>[{'_type': 'snscrape.modules.twitter.User', 'u...</td>\n",
       "      <td>NaN</td>\n",
       "      <td>NaN</td>\n",
       "      <td>NaN</td>\n",
       "      <td>'don't make this political.' did you just lear...</td>\n",
       "      <td>[political, learn, patagonia, today]</td>\n",
       "      <td>political learn patagonia today</td>\n",
       "      <td>11</td>\n",
       "      <td>15</td>\n",
       "      <td>topic_0</td>\n",
       "    </tr>\n",
       "  </tbody>\n",
       "</table>\n",
       "<p>5 rows × 22 columns</p>\n",
       "</div>"
      ],
      "text/plain": [
       "     index                       date  \\\n",
       "393    404  2020-09-14 18:08:46+00:00   \n",
       "330    336  2021-02-18 21:16:17+00:00   \n",
       "326    332  2021-02-18 21:18:15+00:00   \n",
       "310    316  2021-02-18 21:35:06+00:00   \n",
       "250    256  2021-02-19 01:42:09+00:00   \n",
       "\n",
       "                                               content                   id  \\\n",
       "393  @funkybunch50 Patagonia also has a website cal...  1305569191542566913   \n",
       "330  @patagonia @tedcruz @WornWear Thanks, Ted Cruz...  1362511279399690240   \n",
       "326  @patagonia @tedcruz @WornWear This is the kind...  1362511771416858640   \n",
       "310  @patagonia @tedcruz @WornWear @patagonia can y...  1362516013028409346   \n",
       "250  @MannyMoreno16 @patagonia @tedcruz @WornWear '...  1362578186257588224   \n",
       "\n",
       "                                                  user  replyCount  \\\n",
       "393  {'_type': 'snscrape.modules.twitter.User', 'us...           2   \n",
       "330  {'_type': 'snscrape.modules.twitter.User', 'us...           1   \n",
       "326  {'_type': 'snscrape.modules.twitter.User', 'us...           1   \n",
       "310  {'_type': 'snscrape.modules.twitter.User', 'us...           0   \n",
       "250  {'_type': 'snscrape.modules.twitter.User', 'us...           1   \n",
       "\n",
       "     retweetCount  likeCount  quoteCount media  ...  \\\n",
       "393            64        669           3   NaN  ...   \n",
       "330             5        173           0   NaN  ...   \n",
       "326             1        147           0   NaN  ...   \n",
       "310             3        132           1   NaN  ...   \n",
       "250             1        130           0   NaN  ...   \n",
       "\n",
       "                                        mentionedUsers coordinates place  \\\n",
       "393  [{'_type': 'snscrape.modules.twitter.User', 'u...         NaN   NaN   \n",
       "330  [{'_type': 'snscrape.modules.twitter.User', 'u...         NaN   NaN   \n",
       "326  [{'_type': 'snscrape.modules.twitter.User', 'u...         NaN   NaN   \n",
       "310  [{'_type': 'snscrape.modules.twitter.User', 'u...         NaN   NaN   \n",
       "250  [{'_type': 'snscrape.modules.twitter.User', 'u...         NaN   NaN   \n",
       "\n",
       "    hashtags                                              clean  \\\n",
       "393      NaN  patagonia also has a website called wornwear w...   \n",
       "330      NaN  thanks, ted cruz for travelling to mexico and ...   \n",
       "326      NaN   this is the kind of shade i come to twitter for.   \n",
       "310      NaN  can you guarantee i won’t be getting anything ...   \n",
       "250      NaN  'don't make this political.' did you just lear...   \n",
       "\n",
       "                                                 lemma  \\\n",
       "393  [patagonia, website, call, wornwear, sell, pie...   \n",
       "330   [thank, ted, cruz, travel, mexico, set, example]   \n",
       "326                       [kind, shade, come, twitter]   \n",
       "310  [guarantee, win, get, touch, purchase, gear, s...   \n",
       "250               [political, learn, patagonia, today]   \n",
       "\n",
       "                                          joined_lemma  wc wcbc  \\\n",
       "393  patagonia website call wornwear sell piece hel...  28   29   \n",
       "330           thank ted cruz travel mexico set example  14   17   \n",
       "326                            kind shade come twitter  11   14   \n",
       "310  guarantee win get touch purchase gear site lov...  27   32   \n",
       "250                    political learn patagonia today  11   15   \n",
       "\n",
       "     assigned_topic  \n",
       "393         topic_0  \n",
       "330         topic_0  \n",
       "326         topic_3  \n",
       "310         topic_3  \n",
       "250         topic_0  \n",
       "\n",
       "[5 rows x 22 columns]"
      ]
     },
     "execution_count": 1384,
     "metadata": {},
     "output_type": "execute_result"
    }
   ],
   "source": [
    "df.sort_values(by=['likeCount'], ascending=False).head(5)"
   ]
  },
  {
   "cell_type": "code",
   "execution_count": 716,
   "id": "fb252d30",
   "metadata": {},
   "outputs": [],
   "source": [
    "#09-11-2021. Studying at Nick's place, having my 2nd coffee cup and feeling a lot better after hanging out and taking a nice walk in the beautiful day. "
   ]
  },
  {
   "cell_type": "markdown",
   "id": "02a01d7e",
   "metadata": {},
   "source": [
    "# Checking the functionality of TextBlob correct"
   ]
  },
  {
   "cell_type": "code",
   "execution_count": 891,
   "id": "0e5c46ee",
   "metadata": {},
   "outputs": [],
   "source": [
    "#Trying TextBlob for correcting. \n",
    "from textblob import TextBlob"
   ]
  },
  {
   "cell_type": "code",
   "execution_count": 912,
   "id": "887fd01b",
   "metadata": {},
   "outputs": [
    {
     "data": {
      "text/plain": [
       "'finally got to test out my new (to me) raincoat results are stellar! thank you for letting me swap some gently used items for this excellent garment. win-win! ❤️ '"
      ]
     },
     "execution_count": 912,
     "metadata": {},
     "output_type": "execute_result"
    }
   ],
   "source": [
    "df.clean[4]"
   ]
  },
  {
   "cell_type": "code",
   "execution_count": 909,
   "id": "d8a157fa",
   "metadata": {},
   "outputs": [],
   "source": [
    "textBlb = TextBlob(df.clean[4])"
   ]
  },
  {
   "cell_type": "code",
   "execution_count": 910,
   "id": "652b341c",
   "metadata": {},
   "outputs": [],
   "source": [
    "textCorrected = textBlb.correct()   # Correcting the text"
   ]
  },
  {
   "cell_type": "code",
   "execution_count": 911,
   "id": "4f4a7408",
   "metadata": {},
   "outputs": [
    {
     "data": {
      "text/plain": [
       "TextBlob(\"finally got to test out my new (to me) raincoat results are cellar! thank you for letting me swap some gently used items for this excellent garment. win-win! ❤️ \")"
      ]
     },
     "execution_count": 911,
     "metadata": {},
     "output_type": "execute_result"
    }
   ],
   "source": [
    "textCorrected"
   ]
  },
  {
   "cell_type": "code",
   "execution_count": 1323,
   "id": "e23d477b",
   "metadata": {},
   "outputs": [],
   "source": [
    "#Hmmm... After trying with some documents, it seemed not to be a good fix for my application"
   ]
  },
  {
   "cell_type": "code",
   "execution_count": null,
   "id": "2657e2d6",
   "metadata": {},
   "outputs": [],
   "source": []
  }
 ],
 "metadata": {
  "kernelspec": {
   "display_name": "Python 3",
   "language": "python",
   "name": "python3"
  },
  "language_info": {
   "codemirror_mode": {
    "name": "ipython",
    "version": 3
   },
   "file_extension": ".py",
   "mimetype": "text/x-python",
   "name": "python",
   "nbconvert_exporter": "python",
   "pygments_lexer": "ipython3",
   "version": "3.8.8"
  }
 },
 "nbformat": 4,
 "nbformat_minor": 5
}
